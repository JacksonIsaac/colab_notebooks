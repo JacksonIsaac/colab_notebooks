{
  "nbformat": 4,
  "nbformat_minor": 0,
  "metadata": {
    "colab": {
      "name": "Chap1_machine_learning_in_action.ipynb",
      "version": "0.3.2",
      "provenance": [],
      "collapsed_sections": [],
      "include_colab_link": true
    },
    "kernelspec": {
      "name": "python3",
      "display_name": "Python 3"
    }
  },
  "cells": [
    {
      "cell_type": "markdown",
      "metadata": {
        "id": "view-in-github",
        "colab_type": "text"
      },
      "source": [
        "[View in Colaboratory](https://colab.research.google.com/github/JacksonIsaac/colab_notebooks/blob/master/Chap1_machine_learning_in_action.ipynb)"
      ]
    },
    {
      "metadata": {
        "id": "5kJ-UFzTyOPt",
        "colab_type": "text"
      },
      "cell_type": "markdown",
      "source": [
        "# Machine Learning in Action\n",
        "## Chapter 1"
      ]
    },
    {
      "metadata": {
        "id": "UqwCY9dU3fGH",
        "colab_type": "text"
      },
      "cell_type": "markdown",
      "source": [
        "### Training data set layout"
      ]
    },
    {
      "metadata": {
        "id": "j2obmdMk3rD1",
        "colab_type": "text"
      },
      "cell_type": "markdown",
      "source": [
        "x -> Features / Independent variables\n",
        "\n",
        "y -> Label / dependent variable\n",
        "\n",
        "\n",
        "![Features and Target Variable](https://www.safaribooksonline.com/library/view/machine-learning-in/9781617290183/01fig02_alt.jpg)"
      ]
    },
    {
      "metadata": {
        "id": "aC1UnPnN3rR-",
        "colab_type": "text"
      },
      "cell_type": "markdown",
      "source": [
        "### Supervised and Un-supervised tasks\n",
        "\n",
        "Supervised -> Classification, Prediction, etc.\n",
        "\n",
        "Un-supervised -> Clustering\n",
        "\n",
        "![Machine Learning tasks](https://i.imgur.com/zs3wtMT.png)"
      ]
    },
    {
      "metadata": {
        "id": "5wjSVYpq57hX",
        "colab_type": "text"
      },
      "cell_type": "markdown",
      "source": [
        "### Numpy Array and matrix"
      ]
    },
    {
      "metadata": {
        "id": "HMJvgm1w1gzH",
        "colab_type": "code",
        "colab": {}
      },
      "cell_type": "code",
      "source": [
        "import numpy as np"
      ],
      "execution_count": 0,
      "outputs": []
    },
    {
      "metadata": {
        "id": "87o6bT7j2LTy",
        "colab_type": "text"
      },
      "cell_type": "markdown",
      "source": [
        "Create a 4x4 array of random numbers"
      ]
    },
    {
      "metadata": {
        "id": "JMH1-diY1j_v",
        "colab_type": "code",
        "colab": {
          "base_uri": "https://localhost:8080/",
          "height": 84
        },
        "outputId": "09ddc91d-5a25-4e16-f412-6360f8066310"
      },
      "cell_type": "code",
      "source": [
        "np.random.rand(4, 4)"
      ],
      "execution_count": 2,
      "outputs": [
        {
          "output_type": "execute_result",
          "data": {
            "text/plain": [
              "array([[0.30152241, 0.71945387, 0.75783614, 0.2012428 ],\n",
              "       [0.50943159, 0.11033032, 0.90467055, 0.53723346],\n",
              "       [0.06136372, 0.1791022 , 0.21583837, 0.03556322],\n",
              "       [0.33831625, 0.87309895, 0.21208185, 0.4107346 ]])"
            ]
          },
          "metadata": {
            "tags": []
          },
          "execution_count": 2
        }
      ]
    },
    {
      "metadata": {
        "id": "YsrwpPXg2OqJ",
        "colab_type": "text"
      },
      "cell_type": "markdown",
      "source": [
        "We use mat() function to convert an array into matrix"
      ]
    },
    {
      "metadata": {
        "id": "aiFCfKyo1tPl",
        "colab_type": "code",
        "colab": {}
      },
      "cell_type": "code",
      "source": [
        "rand_mat = np.mat(np.random.rand(4, 4))"
      ],
      "execution_count": 0,
      "outputs": []
    },
    {
      "metadata": {
        "id": "-jLEJuCN2F2T",
        "colab_type": "code",
        "colab": {
          "base_uri": "https://localhost:8080/",
          "height": 84
        },
        "outputId": "20882980-0c1e-44dc-9649-27bc9ce01f46"
      },
      "cell_type": "code",
      "source": [
        "rand_mat"
      ],
      "execution_count": 4,
      "outputs": [
        {
          "output_type": "execute_result",
          "data": {
            "text/plain": [
              "matrix([[0.70874345, 0.68426487, 0.88454942, 0.51133547],\n",
              "        [0.52549947, 0.23607762, 0.66783886, 0.0502207 ],\n",
              "        [0.03239565, 0.87873196, 0.89867317, 0.8936896 ],\n",
              "        [0.13224244, 0.25796219, 0.77466257, 0.15579848]])"
            ]
          },
          "metadata": {
            "tags": []
          },
          "execution_count": 4
        }
      ]
    },
    {
      "metadata": {
        "id": "kcl906VB2HKJ",
        "colab_type": "text"
      },
      "cell_type": "markdown",
      "source": [
        "Computing Inverse of a matrix using .I operator"
      ]
    },
    {
      "metadata": {
        "id": "lzZKMTEs2W6I",
        "colab_type": "code",
        "colab": {
          "base_uri": "https://localhost:8080/",
          "height": 84
        },
        "outputId": "51b9924a-9511-4b57-cc84-d0aa5cb40f54"
      },
      "cell_type": "code",
      "source": [
        "rand_mat.I"
      ],
      "execution_count": 5,
      "outputs": [
        {
          "output_type": "execute_result",
          "data": {
            "text/plain": [
              "matrix([[  25.24473466,  -36.5260936 ,  -16.11491489,   21.3581649 ],\n",
              "        [-122.23279987,  189.0456903 ,   79.46478513, -115.59094195],\n",
              "        [  15.55130957,  -24.5674163 ,  -10.45298492,   16.83957764],\n",
              "        [ 103.63386078, -159.85318126,  -65.92040031,   95.94860093]])"
            ]
          },
          "metadata": {
            "tags": []
          },
          "execution_count": 5
        }
      ]
    },
    {
      "metadata": {
        "id": "R2VkyRnC2X4A",
        "colab_type": "code",
        "colab": {
          "base_uri": "https://localhost:8080/",
          "height": 151
        },
        "outputId": "018205ac-7339-4744-9e5a-a8f609b02433"
      },
      "cell_type": "code",
      "source": [
        "rand_mat * rand_mat.I"
      ],
      "execution_count": 6,
      "outputs": [
        {
          "output_type": "execute_result",
          "data": {
            "text/plain": [
              "matrix([[ 1.00000000e+00, -1.41617382e-14, -1.11515828e-14,\n",
              "          1.65536760e-14],\n",
              "        [ 9.91780548e-15,  1.00000000e+00, -5.56801923e-15,\n",
              "          1.21778245e-14],\n",
              "        [ 2.07320530e-14, -1.09165986e-14,  1.00000000e+00,\n",
              "          1.03478845e-14],\n",
              "        [ 4.61186712e-15, -3.22148221e-15, -1.96192866e-15,\n",
              "          1.00000000e+00]])"
            ]
          },
          "metadata": {
            "tags": []
          },
          "execution_count": 6
        }
      ]
    },
    {
      "metadata": {
        "id": "VOcwjTaa2fWm",
        "colab_type": "text"
      },
      "cell_type": "markdown",
      "source": [
        "Using eye() to create identity matrix"
      ]
    },
    {
      "metadata": {
        "id": "GbALVukW29YK",
        "colab_type": "code",
        "colab": {
          "base_uri": "https://localhost:8080/",
          "height": 84
        },
        "outputId": "bff29efb-474e-48c2-a4c5-14ecba3705de"
      },
      "cell_type": "code",
      "source": [
        "np.eye(4)"
      ],
      "execution_count": 8,
      "outputs": [
        {
          "output_type": "execute_result",
          "data": {
            "text/plain": [
              "array([[1., 0., 0., 0.],\n",
              "       [0., 1., 0., 0.],\n",
              "       [0., 0., 1., 0.],\n",
              "       [0., 0., 0., 1.]])"
            ]
          },
          "metadata": {
            "tags": []
          },
          "execution_count": 8
        }
      ]
    },
    {
      "metadata": {
        "id": "OqcwANrx3ALr",
        "colab_type": "code",
        "colab": {
          "base_uri": "https://localhost:8080/",
          "height": 151
        },
        "outputId": "0365afad-1710-440e-93e0-f480edf914ca"
      },
      "cell_type": "code",
      "source": [
        "(rand_mat * rand_mat.I) - np.eye(4)"
      ],
      "execution_count": 10,
      "outputs": [
        {
          "output_type": "execute_result",
          "data": {
            "text/plain": [
              "matrix([[ 1.08801856e-14, -1.41617382e-14, -1.11515828e-14,\n",
              "          1.65536760e-14],\n",
              "        [ 9.91780548e-15, -1.32116540e-14, -5.56801923e-15,\n",
              "          1.21778245e-14],\n",
              "        [ 2.07320530e-14, -1.09165986e-14, -1.74305015e-14,\n",
              "          1.03478845e-14],\n",
              "        [ 4.61186712e-15, -3.22148221e-15, -1.96192866e-15,\n",
              "          4.88498131e-15]])"
            ]
          },
          "metadata": {
            "tags": []
          },
          "execution_count": 10
        }
      ]
    },
    {
      "metadata": {
        "id": "NrzUu2xf3FPa",
        "colab_type": "code",
        "colab": {}
      },
      "cell_type": "code",
      "source": [
        ""
      ],
      "execution_count": 0,
      "outputs": []
    }
  ]
}