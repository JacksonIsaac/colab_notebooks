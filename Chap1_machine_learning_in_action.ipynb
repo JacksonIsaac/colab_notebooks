{
  "nbformat": 4,
  "nbformat_minor": 0,
  "metadata": {
    "colab": {
      "name": "Chap1_machine_learning_in_action.ipynb",
      "version": "0.3.2",
      "provenance": [],
      "include_colab_link": true
    },
    "kernelspec": {
      "name": "python3",
      "display_name": "Python 3"
    }
  },
  "cells": [
    {
      "cell_type": "markdown",
      "metadata": {
        "id": "view-in-github",
        "colab_type": "text"
      },
      "source": [
        "[View in Colaboratory](https://colab.research.google.com/github/JacksonIsaac/colab_notebooks/blob/master/Chap1_machine_learning_in_action.ipynb)"
      ]
    },
    {
      "metadata": {
        "id": "5kJ-UFzTyOPt",
        "colab_type": "text"
      },
      "cell_type": "markdown",
      "source": [
        "# Machine Learning in Action\n",
        "## Chapter 1"
      ]
    },
    {
      "metadata": {
        "id": "UqwCY9dU3fGH",
        "colab_type": "text"
      },
      "cell_type": "markdown",
      "source": [
        "### Training data set layout"
      ]
    },
    {
      "metadata": {
        "id": "j2obmdMk3rD1",
        "colab_type": "text"
      },
      "cell_type": "markdown",
      "source": [
        "x -> Features / Independent variables\n",
        "\n",
        "y -> Label / dependent variable\n",
        "\n",
        "\n",
        "![Features and Target Variable](https://www.safaribooksonline.com/library/view/machine-learning-in/9781617290183/01fig02_alt.jpg)"
      ]
    },
    {
      "metadata": {
        "id": "aC1UnPnN3rR-",
        "colab_type": "text"
      },
      "cell_type": "markdown",
      "source": [
        "### Supervised and Un-supervised tasks\n",
        "\n",
        "Supervised -> Classification, Prediction, etc.\n",
        "\n",
        "Un-supervised -> Clustering\n",
        "\n",
        "![Machine Learning tasks](https://i.imgur.com/zs3wtMT.png)"
      ]
    },
    {
      "metadata": {
        "id": "5wjSVYpq57hX",
        "colab_type": "code",
        "colab": {}
      },
      "cell_type": "code",
      "source": [
        ""
      ],
      "execution_count": 0,
      "outputs": []
    }
  ]
}