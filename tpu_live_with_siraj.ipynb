{
  "nbformat": 4,
  "nbformat_minor": 0,
  "metadata": {
    "colab": {
      "name": "tpu_live_with_siraj.ipynb",
      "version": "0.3.2",
      "provenance": [],
      "collapsed_sections": [],
      "include_colab_link": true
    },
    "kernelspec": {
      "name": "python3",
      "display_name": "Python 3"
    },
    "accelerator": "TPU"
  },
  "cells": [
    {
      "cell_type": "markdown",
      "metadata": {
        "id": "view-in-github",
        "colab_type": "text"
      },
      "source": [
        "[View in Colaboratory](https://colab.research.google.com/github/JacksonIsaac/colab_notebooks/blob/master/tpu_live_with_siraj.ipynb)"
      ]
    },
    {
      "metadata": {
        "id": "nvBzsuD3TlsU",
        "colab_type": "text"
      },
      "cell_type": "markdown",
      "source": [
        "# Colab Notebook created as part of Siraj's live video on TPU\n",
        "https://www.youtube.com/watch?v=jgNwywYcH4w"
      ]
    },
    {
      "metadata": {
        "id": "Nf7vCXIyT6jL",
        "colab_type": "code",
        "colab": {
          "base_uri": "https://localhost:8080/",
          "height": 258
        },
        "outputId": "edca69d8-500e-4b27-a0e3-0ebcfd383b2c"
      },
      "cell_type": "code",
      "source": [
        "# MXNet Demo\n",
        "!pip install mxnet-cu80\n",
        "\n",
        "import mxnet as mx"
      ],
      "execution_count": 1,
      "outputs": [
        {
          "output_type": "stream",
          "text": [
            "Collecting mxnet-cu80\n",
            "\u001b[?25l  Downloading https://files.pythonhosted.org/packages/10/e9/97a65f83f70b3ea94b7b2ed16b4612cc5ebcb12e6d42bb273b1bf7efd13b/mxnet_cu80-1.3.0.post0-py2.py3-none-manylinux1_x86_64.whl (306.4MB)\n",
            "\u001b[K    100% |████████████████████████████████| 306.4MB 91kB/s \n",
            "\u001b[?25hCollecting graphviz<0.9.0,>=0.8.1 (from mxnet-cu80)\n",
            "  Downloading https://files.pythonhosted.org/packages/53/39/4ab213673844e0c004bed8a0781a0721a3f6bb23eb8854ee75c236428892/graphviz-0.8.4-py2.py3-none-any.whl\n",
            "Requirement already satisfied: requests<2.19.0,>=2.18.4 in /usr/local/lib/python3.6/dist-packages (from mxnet-cu80) (2.18.4)\n",
            "Requirement already satisfied: numpy<1.15.0,>=1.8.2 in /usr/local/lib/python3.6/dist-packages (from mxnet-cu80) (1.14.6)\n",
            "Requirement already satisfied: chardet<3.1.0,>=3.0.2 in /usr/local/lib/python3.6/dist-packages (from requests<2.19.0,>=2.18.4->mxnet-cu80) (3.0.4)\n",
            "Requirement already satisfied: idna<2.7,>=2.5 in /usr/local/lib/python3.6/dist-packages (from requests<2.19.0,>=2.18.4->mxnet-cu80) (2.6)\n",
            "Requirement already satisfied: certifi>=2017.4.17 in /usr/local/lib/python3.6/dist-packages (from requests<2.19.0,>=2.18.4->mxnet-cu80) (2018.8.24)\n",
            "Requirement already satisfied: urllib3<1.23,>=1.21.1 in /usr/local/lib/python3.6/dist-packages (from requests<2.19.0,>=2.18.4->mxnet-cu80) (1.22)\n",
            "Installing collected packages: graphviz, mxnet-cu80\n",
            "Successfully installed graphviz-0.8.4 mxnet-cu80-1.3.0.post0\n"
          ],
          "name": "stdout"
        }
      ]
    },
    {
      "metadata": {
        "id": "F2C-J49fWU1w",
        "colab_type": "code",
        "colab": {
          "base_uri": "https://localhost:8080/",
          "height": 51
        },
        "outputId": "bf64b4e9-edfc-4988-de45-a6ddd9d89e2e"
      },
      "cell_type": "code",
      "source": [
        "# computation on CUDA\n",
        "a = mx.nd.ones((2, 3), mx.gpu())\n",
        "b = a * 2 + 1\n",
        "b.asnumpy()"
      ],
      "execution_count": 2,
      "outputs": [
        {
          "output_type": "execute_result",
          "data": {
            "text/plain": [
              "array([[3., 3., 3.],\n",
              "       [3., 3., 3.]], dtype=float32)"
            ]
          },
          "metadata": {
            "tags": []
          },
          "execution_count": 2
        }
      ]
    },
    {
      "metadata": {
        "id": "CAp-sLrNW2qU",
        "colab_type": "code",
        "colab": {}
      },
      "cell_type": "code",
      "source": [
        "import os\n",
        "import tensorflow as tf\n",
        "import time\n",
        "import numpy as np"
      ],
      "execution_count": 0,
      "outputs": []
    },
    {
      "metadata": {
        "id": "fItNH8YqatnA",
        "colab_type": "code",
        "colab": {
          "base_uri": "https://localhost:8080/",
          "height": 170
        },
        "outputId": "6391180a-50aa-426e-d110-4fb91b83935b"
      },
      "cell_type": "code",
      "source": [
        "# GPU Benchmark\n",
        "def add_op(x, y):\n",
        "    return x + y\n",
        "\n",
        "x = tf.placeholder(tf.float32, [100, ])\n",
        "y = tf.placeholder(tf.float32, [100, ])\n",
        "\n",
        "session = tf.Session()\n",
        "\n",
        "with tf.Session() as sess:\n",
        "    start = time.time()\n",
        "    res = sess.run(add_op(x, y), feed_dict={\n",
        "        x: np.arange(100), y: np.arange(100)\n",
        "    })\n",
        "    end = time.time()\n",
        "    print(end-start)\n",
        "    print(res)"
      ],
      "execution_count": 4,
      "outputs": [
        {
          "output_type": "stream",
          "text": [
            "0.009846925735473633\n",
            "[  0.   2.   4.   6.   8.  10.  12.  14.  16.  18.  20.  22.  24.  26.\n",
            "  28.  30.  32.  34.  36.  38.  40.  42.  44.  46.  48.  50.  52.  54.\n",
            "  56.  58.  60.  62.  64.  66.  68.  70.  72.  74.  76.  78.  80.  82.\n",
            "  84.  86.  88.  90.  92.  94.  96.  98. 100. 102. 104. 106. 108. 110.\n",
            " 112. 114. 116. 118. 120. 122. 124. 126. 128. 130. 132. 134. 136. 138.\n",
            " 140. 142. 144. 146. 148. 150. 152. 154. 156. 158. 160. 162. 164. 166.\n",
            " 168. 170. 172. 174. 176. 178. 180. 182. 184. 186. 188. 190. 192. 194.\n",
            " 196. 198.]\n"
          ],
          "name": "stdout"
        }
      ]
    },
    {
      "metadata": {
        "id": "YTAfPlfudEJ_",
        "colab_type": "code",
        "colab": {}
      },
      "cell_type": "code",
      "source": [
        "import os\n",
        "import tensorflow as tf\n",
        "import time\n",
        "import numpy as np"
      ],
      "execution_count": 0,
      "outputs": []
    },
    {
      "metadata": {
        "id": "8uWw6DGBbkZI",
        "colab_type": "code",
        "colab": {
          "base_uri": "https://localhost:8080/",
          "height": 170
        },
        "outputId": "3f8d2b8c-430c-4c60-c882-529b7f5c6f21"
      },
      "cell_type": "code",
      "source": [
        "# CPU Benchmark\n",
        "def add_op(x, y):\n",
        "    return x + y\n",
        "\n",
        "x = tf.placeholder(tf.float32, [100, ])\n",
        "y = tf.placeholder(tf.float32, [100, ])\n",
        "\n",
        "session = tf.Session()\n",
        "\n",
        "with tf.Session() as sess:\n",
        "    start = time.time()\n",
        "    res = sess.run(add_op(x, y), feed_dict={\n",
        "        x: np.arange(100), y: np.arange(100)\n",
        "    })\n",
        "    end = time.time()\n",
        "    print(end-start)\n",
        "    print(res)"
      ],
      "execution_count": 2,
      "outputs": [
        {
          "output_type": "stream",
          "text": [
            "0.008098363876342773\n",
            "[  0.   2.   4.   6.   8.  10.  12.  14.  16.  18.  20.  22.  24.  26.\n",
            "  28.  30.  32.  34.  36.  38.  40.  42.  44.  46.  48.  50.  52.  54.\n",
            "  56.  58.  60.  62.  64.  66.  68.  70.  72.  74.  76.  78.  80.  82.\n",
            "  84.  86.  88.  90.  92.  94.  96.  98. 100. 102. 104. 106. 108. 110.\n",
            " 112. 114. 116. 118. 120. 122. 124. 126. 128. 130. 132. 134. 136. 138.\n",
            " 140. 142. 144. 146. 148. 150. 152. 154. 156. 158. 160. 162. 164. 166.\n",
            " 168. 170. 172. 174. 176. 178. 180. 182. 184. 186. 188. 190. 192. 194.\n",
            " 196. 198.]\n"
          ],
          "name": "stdout"
        }
      ]
    },
    {
      "metadata": {
        "id": "EprlS5FldFED",
        "colab_type": "code",
        "colab": {}
      },
      "cell_type": "code",
      "source": [
        "import os\n",
        "import tensorflow as tf\n",
        "import time\n",
        "import numpy as np"
      ],
      "execution_count": 0,
      "outputs": []
    },
    {
      "metadata": {
        "id": "ZuIeSLaibnVn",
        "colab_type": "code",
        "colab": {
          "base_uri": "https://localhost:8080/",
          "height": 71
        },
        "outputId": "ee2cd9c8-df21-4eca-d420-39bd99b8e820"
      },
      "cell_type": "code",
      "source": [
        "# TPU Benchmark\n",
        "tpu_address = 'grpc://' + os.environ['COLAB_TPU_ADDR']\n",
        "print('TPU_Address', tpu_address)\n",
        "\n",
        "with tf.Session(tpu_address) as session:\n",
        "    dev = session.list_devices()\n",
        "    \n",
        "print('TPU Devices', dev)"
      ],
      "execution_count": 2,
      "outputs": [
        {
          "output_type": "stream",
          "text": [
            "TPU_Address grpc://10.79.61.194:8470\n",
            "TPU Devices [_DeviceAttributes(/job:tpu_worker/replica:0/task:0/device:CPU:0, CPU, -1, 2561461691710169567), _DeviceAttributes(/job:tpu_worker/replica:0/task:0/device:XLA_CPU:0, XLA_CPU, 17179869184, 5864152597223036401), _DeviceAttributes(/job:tpu_worker/replica:0/task:0/device:XLA_GPU:0, XLA_GPU, 17179869184, 7174536704746416351), _DeviceAttributes(/job:tpu_worker/replica:0/task:0/device:TPU:0, TPU, 17179869184, 10236807569227243380), _DeviceAttributes(/job:tpu_worker/replica:0/task:0/device:TPU:1, TPU, 17179869184, 3315869219522378338), _DeviceAttributes(/job:tpu_worker/replica:0/task:0/device:TPU:2, TPU, 17179869184, 964246280117800213), _DeviceAttributes(/job:tpu_worker/replica:0/task:0/device:TPU:3, TPU, 17179869184, 1802847823513647630), _DeviceAttributes(/job:tpu_worker/replica:0/task:0/device:TPU:4, TPU, 17179869184, 6509920886811265224), _DeviceAttributes(/job:tpu_worker/replica:0/task:0/device:TPU:5, TPU, 17179869184, 1638878656412924063), _DeviceAttributes(/job:tpu_worker/replica:0/task:0/device:TPU:6, TPU, 17179869184, 3054472451658628123), _DeviceAttributes(/job:tpu_worker/replica:0/task:0/device:TPU:7, TPU, 17179869184, 11378453923400690685), _DeviceAttributes(/job:tpu_worker/replica:0/task:0/device:TPU_SYSTEM:0, TPU_SYSTEM, 17179869184, 6164804663646582519)]\n"
          ],
          "name": "stdout"
        }
      ]
    },
    {
      "metadata": {
        "id": "nNBm3jvYcHHR",
        "colab_type": "code",
        "colab": {
          "base_uri": "https://localhost:8080/",
          "height": 204
        },
        "outputId": "ee62e3e6-4c89-43a2-9243-0aa064884e2a"
      },
      "cell_type": "code",
      "source": [
        "# TPU Benchmark\n",
        "def add_op(x, y):\n",
        "    return x + y\n",
        "\n",
        "x = tf.placeholder(tf.float32, [100, ])\n",
        "y = tf.placeholder(tf.float32, [100, ])\n",
        "\n",
        "## Rewrite add_op function\n",
        "tpu_ops = tf.contrib.tpu.rewrite(add_op, [x, y])\n",
        "\n",
        "session = tf.Session(tpu_address)\n",
        "\n",
        "try:\n",
        "    session.run(tf.contrib.tpu.initialize_system())\n",
        "    start = time.time()\n",
        "    print(session.run(tpu_ops, {\n",
        "        x: np.arange(100), y: np.arange(100)\n",
        "    }))\n",
        "    end = time.time()\n",
        "    print(end-start)\n",
        "finally:\n",
        "    session.run(tf.contrib.tpu.shutdown_system())\n",
        "    session.close()"
      ],
      "execution_count": 6,
      "outputs": [
        {
          "output_type": "stream",
          "text": [
            "[array([  0.,   2.,   4.,   6.,   8.,  10.,  12.,  14.,  16.,  18.,  20.,\n",
            "        22.,  24.,  26.,  28.,  30.,  32.,  34.,  36.,  38.,  40.,  42.,\n",
            "        44.,  46.,  48.,  50.,  52.,  54.,  56.,  58.,  60.,  62.,  64.,\n",
            "        66.,  68.,  70.,  72.,  74.,  76.,  78.,  80.,  82.,  84.,  86.,\n",
            "        88.,  90.,  92.,  94.,  96.,  98., 100., 102., 104., 106., 108.,\n",
            "       110., 112., 114., 116., 118., 120., 122., 124., 126., 128., 130.,\n",
            "       132., 134., 136., 138., 140., 142., 144., 146., 148., 150., 152.,\n",
            "       154., 156., 158., 160., 162., 164., 166., 168., 170., 172., 174.,\n",
            "       176., 178., 180., 182., 184., 186., 188., 190., 192., 194., 196.,\n",
            "       198.], dtype=float32)]\n",
            "0.01764702796936035\n"
          ],
          "name": "stdout"
        }
      ]
    },
    {
      "metadata": {
        "id": "1rFNHXIBc8iv",
        "colab_type": "code",
        "colab": {}
      },
      "cell_type": "code",
      "source": [
        ""
      ],
      "execution_count": 0,
      "outputs": []
    }
  ]
}