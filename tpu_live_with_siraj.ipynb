{
  "nbformat": 4,
  "nbformat_minor": 0,
  "metadata": {
    "colab": {
      "name": "tpu_live_with_siraj.ipynb",
      "version": "0.3.2",
      "provenance": [],
      "include_colab_link": true
    },
    "kernelspec": {
      "name": "python3",
      "display_name": "Python 3"
    },
    "accelerator": "TPU"
  },
  "cells": [
    {
      "cell_type": "markdown",
      "metadata": {
        "id": "view-in-github",
        "colab_type": "text"
      },
      "source": [
        "[View in Colaboratory](https://colab.research.google.com/github/JacksonIsaac/colab_notebooks/blob/master/tpu_live_with_siraj.ipynb)"
      ]
    },
    {
      "metadata": {
        "id": "nvBzsuD3TlsU",
        "colab_type": "text"
      },
      "cell_type": "markdown",
      "source": [
        "# Colab Notebook created as part of Siraj's live video on TPU\n",
        "https://www.youtube.com/watch?v=jgNwywYcH4w"
      ]
    },
    {
      "metadata": {
        "id": "Nf7vCXIyT6jL",
        "colab_type": "code",
        "colab": {}
      },
      "cell_type": "code",
      "source": [
        ""
      ],
      "execution_count": 0,
      "outputs": []
    }
  ]
}