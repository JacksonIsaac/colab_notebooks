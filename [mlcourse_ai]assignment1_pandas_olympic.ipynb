{
  "nbformat": 4,
  "nbformat_minor": 0,
  "metadata": {
    "colab": {
      "name": "[mlcourse.ai]assignment1_pandas_olympic.ipynb",
      "version": "0.3.2",
      "provenance": [],
      "collapsed_sections": [],
      "include_colab_link": true
    },
    "kernelspec": {
      "display_name": "Python 3",
      "language": "python",
      "name": "python3"
    }
  },
  "cells": [
    {
      "cell_type": "markdown",
      "metadata": {
        "id": "view-in-github",
        "colab_type": "text"
      },
      "source": [
        "[View in Colaboratory](https://colab.research.google.com/github/JacksonIsaac/colab_notebooks/blob/master/[mlcourse_ai]assignment1_pandas_olympic.ipynb)"
      ]
    },
    {
      "metadata": {
        "id": "Z0yZ9eigxY3E",
        "colab_type": "text"
      },
      "cell_type": "markdown",
      "source": [
        "<center>\n",
        "<img src=\"https://github.com/Yorko/mlcourse.ai/blob/master/img/ods_stickers.jpg?raw=1\" />\n",
        "    \n",
        "## [mlcourse.ai](mlcourse.ai) – Open Machine Learning Course \n",
        "Author: Arina Lopukhova (@erynn). Edited by [Yury Kashnitskiy](https://yorko.github.io) (@yorko). This material is subject to the terms and conditions of the [Creative Commons CC BY-NC-SA 4.0](https://creativecommons.org/licenses/by-nc-sa/4.0/) license. Free use is permitted for any non-commercial purpose."
      ]
    },
    {
      "metadata": {
        "id": "fxlPlK4CxY3T",
        "colab_type": "text"
      },
      "cell_type": "markdown",
      "source": [
        "<h1><center>Assignment #1. Fall 2018</center></h1>\n",
        "<h2><center>Exploratory data analysis of Olympic games with Pandas</center></h2>"
      ]
    },
    {
      "metadata": {
        "id": "cXdGHpqZxY3d",
        "colab_type": "text"
      },
      "cell_type": "markdown",
      "source": [
        "__There are ten questions about [120 years of Olympic history: athletes and results](https://www.kaggle.com/heesoo37/120-years-of-olympic-history-athletes-and-results/version/2) dataset in this task. Your task is to fill in the missing Python code and choose answers in [this web-form](https://docs.google.com/forms/d/179HYvlF_0x435CWdu2aOtR9a3flh0YCQXXNXhXaKw2M).__"
      ]
    },
    {
      "metadata": {
        "id": "Yi4MYo1LxY3q",
        "colab_type": "text"
      },
      "cell_type": "markdown",
      "source": [
        "Download the file `athlete_events.csv` from [Kaggle page](https://www.kaggle.com/heesoo37/120-years-of-olympic-history-athletes-and-results). The dataset has the following features (copied from Kaggle):\n",
        "\n",
        "- __ID__ - Unique number for each athlete\n",
        "- __Name__ - Athlete's name\n",
        "- __Sex__ - M or F\n",
        "- __Age__ - Integer\n",
        "- __Height__ - In centimeters\n",
        "- __Weight__ - In kilograms\n",
        "- __Team__ - Team name\n",
        "- __NOC__ - National Olympic Committee 3-letter code\n",
        "- __Games__ - Year and season\n",
        "- __Year__ - Integer\n",
        "- __Season__ - Summer or Winter\n",
        "- __City__ - Host city\n",
        "- __Sport__ - Sport\n",
        "- __Event__ - Event\n",
        "- __Medal__ - Gold, Silver, Bronze, or NA"
      ]
    },
    {
      "metadata": {
        "id": "cMs948RE8X4-",
        "colab_type": "code",
        "colab": {
          "base_uri": "https://localhost:8080/",
          "height": 524
        },
        "outputId": "770e3cad-f120-4c08-a475-e15c2edd7238"
      },
      "cell_type": "code",
      "source": [
        "# Mount Google drive using built-in API\n",
        "from google.colab import drive\n",
        "drive.mount('/content/drive')\n",
        "\n",
        "# Create home directory for kaggle where kaggle-api reads config from\n",
        "!mkdir -p ~/.kaggle\n",
        "!cp /content/drive/My\\ Drive/kaggle_competitions/kaggle.json ~/.kaggle\n",
        "\n",
        "!pip install kaggle"
      ],
      "execution_count": 1,
      "outputs": [
        {
          "output_type": "stream",
          "text": [
            "Go to this URL in a browser: https://accounts.google.com/o/oauth2/auth?client_id=947318989803-6bn6qk8qdgf4n4g3pfee6491hc0brc4i.apps.googleusercontent.com&redirect_uri=urn%3Aietf%3Awg%3Aoauth%3A2.0%3Aoob&scope=email%20https%3A%2F%2Fwww.googleapis.com%2Fauth%2Fdocs.test%20https%3A%2F%2Fwww.googleapis.com%2Fauth%2Fdrive%20https%3A%2F%2Fwww.googleapis.com%2Fauth%2Fdrive.photos.readonly%20https%3A%2F%2Fwww.googleapis.com%2Fauth%2Fpeopleapi.readonly&response_type=code\n",
            "\n",
            "Enter your authorization code:\n",
            "··········\n",
            "Mounted at /content/drive\n",
            "Collecting kaggle\n",
            "\u001b[?25l  Downloading https://files.pythonhosted.org/packages/c6/78/832b9a9ec6b3baf8ec566e1f0a695f2fd08d2c94a6797257a106304bfc3c/kaggle-1.4.7.1.tar.gz (52kB)\n",
            "\u001b[K    100% |████████████████████████████████| 61kB 2.2MB/s \n",
            "\u001b[?25hRequirement already satisfied: urllib3<1.23.0,>=1.15 in /usr/local/lib/python3.6/dist-packages (from kaggle) (1.22)\n",
            "Requirement already satisfied: six>=1.10 in /usr/local/lib/python3.6/dist-packages (from kaggle) (1.11.0)\n",
            "Requirement already satisfied: certifi in /usr/local/lib/python3.6/dist-packages (from kaggle) (2018.8.24)\n",
            "Requirement already satisfied: python-dateutil in /usr/local/lib/python3.6/dist-packages (from kaggle) (2.5.3)\n",
            "Requirement already satisfied: requests in /usr/local/lib/python3.6/dist-packages (from kaggle) (2.18.4)\n",
            "Requirement already satisfied: tqdm in /usr/local/lib/python3.6/dist-packages (from kaggle) (4.26.0)\n",
            "Collecting python-slugify (from kaggle)\n",
            "  Downloading https://files.pythonhosted.org/packages/00/ad/c778a6df614b6217c30fe80045b365bfa08b5dd3cb02e8b37a6d25126781/python-slugify-1.2.6.tar.gz\n",
            "Requirement already satisfied: chardet<3.1.0,>=3.0.2 in /usr/local/lib/python3.6/dist-packages (from requests->kaggle) (3.0.4)\n",
            "Requirement already satisfied: idna<2.7,>=2.5 in /usr/local/lib/python3.6/dist-packages (from requests->kaggle) (2.6)\n",
            "Collecting Unidecode>=0.04.16 (from python-slugify->kaggle)\n",
            "\u001b[?25l  Downloading https://files.pythonhosted.org/packages/59/ef/67085e30e8bbcdd76e2f0a4ad8151c13a2c5bce77c85f8cad6e1f16fb141/Unidecode-1.0.22-py2.py3-none-any.whl (235kB)\n",
            "\u001b[K    100% |████████████████████████████████| 235kB 5.5MB/s \n",
            "\u001b[?25hBuilding wheels for collected packages: kaggle, python-slugify\n",
            "  Running setup.py bdist_wheel for kaggle ... \u001b[?25l-\b \bdone\n",
            "\u001b[?25h  Stored in directory: /root/.cache/pip/wheels/44/2c/df/22a6eeb780c36c28190faef6252b739fdc47145fd87a6642d4\n",
            "  Running setup.py bdist_wheel for python-slugify ... \u001b[?25l-\b \bdone\n",
            "\u001b[?25h  Stored in directory: /root/.cache/pip/wheels/e3/65/da/2045deea3098ed7471eca0e2460cfbd3fdfe8c1d6fa6fcac92\n",
            "Successfully built kaggle python-slugify\n",
            "Installing collected packages: Unidecode, python-slugify, kaggle\n",
            "Successfully installed Unidecode-1.0.22 kaggle-1.4.7.1 python-slugify-1.2.6\n"
          ],
          "name": "stdout"
        }
      ]
    },
    {
      "metadata": {
        "id": "iu0ha5jW801U",
        "colab_type": "code",
        "colab": {
          "base_uri": "https://localhost:8080/",
          "height": 67
        },
        "outputId": "4678cc6f-00e7-482e-da81-9434d1b9c023"
      },
      "cell_type": "code",
      "source": [
        "!kaggle datasets download -d heesoo37/120-years-of-olympic-history-athletes-and-results"
      ],
      "execution_count": 3,
      "outputs": [
        {
          "output_type": "stream",
          "text": [
            "Downloading 120-years-of-olympic-history-athletes-and-results.zip to /content\n",
            "\r  0% 0.00/5.43M [00:00<?, ?B/s]\n",
            "\r100% 5.43M/5.43M [00:00<00:00, 67.8MB/s]\n"
          ],
          "name": "stdout"
        }
      ]
    },
    {
      "metadata": {
        "id": "iOW-gwXl86Js",
        "colab_type": "code",
        "colab": {
          "base_uri": "https://localhost:8080/",
          "height": 67
        },
        "outputId": "6108c1ec-952a-4319-9d23-6748a0ac90f7"
      },
      "cell_type": "code",
      "source": [
        "!unzip 120-years-of-olympic-history-athletes-and-results.zip"
      ],
      "execution_count": 5,
      "outputs": [
        {
          "output_type": "stream",
          "text": [
            "Archive:  120-years-of-olympic-history-athletes-and-results.zip\n",
            "  inflating: noc_regions.csv         \n",
            "  inflating: athlete_events.csv      \n"
          ],
          "name": "stdout"
        }
      ]
    },
    {
      "metadata": {
        "id": "p4RGQ27y8-Uj",
        "colab_type": "code",
        "colab": {
          "base_uri": "https://localhost:8080/",
          "height": 67
        },
        "outputId": "521f9253-4b30-44be-ea68-425f6a71280b"
      },
      "cell_type": "code",
      "source": [
        "!ls"
      ],
      "execution_count": 6,
      "outputs": [
        {
          "output_type": "stream",
          "text": [
            "120-years-of-olympic-history-athletes-and-results.zip  noc_regions.csv\n",
            "athlete_events.csv\t\t\t\t       sample_data\n",
            "drive\n"
          ],
          "name": "stdout"
        }
      ]
    },
    {
      "metadata": {
        "id": "H3OmLPF-xY3w",
        "colab_type": "code",
        "colab": {}
      },
      "cell_type": "code",
      "source": [
        "import pandas as pd"
      ],
      "execution_count": 0,
      "outputs": []
    },
    {
      "metadata": {
        "id": "-P19kQcHxY4I",
        "colab_type": "code",
        "colab": {}
      },
      "cell_type": "code",
      "source": [
        "# Change the path to the dataset file if needed. \n",
        "PATH = 'athlete_events.csv'"
      ],
      "execution_count": 0,
      "outputs": []
    },
    {
      "metadata": {
        "id": "vTY18ncJxY4j",
        "colab_type": "code",
        "colab": {
          "base_uri": "https://localhost:8080/",
          "height": 380
        },
        "outputId": "886919d8-cc6f-482e-db34-ce6d8db58ad1"
      },
      "cell_type": "code",
      "source": [
        "data = pd.read_csv(PATH)\n",
        "data.head()"
      ],
      "execution_count": 9,
      "outputs": [
        {
          "output_type": "execute_result",
          "data": {
            "text/html": [
              "<div>\n",
              "<style scoped>\n",
              "    .dataframe tbody tr th:only-of-type {\n",
              "        vertical-align: middle;\n",
              "    }\n",
              "\n",
              "    .dataframe tbody tr th {\n",
              "        vertical-align: top;\n",
              "    }\n",
              "\n",
              "    .dataframe thead th {\n",
              "        text-align: right;\n",
              "    }\n",
              "</style>\n",
              "<table border=\"1\" class=\"dataframe\">\n",
              "  <thead>\n",
              "    <tr style=\"text-align: right;\">\n",
              "      <th></th>\n",
              "      <th>ID</th>\n",
              "      <th>Name</th>\n",
              "      <th>Sex</th>\n",
              "      <th>Age</th>\n",
              "      <th>Height</th>\n",
              "      <th>Weight</th>\n",
              "      <th>Team</th>\n",
              "      <th>NOC</th>\n",
              "      <th>Games</th>\n",
              "      <th>Year</th>\n",
              "      <th>Season</th>\n",
              "      <th>City</th>\n",
              "      <th>Sport</th>\n",
              "      <th>Event</th>\n",
              "      <th>Medal</th>\n",
              "    </tr>\n",
              "  </thead>\n",
              "  <tbody>\n",
              "    <tr>\n",
              "      <th>0</th>\n",
              "      <td>1</td>\n",
              "      <td>A Dijiang</td>\n",
              "      <td>M</td>\n",
              "      <td>24.0</td>\n",
              "      <td>180.0</td>\n",
              "      <td>80.0</td>\n",
              "      <td>China</td>\n",
              "      <td>CHN</td>\n",
              "      <td>1992 Summer</td>\n",
              "      <td>1992</td>\n",
              "      <td>Summer</td>\n",
              "      <td>Barcelona</td>\n",
              "      <td>Basketball</td>\n",
              "      <td>Basketball Men's Basketball</td>\n",
              "      <td>NaN</td>\n",
              "    </tr>\n",
              "    <tr>\n",
              "      <th>1</th>\n",
              "      <td>2</td>\n",
              "      <td>A Lamusi</td>\n",
              "      <td>M</td>\n",
              "      <td>23.0</td>\n",
              "      <td>170.0</td>\n",
              "      <td>60.0</td>\n",
              "      <td>China</td>\n",
              "      <td>CHN</td>\n",
              "      <td>2012 Summer</td>\n",
              "      <td>2012</td>\n",
              "      <td>Summer</td>\n",
              "      <td>London</td>\n",
              "      <td>Judo</td>\n",
              "      <td>Judo Men's Extra-Lightweight</td>\n",
              "      <td>NaN</td>\n",
              "    </tr>\n",
              "    <tr>\n",
              "      <th>2</th>\n",
              "      <td>3</td>\n",
              "      <td>Gunnar Nielsen Aaby</td>\n",
              "      <td>M</td>\n",
              "      <td>24.0</td>\n",
              "      <td>NaN</td>\n",
              "      <td>NaN</td>\n",
              "      <td>Denmark</td>\n",
              "      <td>DEN</td>\n",
              "      <td>1920 Summer</td>\n",
              "      <td>1920</td>\n",
              "      <td>Summer</td>\n",
              "      <td>Antwerpen</td>\n",
              "      <td>Football</td>\n",
              "      <td>Football Men's Football</td>\n",
              "      <td>NaN</td>\n",
              "    </tr>\n",
              "    <tr>\n",
              "      <th>3</th>\n",
              "      <td>4</td>\n",
              "      <td>Edgar Lindenau Aabye</td>\n",
              "      <td>M</td>\n",
              "      <td>34.0</td>\n",
              "      <td>NaN</td>\n",
              "      <td>NaN</td>\n",
              "      <td>Denmark/Sweden</td>\n",
              "      <td>DEN</td>\n",
              "      <td>1900 Summer</td>\n",
              "      <td>1900</td>\n",
              "      <td>Summer</td>\n",
              "      <td>Paris</td>\n",
              "      <td>Tug-Of-War</td>\n",
              "      <td>Tug-Of-War Men's Tug-Of-War</td>\n",
              "      <td>Gold</td>\n",
              "    </tr>\n",
              "    <tr>\n",
              "      <th>4</th>\n",
              "      <td>5</td>\n",
              "      <td>Christine Jacoba Aaftink</td>\n",
              "      <td>F</td>\n",
              "      <td>21.0</td>\n",
              "      <td>185.0</td>\n",
              "      <td>82.0</td>\n",
              "      <td>Netherlands</td>\n",
              "      <td>NED</td>\n",
              "      <td>1988 Winter</td>\n",
              "      <td>1988</td>\n",
              "      <td>Winter</td>\n",
              "      <td>Calgary</td>\n",
              "      <td>Speed Skating</td>\n",
              "      <td>Speed Skating Women's 500 metres</td>\n",
              "      <td>NaN</td>\n",
              "    </tr>\n",
              "  </tbody>\n",
              "</table>\n",
              "</div>"
            ],
            "text/plain": [
              "   ID                      Name Sex   Age  Height  Weight            Team  \\\n",
              "0   1                 A Dijiang   M  24.0   180.0    80.0           China   \n",
              "1   2                  A Lamusi   M  23.0   170.0    60.0           China   \n",
              "2   3       Gunnar Nielsen Aaby   M  24.0     NaN     NaN         Denmark   \n",
              "3   4      Edgar Lindenau Aabye   M  34.0     NaN     NaN  Denmark/Sweden   \n",
              "4   5  Christine Jacoba Aaftink   F  21.0   185.0    82.0     Netherlands   \n",
              "\n",
              "   NOC        Games  Year  Season       City          Sport  \\\n",
              "0  CHN  1992 Summer  1992  Summer  Barcelona     Basketball   \n",
              "1  CHN  2012 Summer  2012  Summer     London           Judo   \n",
              "2  DEN  1920 Summer  1920  Summer  Antwerpen       Football   \n",
              "3  DEN  1900 Summer  1900  Summer      Paris     Tug-Of-War   \n",
              "4  NED  1988 Winter  1988  Winter    Calgary  Speed Skating   \n",
              "\n",
              "                              Event Medal  \n",
              "0       Basketball Men's Basketball   NaN  \n",
              "1      Judo Men's Extra-Lightweight   NaN  \n",
              "2           Football Men's Football   NaN  \n",
              "3       Tug-Of-War Men's Tug-Of-War  Gold  \n",
              "4  Speed Skating Women's 500 metres   NaN  "
            ]
          },
          "metadata": {
            "tags": []
          },
          "execution_count": 9
        }
      ]
    },
    {
      "metadata": {
        "id": "s8qXGHDBxY5A",
        "colab_type": "text"
      },
      "cell_type": "markdown",
      "source": [
        "__1. How old were the youngest male and female participants of the 1996 Olympics?__\n",
        "\n",
        "- 16 and 15\n",
        "- ** *14 and 12* **\n",
        "- 16 and 12\n",
        "- 13 and 11"
      ]
    },
    {
      "metadata": {
        "id": "5tWN0dXhxY5F",
        "colab_type": "code",
        "colab": {}
      },
      "cell_type": "code",
      "source": [
        "# You code here \n",
        "data_male = data.loc[data['Sex'] == 'M']\n",
        "data_female = data.loc[data['Sex'] == 'F']"
      ],
      "execution_count": 0,
      "outputs": []
    },
    {
      "metadata": {
        "id": "InP4R1N89lgM",
        "colab_type": "code",
        "colab": {
          "base_uri": "https://localhost:8080/",
          "height": 397
        },
        "outputId": "5a19d231-30cc-44c1-de71-20a66916890d"
      },
      "cell_type": "code",
      "source": [
        "data_male.head()"
      ],
      "execution_count": 14,
      "outputs": [
        {
          "output_type": "execute_result",
          "data": {
            "text/html": [
              "<div>\n",
              "<style scoped>\n",
              "    .dataframe tbody tr th:only-of-type {\n",
              "        vertical-align: middle;\n",
              "    }\n",
              "\n",
              "    .dataframe tbody tr th {\n",
              "        vertical-align: top;\n",
              "    }\n",
              "\n",
              "    .dataframe thead th {\n",
              "        text-align: right;\n",
              "    }\n",
              "</style>\n",
              "<table border=\"1\" class=\"dataframe\">\n",
              "  <thead>\n",
              "    <tr style=\"text-align: right;\">\n",
              "      <th></th>\n",
              "      <th>ID</th>\n",
              "      <th>Name</th>\n",
              "      <th>Sex</th>\n",
              "      <th>Age</th>\n",
              "      <th>Height</th>\n",
              "      <th>Weight</th>\n",
              "      <th>Team</th>\n",
              "      <th>NOC</th>\n",
              "      <th>Games</th>\n",
              "      <th>Year</th>\n",
              "      <th>Season</th>\n",
              "      <th>City</th>\n",
              "      <th>Sport</th>\n",
              "      <th>Event</th>\n",
              "      <th>Medal</th>\n",
              "    </tr>\n",
              "  </thead>\n",
              "  <tbody>\n",
              "    <tr>\n",
              "      <th>0</th>\n",
              "      <td>1</td>\n",
              "      <td>A Dijiang</td>\n",
              "      <td>M</td>\n",
              "      <td>24.0</td>\n",
              "      <td>180.0</td>\n",
              "      <td>80.0</td>\n",
              "      <td>China</td>\n",
              "      <td>CHN</td>\n",
              "      <td>1992 Summer</td>\n",
              "      <td>1992</td>\n",
              "      <td>Summer</td>\n",
              "      <td>Barcelona</td>\n",
              "      <td>Basketball</td>\n",
              "      <td>Basketball Men's Basketball</td>\n",
              "      <td>NaN</td>\n",
              "    </tr>\n",
              "    <tr>\n",
              "      <th>1</th>\n",
              "      <td>2</td>\n",
              "      <td>A Lamusi</td>\n",
              "      <td>M</td>\n",
              "      <td>23.0</td>\n",
              "      <td>170.0</td>\n",
              "      <td>60.0</td>\n",
              "      <td>China</td>\n",
              "      <td>CHN</td>\n",
              "      <td>2012 Summer</td>\n",
              "      <td>2012</td>\n",
              "      <td>Summer</td>\n",
              "      <td>London</td>\n",
              "      <td>Judo</td>\n",
              "      <td>Judo Men's Extra-Lightweight</td>\n",
              "      <td>NaN</td>\n",
              "    </tr>\n",
              "    <tr>\n",
              "      <th>2</th>\n",
              "      <td>3</td>\n",
              "      <td>Gunnar Nielsen Aaby</td>\n",
              "      <td>M</td>\n",
              "      <td>24.0</td>\n",
              "      <td>NaN</td>\n",
              "      <td>NaN</td>\n",
              "      <td>Denmark</td>\n",
              "      <td>DEN</td>\n",
              "      <td>1920 Summer</td>\n",
              "      <td>1920</td>\n",
              "      <td>Summer</td>\n",
              "      <td>Antwerpen</td>\n",
              "      <td>Football</td>\n",
              "      <td>Football Men's Football</td>\n",
              "      <td>NaN</td>\n",
              "    </tr>\n",
              "    <tr>\n",
              "      <th>3</th>\n",
              "      <td>4</td>\n",
              "      <td>Edgar Lindenau Aabye</td>\n",
              "      <td>M</td>\n",
              "      <td>34.0</td>\n",
              "      <td>NaN</td>\n",
              "      <td>NaN</td>\n",
              "      <td>Denmark/Sweden</td>\n",
              "      <td>DEN</td>\n",
              "      <td>1900 Summer</td>\n",
              "      <td>1900</td>\n",
              "      <td>Summer</td>\n",
              "      <td>Paris</td>\n",
              "      <td>Tug-Of-War</td>\n",
              "      <td>Tug-Of-War Men's Tug-Of-War</td>\n",
              "      <td>Gold</td>\n",
              "    </tr>\n",
              "    <tr>\n",
              "      <th>10</th>\n",
              "      <td>6</td>\n",
              "      <td>Per Knut Aaland</td>\n",
              "      <td>M</td>\n",
              "      <td>31.0</td>\n",
              "      <td>188.0</td>\n",
              "      <td>75.0</td>\n",
              "      <td>United States</td>\n",
              "      <td>USA</td>\n",
              "      <td>1992 Winter</td>\n",
              "      <td>1992</td>\n",
              "      <td>Winter</td>\n",
              "      <td>Albertville</td>\n",
              "      <td>Cross Country Skiing</td>\n",
              "      <td>Cross Country Skiing Men's 10 kilometres</td>\n",
              "      <td>NaN</td>\n",
              "    </tr>\n",
              "  </tbody>\n",
              "</table>\n",
              "</div>"
            ],
            "text/plain": [
              "    ID                  Name Sex   Age  Height  Weight            Team  NOC  \\\n",
              "0    1             A Dijiang   M  24.0   180.0    80.0           China  CHN   \n",
              "1    2              A Lamusi   M  23.0   170.0    60.0           China  CHN   \n",
              "2    3   Gunnar Nielsen Aaby   M  24.0     NaN     NaN         Denmark  DEN   \n",
              "3    4  Edgar Lindenau Aabye   M  34.0     NaN     NaN  Denmark/Sweden  DEN   \n",
              "10   6       Per Knut Aaland   M  31.0   188.0    75.0   United States  USA   \n",
              "\n",
              "          Games  Year  Season         City                 Sport  \\\n",
              "0   1992 Summer  1992  Summer    Barcelona            Basketball   \n",
              "1   2012 Summer  2012  Summer       London                  Judo   \n",
              "2   1920 Summer  1920  Summer    Antwerpen              Football   \n",
              "3   1900 Summer  1900  Summer        Paris            Tug-Of-War   \n",
              "10  1992 Winter  1992  Winter  Albertville  Cross Country Skiing   \n",
              "\n",
              "                                       Event Medal  \n",
              "0                Basketball Men's Basketball   NaN  \n",
              "1               Judo Men's Extra-Lightweight   NaN  \n",
              "2                    Football Men's Football   NaN  \n",
              "3                Tug-Of-War Men's Tug-Of-War  Gold  \n",
              "10  Cross Country Skiing Men's 10 kilometres   NaN  "
            ]
          },
          "metadata": {
            "tags": []
          },
          "execution_count": 14
        }
      ]
    },
    {
      "metadata": {
        "id": "Bua2Q9Vd9l2z",
        "colab_type": "code",
        "colab": {
          "base_uri": "https://localhost:8080/",
          "height": 363
        },
        "outputId": "4063d58a-1d41-436d-8c7d-2ad47ea7872b"
      },
      "cell_type": "code",
      "source": [
        "data_female.head()"
      ],
      "execution_count": 15,
      "outputs": [
        {
          "output_type": "execute_result",
          "data": {
            "text/html": [
              "<div>\n",
              "<style scoped>\n",
              "    .dataframe tbody tr th:only-of-type {\n",
              "        vertical-align: middle;\n",
              "    }\n",
              "\n",
              "    .dataframe tbody tr th {\n",
              "        vertical-align: top;\n",
              "    }\n",
              "\n",
              "    .dataframe thead th {\n",
              "        text-align: right;\n",
              "    }\n",
              "</style>\n",
              "<table border=\"1\" class=\"dataframe\">\n",
              "  <thead>\n",
              "    <tr style=\"text-align: right;\">\n",
              "      <th></th>\n",
              "      <th>ID</th>\n",
              "      <th>Name</th>\n",
              "      <th>Sex</th>\n",
              "      <th>Age</th>\n",
              "      <th>Height</th>\n",
              "      <th>Weight</th>\n",
              "      <th>Team</th>\n",
              "      <th>NOC</th>\n",
              "      <th>Games</th>\n",
              "      <th>Year</th>\n",
              "      <th>Season</th>\n",
              "      <th>City</th>\n",
              "      <th>Sport</th>\n",
              "      <th>Event</th>\n",
              "      <th>Medal</th>\n",
              "    </tr>\n",
              "  </thead>\n",
              "  <tbody>\n",
              "    <tr>\n",
              "      <th>4</th>\n",
              "      <td>5</td>\n",
              "      <td>Christine Jacoba Aaftink</td>\n",
              "      <td>F</td>\n",
              "      <td>21.0</td>\n",
              "      <td>185.0</td>\n",
              "      <td>82.0</td>\n",
              "      <td>Netherlands</td>\n",
              "      <td>NED</td>\n",
              "      <td>1988 Winter</td>\n",
              "      <td>1988</td>\n",
              "      <td>Winter</td>\n",
              "      <td>Calgary</td>\n",
              "      <td>Speed Skating</td>\n",
              "      <td>Speed Skating Women's 500 metres</td>\n",
              "      <td>NaN</td>\n",
              "    </tr>\n",
              "    <tr>\n",
              "      <th>5</th>\n",
              "      <td>5</td>\n",
              "      <td>Christine Jacoba Aaftink</td>\n",
              "      <td>F</td>\n",
              "      <td>21.0</td>\n",
              "      <td>185.0</td>\n",
              "      <td>82.0</td>\n",
              "      <td>Netherlands</td>\n",
              "      <td>NED</td>\n",
              "      <td>1988 Winter</td>\n",
              "      <td>1988</td>\n",
              "      <td>Winter</td>\n",
              "      <td>Calgary</td>\n",
              "      <td>Speed Skating</td>\n",
              "      <td>Speed Skating Women's 1,000 metres</td>\n",
              "      <td>NaN</td>\n",
              "    </tr>\n",
              "    <tr>\n",
              "      <th>6</th>\n",
              "      <td>5</td>\n",
              "      <td>Christine Jacoba Aaftink</td>\n",
              "      <td>F</td>\n",
              "      <td>25.0</td>\n",
              "      <td>185.0</td>\n",
              "      <td>82.0</td>\n",
              "      <td>Netherlands</td>\n",
              "      <td>NED</td>\n",
              "      <td>1992 Winter</td>\n",
              "      <td>1992</td>\n",
              "      <td>Winter</td>\n",
              "      <td>Albertville</td>\n",
              "      <td>Speed Skating</td>\n",
              "      <td>Speed Skating Women's 500 metres</td>\n",
              "      <td>NaN</td>\n",
              "    </tr>\n",
              "    <tr>\n",
              "      <th>7</th>\n",
              "      <td>5</td>\n",
              "      <td>Christine Jacoba Aaftink</td>\n",
              "      <td>F</td>\n",
              "      <td>25.0</td>\n",
              "      <td>185.0</td>\n",
              "      <td>82.0</td>\n",
              "      <td>Netherlands</td>\n",
              "      <td>NED</td>\n",
              "      <td>1992 Winter</td>\n",
              "      <td>1992</td>\n",
              "      <td>Winter</td>\n",
              "      <td>Albertville</td>\n",
              "      <td>Speed Skating</td>\n",
              "      <td>Speed Skating Women's 1,000 metres</td>\n",
              "      <td>NaN</td>\n",
              "    </tr>\n",
              "    <tr>\n",
              "      <th>8</th>\n",
              "      <td>5</td>\n",
              "      <td>Christine Jacoba Aaftink</td>\n",
              "      <td>F</td>\n",
              "      <td>27.0</td>\n",
              "      <td>185.0</td>\n",
              "      <td>82.0</td>\n",
              "      <td>Netherlands</td>\n",
              "      <td>NED</td>\n",
              "      <td>1994 Winter</td>\n",
              "      <td>1994</td>\n",
              "      <td>Winter</td>\n",
              "      <td>Lillehammer</td>\n",
              "      <td>Speed Skating</td>\n",
              "      <td>Speed Skating Women's 500 metres</td>\n",
              "      <td>NaN</td>\n",
              "    </tr>\n",
              "  </tbody>\n",
              "</table>\n",
              "</div>"
            ],
            "text/plain": [
              "   ID                      Name Sex   Age  Height  Weight         Team  NOC  \\\n",
              "4   5  Christine Jacoba Aaftink   F  21.0   185.0    82.0  Netherlands  NED   \n",
              "5   5  Christine Jacoba Aaftink   F  21.0   185.0    82.0  Netherlands  NED   \n",
              "6   5  Christine Jacoba Aaftink   F  25.0   185.0    82.0  Netherlands  NED   \n",
              "7   5  Christine Jacoba Aaftink   F  25.0   185.0    82.0  Netherlands  NED   \n",
              "8   5  Christine Jacoba Aaftink   F  27.0   185.0    82.0  Netherlands  NED   \n",
              "\n",
              "         Games  Year  Season         City          Sport  \\\n",
              "4  1988 Winter  1988  Winter      Calgary  Speed Skating   \n",
              "5  1988 Winter  1988  Winter      Calgary  Speed Skating   \n",
              "6  1992 Winter  1992  Winter  Albertville  Speed Skating   \n",
              "7  1992 Winter  1992  Winter  Albertville  Speed Skating   \n",
              "8  1994 Winter  1994  Winter  Lillehammer  Speed Skating   \n",
              "\n",
              "                                Event Medal  \n",
              "4    Speed Skating Women's 500 metres   NaN  \n",
              "5  Speed Skating Women's 1,000 metres   NaN  \n",
              "6    Speed Skating Women's 500 metres   NaN  \n",
              "7  Speed Skating Women's 1,000 metres   NaN  \n",
              "8    Speed Skating Women's 500 metres   NaN  "
            ]
          },
          "metadata": {
            "tags": []
          },
          "execution_count": 15
        }
      ]
    },
    {
      "metadata": {
        "id": "rhbqzyk3-PJ6",
        "colab_type": "code",
        "colab": {}
      },
      "cell_type": "code",
      "source": [
        "male_data_1996 = data_male.loc[data_male['Year'] == 1996]\n",
        "female_data_1996 = data_female.loc[data_female['Year'] == 1996]"
      ],
      "execution_count": 0,
      "outputs": []
    },
    {
      "metadata": {
        "id": "k7q2mmSC_V7k",
        "colab_type": "code",
        "colab": {
          "base_uri": "https://localhost:8080/",
          "height": 346
        },
        "outputId": "a85dc25b-9fe5-4f46-b614-a431ec508095"
      },
      "cell_type": "code",
      "source": [
        "male_data_1996.head()"
      ],
      "execution_count": 28,
      "outputs": [
        {
          "output_type": "execute_result",
          "data": {
            "text/html": [
              "<div>\n",
              "<style scoped>\n",
              "    .dataframe tbody tr th:only-of-type {\n",
              "        vertical-align: middle;\n",
              "    }\n",
              "\n",
              "    .dataframe tbody tr th {\n",
              "        vertical-align: top;\n",
              "    }\n",
              "\n",
              "    .dataframe thead th {\n",
              "        text-align: right;\n",
              "    }\n",
              "</style>\n",
              "<table border=\"1\" class=\"dataframe\">\n",
              "  <thead>\n",
              "    <tr style=\"text-align: right;\">\n",
              "      <th></th>\n",
              "      <th>ID</th>\n",
              "      <th>Name</th>\n",
              "      <th>Sex</th>\n",
              "      <th>Age</th>\n",
              "      <th>Height</th>\n",
              "      <th>Weight</th>\n",
              "      <th>Team</th>\n",
              "      <th>NOC</th>\n",
              "      <th>Games</th>\n",
              "      <th>Year</th>\n",
              "      <th>Season</th>\n",
              "      <th>City</th>\n",
              "      <th>Sport</th>\n",
              "      <th>Event</th>\n",
              "      <th>Medal</th>\n",
              "    </tr>\n",
              "  </thead>\n",
              "  <tbody>\n",
              "    <tr>\n",
              "      <th>92</th>\n",
              "      <td>30</td>\n",
              "      <td>Pepijn Aardewijn</td>\n",
              "      <td>M</td>\n",
              "      <td>26.0</td>\n",
              "      <td>189.0</td>\n",
              "      <td>72.0</td>\n",
              "      <td>Netherlands</td>\n",
              "      <td>NED</td>\n",
              "      <td>1996 Summer</td>\n",
              "      <td>1996</td>\n",
              "      <td>Summer</td>\n",
              "      <td>Atlanta</td>\n",
              "      <td>Rowing</td>\n",
              "      <td>Rowing Men's Lightweight Double Sculls</td>\n",
              "      <td>Silver</td>\n",
              "    </tr>\n",
              "    <tr>\n",
              "      <th>97</th>\n",
              "      <td>33</td>\n",
              "      <td>Mika Lauri Aarnikka</td>\n",
              "      <td>M</td>\n",
              "      <td>28.0</td>\n",
              "      <td>187.0</td>\n",
              "      <td>76.0</td>\n",
              "      <td>Finland</td>\n",
              "      <td>FIN</td>\n",
              "      <td>1996 Summer</td>\n",
              "      <td>1996</td>\n",
              "      <td>Summer</td>\n",
              "      <td>Atlanta</td>\n",
              "      <td>Sailing</td>\n",
              "      <td>Sailing Men's Two Person Dinghy</td>\n",
              "      <td>NaN</td>\n",
              "    </tr>\n",
              "    <tr>\n",
              "      <th>100</th>\n",
              "      <td>36</td>\n",
              "      <td>Stefan Remco Aartsen</td>\n",
              "      <td>M</td>\n",
              "      <td>21.0</td>\n",
              "      <td>194.0</td>\n",
              "      <td>78.0</td>\n",
              "      <td>Netherlands</td>\n",
              "      <td>NED</td>\n",
              "      <td>1996 Summer</td>\n",
              "      <td>1996</td>\n",
              "      <td>Summer</td>\n",
              "      <td>Atlanta</td>\n",
              "      <td>Swimming</td>\n",
              "      <td>Swimming Men's 100 metres Butterfly</td>\n",
              "      <td>NaN</td>\n",
              "    </tr>\n",
              "    <tr>\n",
              "      <th>101</th>\n",
              "      <td>36</td>\n",
              "      <td>Stefan Remco Aartsen</td>\n",
              "      <td>M</td>\n",
              "      <td>21.0</td>\n",
              "      <td>194.0</td>\n",
              "      <td>78.0</td>\n",
              "      <td>Netherlands</td>\n",
              "      <td>NED</td>\n",
              "      <td>1996 Summer</td>\n",
              "      <td>1996</td>\n",
              "      <td>Summer</td>\n",
              "      <td>Atlanta</td>\n",
              "      <td>Swimming</td>\n",
              "      <td>Swimming Men's 200 metres Butterfly</td>\n",
              "      <td>NaN</td>\n",
              "    </tr>\n",
              "    <tr>\n",
              "      <th>102</th>\n",
              "      <td>36</td>\n",
              "      <td>Stefan Remco Aartsen</td>\n",
              "      <td>M</td>\n",
              "      <td>21.0</td>\n",
              "      <td>194.0</td>\n",
              "      <td>78.0</td>\n",
              "      <td>Netherlands</td>\n",
              "      <td>NED</td>\n",
              "      <td>1996 Summer</td>\n",
              "      <td>1996</td>\n",
              "      <td>Summer</td>\n",
              "      <td>Atlanta</td>\n",
              "      <td>Swimming</td>\n",
              "      <td>Swimming Men's 4 x 100 metres Medley Relay</td>\n",
              "      <td>NaN</td>\n",
              "    </tr>\n",
              "  </tbody>\n",
              "</table>\n",
              "</div>"
            ],
            "text/plain": [
              "     ID                  Name Sex   Age  Height  Weight         Team  NOC  \\\n",
              "92   30      Pepijn Aardewijn   M  26.0   189.0    72.0  Netherlands  NED   \n",
              "97   33   Mika Lauri Aarnikka   M  28.0   187.0    76.0      Finland  FIN   \n",
              "100  36  Stefan Remco Aartsen   M  21.0   194.0    78.0  Netherlands  NED   \n",
              "101  36  Stefan Remco Aartsen   M  21.0   194.0    78.0  Netherlands  NED   \n",
              "102  36  Stefan Remco Aartsen   M  21.0   194.0    78.0  Netherlands  NED   \n",
              "\n",
              "           Games  Year  Season     City     Sport  \\\n",
              "92   1996 Summer  1996  Summer  Atlanta    Rowing   \n",
              "97   1996 Summer  1996  Summer  Atlanta   Sailing   \n",
              "100  1996 Summer  1996  Summer  Atlanta  Swimming   \n",
              "101  1996 Summer  1996  Summer  Atlanta  Swimming   \n",
              "102  1996 Summer  1996  Summer  Atlanta  Swimming   \n",
              "\n",
              "                                          Event   Medal  \n",
              "92       Rowing Men's Lightweight Double Sculls  Silver  \n",
              "97              Sailing Men's Two Person Dinghy     NaN  \n",
              "100         Swimming Men's 100 metres Butterfly     NaN  \n",
              "101         Swimming Men's 200 metres Butterfly     NaN  \n",
              "102  Swimming Men's 4 x 100 metres Medley Relay     NaN  "
            ]
          },
          "metadata": {
            "tags": []
          },
          "execution_count": 28
        }
      ]
    },
    {
      "metadata": {
        "id": "Tfo23hcT9pIr",
        "colab_type": "code",
        "colab": {}
      },
      "cell_type": "code",
      "source": [
        "male_age_min = male_data_1996.loc[male_data_1996['Age'].idxmin()]\n",
        "female_age_min = female_data_1996.loc[female_data_1996['Age'].idxmin()]"
      ],
      "execution_count": 0,
      "outputs": []
    },
    {
      "metadata": {
        "id": "RBePCUrB_hEU",
        "colab_type": "code",
        "colab": {
          "base_uri": "https://localhost:8080/",
          "height": 286
        },
        "outputId": "369edc64-1960-4703-e34d-2b6964681374"
      },
      "cell_type": "code",
      "source": [
        "male_age_min"
      ],
      "execution_count": 31,
      "outputs": [
        {
          "output_type": "execute_result",
          "data": {
            "text/plain": [
              "ID                        44326\n",
              "Name            Gwon Gyeong-Min\n",
              "Sex                           M\n",
              "Age                          14\n",
              "Height                      165\n",
              "Weight                       60\n",
              "Team                South Korea\n",
              "NOC                         KOR\n",
              "Games               1996 Summer\n",
              "Year                       1996\n",
              "Season                   Summer\n",
              "City                    Atlanta\n",
              "Sport                    Diving\n",
              "Event     Diving Men's Platform\n",
              "Medal                       NaN\n",
              "Name: 87416, dtype: object"
            ]
          },
          "metadata": {
            "tags": []
          },
          "execution_count": 31
        }
      ]
    },
    {
      "metadata": {
        "id": "gUc7tzRx-lxK",
        "colab_type": "code",
        "colab": {
          "base_uri": "https://localhost:8080/",
          "height": 286
        },
        "outputId": "4e453833-c82e-4b1f-bfb9-ffa7745bd3eb"
      },
      "cell_type": "code",
      "source": [
        "female_age_min"
      ],
      "execution_count": 34,
      "outputs": [
        {
          "output_type": "execute_result",
          "data": {
            "text/plain": [
              "ID                                           47506\n",
              "Name                                  Hem Reaksmey\n",
              "Sex                                              F\n",
              "Age                                             12\n",
              "Height                                         175\n",
              "Weight                                          65\n",
              "Team                                      Cambodia\n",
              "NOC                                            CAM\n",
              "Games                                  1996 Summer\n",
              "Year                                          1996\n",
              "Season                                      Summer\n",
              "City                                       Atlanta\n",
              "Sport                                     Swimming\n",
              "Event     Swimming Women's 100 metres Breaststroke\n",
              "Medal                                          NaN\n",
              "Name: 93850, dtype: object"
            ]
          },
          "metadata": {
            "tags": []
          },
          "execution_count": 34
        }
      ]
    },
    {
      "metadata": {
        "id": "_hcLeHtVxY5T",
        "colab_type": "text"
      },
      "cell_type": "markdown",
      "source": [
        "__2. What was the percentage of male gymnasts among all the male participants of the 2000 Olympics? Round the answer to the first decimal.__\n",
        "\n",
        "*Hint:* here and further if needed drop duplicated sportsmen to count only unique ones. \n",
        "\n",
        "- 0.2\n",
        "- ** *1.5 * **\n",
        "- 2.5\n",
        "- 7.7"
      ]
    },
    {
      "metadata": {
        "id": "ge_NFMahxY5b",
        "colab_type": "code",
        "colab": {
          "base_uri": "https://localhost:8080/",
          "height": 554
        },
        "outputId": "e286e6d2-e8c1-4e23-bc02-89d3dc458494"
      },
      "cell_type": "code",
      "source": [
        "# You code here \n",
        "#print(data_male.loc[data_male['Year'] == 2000].count())\n",
        "male_data_2000 = data_male.loc[data_male['Year'] == 2000].drop_duplicates(['Name'])\n",
        "male_data_2000.count()"
      ],
      "execution_count": 38,
      "outputs": [
        {
          "output_type": "stream",
          "text": [
            "ID        8390\n",
            "Name      8390\n",
            "Sex       8390\n",
            "Age       8390\n",
            "Height    8310\n",
            "Weight    8308\n",
            "Team      8390\n",
            "NOC       8390\n",
            "Games     8390\n",
            "Year      8390\n",
            "Season    8390\n",
            "City      8390\n",
            "Sport     8390\n",
            "Event     8390\n",
            "Medal     1124\n",
            "dtype: int64\n"
          ],
          "name": "stdout"
        },
        {
          "output_type": "execute_result",
          "data": {
            "text/plain": [
              "ID        6576\n",
              "Name      6576\n",
              "Sex       6576\n",
              "Age       6576\n",
              "Height    6497\n",
              "Weight    6495\n",
              "Team      6576\n",
              "NOC       6576\n",
              "Games     6576\n",
              "Year      6576\n",
              "Season    6576\n",
              "City      6576\n",
              "Sport     6576\n",
              "Event     6576\n",
              "Medal      884\n",
              "dtype: int64"
            ]
          },
          "metadata": {
            "tags": []
          },
          "execution_count": 38
        }
      ]
    },
    {
      "metadata": {
        "id": "q8fKvJCzAoDr",
        "colab_type": "code",
        "colab": {
          "base_uri": "https://localhost:8080/",
          "height": 554
        },
        "outputId": "577cd079-6d12-4417-e342-55b2c171fc55"
      },
      "cell_type": "code",
      "source": [
        "male_gymnasts_2000_count = male_data_2000.loc[male_data_2000['Sport'] == 'Gymnastics'].count()\n",
        "print(male_gymnasts_2000_count)\n",
        "print((male_gymnasts_2000_count / male_data_2000.count()) * 100)"
      ],
      "execution_count": 42,
      "outputs": [
        {
          "output_type": "stream",
          "text": [
            "ID        97\n",
            "Name      97\n",
            "Sex       97\n",
            "Age       97\n",
            "Height    97\n",
            "Weight    97\n",
            "Team      97\n",
            "NOC       97\n",
            "Games     97\n",
            "Year      97\n",
            "Season    97\n",
            "City      97\n",
            "Sport     97\n",
            "Event     97\n",
            "Medal      3\n",
            "dtype: int64\n",
            "ID        1.475061\n",
            "Name      1.475061\n",
            "Sex       1.475061\n",
            "Age       1.475061\n",
            "Height    1.492997\n",
            "Weight    1.493457\n",
            "Team      1.475061\n",
            "NOC       1.475061\n",
            "Games     1.475061\n",
            "Year      1.475061\n",
            "Season    1.475061\n",
            "City      1.475061\n",
            "Sport     1.475061\n",
            "Event     1.475061\n",
            "Medal     0.339367\n",
            "dtype: float64\n"
          ],
          "name": "stdout"
        }
      ]
    },
    {
      "metadata": {
        "id": "6aEWGZqixY5z",
        "colab_type": "text"
      },
      "cell_type": "markdown",
      "source": [
        "__3. What are the mean and standard deviation of height for female basketball players participated in the 2000 Olympics? Round the answer to the first decimal.__\n",
        "\n",
        "- 178.5 and 7.2\n",
        "- 179.4 and 10\n",
        "- 180.7 and 6.7\n",
        "- ** *182.4 and 9.1* **"
      ]
    },
    {
      "metadata": {
        "id": "92gqfQumxY59",
        "colab_type": "code",
        "colab": {}
      },
      "cell_type": "code",
      "source": [
        "# You code here \n",
        "female_data_2000 = data_female.loc[(data_female['Year'] == 2000) & (data_female['Sport'] == 'Basketball')].drop_duplicates(['Name'])#.dropna()"
      ],
      "execution_count": 0,
      "outputs": []
    },
    {
      "metadata": {
        "id": "ktxodQccPOtj",
        "colab_type": "code",
        "colab": {
          "base_uri": "https://localhost:8080/",
          "height": 50
        },
        "outputId": "15998b27-d144-4ee8-b4aa-fd6912694a86"
      },
      "cell_type": "code",
      "source": [
        "print(female_data_2000['Height'].mean())\n",
        "print(female_data_2000['Height'].std())"
      ],
      "execution_count": 62,
      "outputs": [
        {
          "output_type": "stream",
          "text": [
            "182.38732394366198\n",
            "9.139462087892174\n"
          ],
          "name": "stdout"
        }
      ]
    },
    {
      "metadata": {
        "id": "QHf8Te0ExY6X",
        "colab_type": "text"
      },
      "cell_type": "markdown",
      "source": [
        "__4. Find a sportsperson participated in the 2002 Olympics, with the highest weight among other participants of the same Olympics. What sport did he or she do?__\n",
        "\n",
        "- Judo\n",
        "- ** *Bobsleigh* ** \n",
        "- Weightlifting\n",
        "- Boxing"
      ]
    },
    {
      "metadata": {
        "id": "uzYjpqxtxY6n",
        "colab_type": "code",
        "colab": {
          "base_uri": "https://localhost:8080/",
          "height": 286
        },
        "outputId": "93e3b71e-f057-4216-eee8-90e7455c7c88"
      },
      "cell_type": "code",
      "source": [
        "# You code here \n",
        "data_2002 = data.loc[data['Year'] == 2002]\n",
        "print(data_2002.loc[data_2002['Weight'].idxmax()])"
      ],
      "execution_count": 65,
      "outputs": [
        {
          "output_type": "stream",
          "text": [
            "ID                      50171\n",
            "Name        Emmanuel Hostache\n",
            "Sex                         M\n",
            "Age                        26\n",
            "Height                    190\n",
            "Weight                    123\n",
            "Team                   France\n",
            "NOC                       FRA\n",
            "Games             2002 Winter\n",
            "Year                     2002\n",
            "Season                 Winter\n",
            "City           Salt Lake City\n",
            "Sport               Bobsleigh\n",
            "Event     Bobsleigh Men's Two\n",
            "Medal                     NaN\n",
            "Name: 99154, dtype: object\n"
          ],
          "name": "stdout"
        }
      ]
    },
    {
      "metadata": {
        "id": "AHFgLMz5xY6_",
        "colab_type": "text"
      },
      "cell_type": "markdown",
      "source": [
        "__5. How many times did Pawe Abratkiewicz participate in the Olympics held in different years?__\n",
        "\n",
        "- 0\n",
        "- 1 \n",
        "- 2\n",
        "- ***3*** "
      ]
    },
    {
      "metadata": {
        "id": "ZwgPKzTPxY7G",
        "colab_type": "code",
        "colab": {}
      },
      "cell_type": "code",
      "source": [
        "# You code here \n",
        "data_pawe = data.loc[data['Name'] == 'Pawe Abratkiewicz']"
      ],
      "execution_count": 0,
      "outputs": []
    },
    {
      "metadata": {
        "id": "Kr0r1FSfTQFz",
        "colab_type": "code",
        "colab": {
          "base_uri": "https://localhost:8080/",
          "height": 326
        },
        "outputId": "765953a1-db43-4c74-d5ef-4323dc2b211c"
      },
      "cell_type": "code",
      "source": [
        "data_pawe"
      ],
      "execution_count": 67,
      "outputs": [
        {
          "output_type": "execute_result",
          "data": {
            "text/html": [
              "<div>\n",
              "<style scoped>\n",
              "    .dataframe tbody tr th:only-of-type {\n",
              "        vertical-align: middle;\n",
              "    }\n",
              "\n",
              "    .dataframe tbody tr th {\n",
              "        vertical-align: top;\n",
              "    }\n",
              "\n",
              "    .dataframe thead th {\n",
              "        text-align: right;\n",
              "    }\n",
              "</style>\n",
              "<table border=\"1\" class=\"dataframe\">\n",
              "  <thead>\n",
              "    <tr style=\"text-align: right;\">\n",
              "      <th></th>\n",
              "      <th>ID</th>\n",
              "      <th>Name</th>\n",
              "      <th>Sex</th>\n",
              "      <th>Age</th>\n",
              "      <th>Height</th>\n",
              "      <th>Weight</th>\n",
              "      <th>Team</th>\n",
              "      <th>NOC</th>\n",
              "      <th>Games</th>\n",
              "      <th>Year</th>\n",
              "      <th>Season</th>\n",
              "      <th>City</th>\n",
              "      <th>Sport</th>\n",
              "      <th>Event</th>\n",
              "      <th>Medal</th>\n",
              "    </tr>\n",
              "  </thead>\n",
              "  <tbody>\n",
              "    <tr>\n",
              "      <th>997</th>\n",
              "      <td>562</td>\n",
              "      <td>Pawe Abratkiewicz</td>\n",
              "      <td>M</td>\n",
              "      <td>21.0</td>\n",
              "      <td>183.0</td>\n",
              "      <td>84.0</td>\n",
              "      <td>Poland</td>\n",
              "      <td>POL</td>\n",
              "      <td>1992 Winter</td>\n",
              "      <td>1992</td>\n",
              "      <td>Winter</td>\n",
              "      <td>Albertville</td>\n",
              "      <td>Speed Skating</td>\n",
              "      <td>Speed Skating Men's 500 metres</td>\n",
              "      <td>NaN</td>\n",
              "    </tr>\n",
              "    <tr>\n",
              "      <th>998</th>\n",
              "      <td>562</td>\n",
              "      <td>Pawe Abratkiewicz</td>\n",
              "      <td>M</td>\n",
              "      <td>21.0</td>\n",
              "      <td>183.0</td>\n",
              "      <td>84.0</td>\n",
              "      <td>Poland</td>\n",
              "      <td>POL</td>\n",
              "      <td>1992 Winter</td>\n",
              "      <td>1992</td>\n",
              "      <td>Winter</td>\n",
              "      <td>Albertville</td>\n",
              "      <td>Speed Skating</td>\n",
              "      <td>Speed Skating Men's 1,000 metres</td>\n",
              "      <td>NaN</td>\n",
              "    </tr>\n",
              "    <tr>\n",
              "      <th>999</th>\n",
              "      <td>562</td>\n",
              "      <td>Pawe Abratkiewicz</td>\n",
              "      <td>M</td>\n",
              "      <td>27.0</td>\n",
              "      <td>183.0</td>\n",
              "      <td>84.0</td>\n",
              "      <td>Poland</td>\n",
              "      <td>POL</td>\n",
              "      <td>1998 Winter</td>\n",
              "      <td>1998</td>\n",
              "      <td>Winter</td>\n",
              "      <td>Nagano</td>\n",
              "      <td>Speed Skating</td>\n",
              "      <td>Speed Skating Men's 500 metres</td>\n",
              "      <td>NaN</td>\n",
              "    </tr>\n",
              "    <tr>\n",
              "      <th>1000</th>\n",
              "      <td>562</td>\n",
              "      <td>Pawe Abratkiewicz</td>\n",
              "      <td>M</td>\n",
              "      <td>27.0</td>\n",
              "      <td>183.0</td>\n",
              "      <td>84.0</td>\n",
              "      <td>Poland</td>\n",
              "      <td>POL</td>\n",
              "      <td>1998 Winter</td>\n",
              "      <td>1998</td>\n",
              "      <td>Winter</td>\n",
              "      <td>Nagano</td>\n",
              "      <td>Speed Skating</td>\n",
              "      <td>Speed Skating Men's 1,000 metres</td>\n",
              "      <td>NaN</td>\n",
              "    </tr>\n",
              "    <tr>\n",
              "      <th>1001</th>\n",
              "      <td>562</td>\n",
              "      <td>Pawe Abratkiewicz</td>\n",
              "      <td>M</td>\n",
              "      <td>31.0</td>\n",
              "      <td>183.0</td>\n",
              "      <td>84.0</td>\n",
              "      <td>Poland</td>\n",
              "      <td>POL</td>\n",
              "      <td>2002 Winter</td>\n",
              "      <td>2002</td>\n",
              "      <td>Winter</td>\n",
              "      <td>Salt Lake City</td>\n",
              "      <td>Speed Skating</td>\n",
              "      <td>Speed Skating Men's 500 metres</td>\n",
              "      <td>NaN</td>\n",
              "    </tr>\n",
              "    <tr>\n",
              "      <th>1002</th>\n",
              "      <td>562</td>\n",
              "      <td>Pawe Abratkiewicz</td>\n",
              "      <td>M</td>\n",
              "      <td>31.0</td>\n",
              "      <td>183.0</td>\n",
              "      <td>84.0</td>\n",
              "      <td>Poland</td>\n",
              "      <td>POL</td>\n",
              "      <td>2002 Winter</td>\n",
              "      <td>2002</td>\n",
              "      <td>Winter</td>\n",
              "      <td>Salt Lake City</td>\n",
              "      <td>Speed Skating</td>\n",
              "      <td>Speed Skating Men's 1,000 metres</td>\n",
              "      <td>NaN</td>\n",
              "    </tr>\n",
              "  </tbody>\n",
              "</table>\n",
              "</div>"
            ],
            "text/plain": [
              "       ID               Name Sex   Age  Height  Weight    Team  NOC  \\\n",
              "997   562  Pawe Abratkiewicz   M  21.0   183.0    84.0  Poland  POL   \n",
              "998   562  Pawe Abratkiewicz   M  21.0   183.0    84.0  Poland  POL   \n",
              "999   562  Pawe Abratkiewicz   M  27.0   183.0    84.0  Poland  POL   \n",
              "1000  562  Pawe Abratkiewicz   M  27.0   183.0    84.0  Poland  POL   \n",
              "1001  562  Pawe Abratkiewicz   M  31.0   183.0    84.0  Poland  POL   \n",
              "1002  562  Pawe Abratkiewicz   M  31.0   183.0    84.0  Poland  POL   \n",
              "\n",
              "            Games  Year  Season            City          Sport  \\\n",
              "997   1992 Winter  1992  Winter     Albertville  Speed Skating   \n",
              "998   1992 Winter  1992  Winter     Albertville  Speed Skating   \n",
              "999   1998 Winter  1998  Winter          Nagano  Speed Skating   \n",
              "1000  1998 Winter  1998  Winter          Nagano  Speed Skating   \n",
              "1001  2002 Winter  2002  Winter  Salt Lake City  Speed Skating   \n",
              "1002  2002 Winter  2002  Winter  Salt Lake City  Speed Skating   \n",
              "\n",
              "                                 Event Medal  \n",
              "997     Speed Skating Men's 500 metres   NaN  \n",
              "998   Speed Skating Men's 1,000 metres   NaN  \n",
              "999     Speed Skating Men's 500 metres   NaN  \n",
              "1000  Speed Skating Men's 1,000 metres   NaN  \n",
              "1001    Speed Skating Men's 500 metres   NaN  \n",
              "1002  Speed Skating Men's 1,000 metres   NaN  "
            ]
          },
          "metadata": {
            "tags": []
          },
          "execution_count": 67
        }
      ]
    },
    {
      "metadata": {
        "id": "jVKwwMmtX4Lc",
        "colab_type": "code",
        "colab": {
          "base_uri": "https://localhost:8080/",
          "height": 34
        },
        "outputId": "99a09384-07fc-4354-8371-454834fec026"
      },
      "cell_type": "code",
      "source": [
        "data_pawe['Year'].unique()"
      ],
      "execution_count": 68,
      "outputs": [
        {
          "output_type": "execute_result",
          "data": {
            "text/plain": [
              "array([1992, 1998, 2002])"
            ]
          },
          "metadata": {
            "tags": []
          },
          "execution_count": 68
        }
      ]
    },
    {
      "metadata": {
        "id": "ImY-9beaxY7j",
        "colab_type": "text"
      },
      "cell_type": "markdown",
      "source": [
        "__6. How many silver medals in tennis did Australia win at the 2000 Olympics?__\n",
        "\n",
        "- 0\n",
        "- 1 \n",
        "- ***2*** \n",
        "- 3 "
      ]
    },
    {
      "metadata": {
        "id": "-TUxXdZ_xY7o",
        "colab_type": "code",
        "colab": {
          "base_uri": "https://localhost:8080/",
          "height": 286
        },
        "outputId": "2836e5f2-1868-40c0-ca3b-bf734ea1083a"
      },
      "cell_type": "code",
      "source": [
        "# You code here \n",
        "data_australia_2000 = data.loc[(data['Year'] == 2000) & (data['Team'] == 'Australia') \\\n",
        "                               & (data['Sport'] == 'Tennis') & (data['Medal'] == 'Silver')]\n",
        "print(data_australia_2000.count())"
      ],
      "execution_count": 71,
      "outputs": [
        {
          "output_type": "stream",
          "text": [
            "ID        2\n",
            "Name      2\n",
            "Sex       2\n",
            "Age       2\n",
            "Height    2\n",
            "Weight    2\n",
            "Team      2\n",
            "NOC       2\n",
            "Games     2\n",
            "Year      2\n",
            "Season    2\n",
            "City      2\n",
            "Sport     2\n",
            "Event     2\n",
            "Medal     2\n",
            "dtype: int64\n"
          ],
          "name": "stdout"
        }
      ]
    },
    {
      "metadata": {
        "id": "h5rI8MFvxY8M",
        "colab_type": "text"
      },
      "cell_type": "markdown",
      "source": [
        "__7. Is it true that Switzerland won fewer medals than Serbia at the 2016 Olympics? Do not consider NaN values in _Medal_ column.__ \n",
        "\n",
        "- ***Yes*** \n",
        "- No"
      ]
    },
    {
      "metadata": {
        "id": "uHTp--G-xY8U",
        "colab_type": "code",
        "colab": {}
      },
      "cell_type": "code",
      "source": [
        "# You code here \n",
        "data_swiss_2016 = data.loc[(data['Year'] == 2016) & (data['Team'] == 'Switzerland')].dropna(subset=['Medal'])\n",
        "data_serbia_2016 = data.loc[(data['Year'] == 2016) & (data['Team'] == 'Serbia')].dropna(subset=['Medal'])"
      ],
      "execution_count": 0,
      "outputs": []
    },
    {
      "metadata": {
        "id": "4ghHKfZNZH1s",
        "colab_type": "code",
        "colab": {
          "base_uri": "https://localhost:8080/",
          "height": 50
        },
        "outputId": "c3960b20-9fd8-4ffa-813a-7261e7ecfbc5"
      },
      "cell_type": "code",
      "source": [
        "print(data_swiss_2016['Medal'].count())\n",
        "print(data_serbia_2016['Medal'].count())"
      ],
      "execution_count": 82,
      "outputs": [
        {
          "output_type": "stream",
          "text": [
            "11\n",
            "54\n"
          ],
          "name": "stdout"
        }
      ]
    },
    {
      "metadata": {
        "id": "T2JtjSuAxY8x",
        "colab_type": "text"
      },
      "cell_type": "markdown",
      "source": [
        "__8. What age category did the fewest and the most participants of the 2014 Olympics belong to?__\n",
        "- ***[45-55] and [25-35) correspondingly***\n",
        "- [45-55] and [15-25) correspondingly\n",
        "- [35-45] and [25-35) correspondingly\n",
        "- [45-55] and [35-45) correspondingly"
      ]
    },
    {
      "metadata": {
        "id": "4gyhMW0mxY83",
        "colab_type": "code",
        "colab": {}
      },
      "cell_type": "code",
      "source": [
        "# You code here \n",
        "data_2014 = data.loc[data['Year'] == 2014]"
      ],
      "execution_count": 0,
      "outputs": []
    },
    {
      "metadata": {
        "id": "PyC_UZnlZm3a",
        "colab_type": "code",
        "colab": {
          "base_uri": "https://localhost:8080/",
          "height": 554
        },
        "outputId": "16987e40-ae1f-4404-e8d3-14e2db8da295"
      },
      "cell_type": "code",
      "source": [
        "print(data_2014.loc[data_2014['Age'].idxmin()])\n",
        "print(data_2014.loc[data_2014['Age'].idxmax()])"
      ],
      "execution_count": 85,
      "outputs": [
        {
          "output_type": "stream",
          "text": [
            "ID                                 31441\n",
            "Name                      Polina Edmunds\n",
            "Sex                                    F\n",
            "Age                                   15\n",
            "Height                               165\n",
            "Weight                                43\n",
            "Team                       United States\n",
            "NOC                                  USA\n",
            "Games                        2014 Winter\n",
            "Year                                2014\n",
            "Season                            Winter\n",
            "City                               Sochi\n",
            "Sport                     Figure Skating\n",
            "Event     Figure Skating Women's Singles\n",
            "Medal                                NaN\n",
            "Name: 61395, dtype: object\n",
            "ID                                                   127321\n",
            "Name      Hubertus Rudolph von Frstenberg-von Hohenlohe-...\n",
            "Sex                                                       M\n",
            "Age                                                      55\n",
            "Height                                                  183\n",
            "Weight                                                   77\n",
            "Team                                                 Mexico\n",
            "NOC                                                     MEX\n",
            "Games                                           2014 Winter\n",
            "Year                                                   2014\n",
            "Season                                               Winter\n",
            "City                                                  Sochi\n",
            "Sport                                         Alpine Skiing\n",
            "Event                            Alpine Skiing Men's Slalom\n",
            "Medal                                                   NaN\n",
            "Name: 254305, dtype: object\n"
          ],
          "name": "stdout"
        }
      ]
    },
    {
      "metadata": {
        "id": "XACPO9IPaCQL",
        "colab_type": "code",
        "colab": {
          "base_uri": "https://localhost:8080/",
          "height": 395
        },
        "outputId": "6c029b97-59b3-496f-b4c0-d61948d102ea"
      },
      "cell_type": "code",
      "source": [
        "data_2014.hist(column=['Age'], bins=[15,25,35,45,55])"
      ],
      "execution_count": 89,
      "outputs": [
        {
          "output_type": "execute_result",
          "data": {
            "text/plain": [
              "array([[<matplotlib.axes._subplots.AxesSubplot object at 0x7f0ec5e2e668>]],\n",
              "      dtype=object)"
            ]
          },
          "metadata": {
            "tags": []
          },
          "execution_count": 89
        },
        {
          "output_type": "display_data",
          "data": {
            "image/png": "[encoded data removed]",
            "text/plain": [
              "<matplotlib.figure.Figure at 0x7f0ec5de2128>"
            ]
          },
          "metadata": {
            "tags": []
          }
        }
      ]
    },
    {
      "metadata": {
        "id": "NtkwjYfVxY-d",
        "colab_type": "text"
      },
      "cell_type": "markdown",
      "source": [
        "__9. Is it true that there were Summer Olympics held in Lake Placid? Is it true that there were Winter Olympics held in Sankt Moritz?__\n",
        "\n",
        "- Yes, Yes\n",
        "- Yes, No\n",
        "- ***No, Yes*** \n",
        "- No, No "
      ]
    },
    {
      "metadata": {
        "id": "4JgUwEabxY-l",
        "colab_type": "code",
        "colab": {
          "base_uri": "https://localhost:8080/",
          "height": 554
        },
        "outputId": "a073954f-6f54-4855-cfe3-598658e44ae6"
      },
      "cell_type": "code",
      "source": [
        "# You code here \n",
        "print(data.loc[(data['City'] == 'Lake Placid') & (data['Season'] == 'Summer')].count())\n",
        "print(data.loc[(data['City'] == 'Sankt Moritz') & (data['Season'] == 'Winter')].count())"
      ],
      "execution_count": 91,
      "outputs": [
        {
          "output_type": "stream",
          "text": [
            "ID        0\n",
            "Name      0\n",
            "Sex       0\n",
            "Age       0\n",
            "Height    0\n",
            "Weight    0\n",
            "Team      0\n",
            "NOC       0\n",
            "Games     0\n",
            "Year      0\n",
            "Season    0\n",
            "City      0\n",
            "Sport     0\n",
            "Event     0\n",
            "Medal     0\n",
            "dtype: int64\n",
            "ID        1657\n",
            "Name      1657\n",
            "Sex       1657\n",
            "Age       1563\n",
            "Height     238\n",
            "Weight     159\n",
            "Team      1657\n",
            "NOC       1657\n",
            "Games     1657\n",
            "Year      1657\n",
            "Season    1657\n",
            "City      1657\n",
            "Sport     1657\n",
            "Event     1657\n",
            "Medal      224\n",
            "dtype: int64\n"
          ],
          "name": "stdout"
        }
      ]
    },
    {
      "metadata": {
        "id": "EpAJX1E2xY_E",
        "colab_type": "text"
      },
      "cell_type": "markdown",
      "source": [
        "S__10. What is the absolute difference between the number of unique sports at the 1995 Olympics and 2016 Olympics?__\n",
        "\n",
        "- 16\n",
        "- 24\n",
        "- 26\n",
        "- ***34***"
      ]
    },
    {
      "metadata": {
        "id": "rYIvGYFvxY_N",
        "colab_type": "code",
        "colab": {}
      },
      "cell_type": "code",
      "source": [
        "# You code here \n",
        "data_1995_sports_count = data.loc[(data['Year'] == 1995)]['Sport'].unique()\n",
        "data_2016_sports_count = data.loc[(data['Year'] == 2016)]['Sport'].unique()"
      ],
      "execution_count": 0,
      "outputs": []
    },
    {
      "metadata": {
        "id": "Nzibr_46cpit",
        "colab_type": "code",
        "colab": {
          "base_uri": "https://localhost:8080/",
          "height": 47
        },
        "outputId": "d8afd049-8a82-43fa-94ff-23cb0d0e5933"
      },
      "cell_type": "code",
      "source": [
        "data.loc[data['Year'] == 1995]"
      ],
      "execution_count": 98,
      "outputs": [
        {
          "output_type": "execute_result",
          "data": {
            "text/html": [
              "<div>\n",
              "<style scoped>\n",
              "    .dataframe tbody tr th:only-of-type {\n",
              "        vertical-align: middle;\n",
              "    }\n",
              "\n",
              "    .dataframe tbody tr th {\n",
              "        vertical-align: top;\n",
              "    }\n",
              "\n",
              "    .dataframe thead th {\n",
              "        text-align: right;\n",
              "    }\n",
              "</style>\n",
              "<table border=\"1\" class=\"dataframe\">\n",
              "  <thead>\n",
              "    <tr style=\"text-align: right;\">\n",
              "      <th></th>\n",
              "      <th>ID</th>\n",
              "      <th>Name</th>\n",
              "      <th>Sex</th>\n",
              "      <th>Age</th>\n",
              "      <th>Height</th>\n",
              "      <th>Weight</th>\n",
              "      <th>Team</th>\n",
              "      <th>NOC</th>\n",
              "      <th>Games</th>\n",
              "      <th>Year</th>\n",
              "      <th>Season</th>\n",
              "      <th>City</th>\n",
              "      <th>Sport</th>\n",
              "      <th>Event</th>\n",
              "      <th>Medal</th>\n",
              "    </tr>\n",
              "  </thead>\n",
              "  <tbody>\n",
              "  </tbody>\n",
              "</table>\n",
              "</div>"
            ],
            "text/plain": [
              "Empty DataFrame\n",
              "Columns: [ID, Name, Sex, Age, Height, Weight, Team, NOC, Games, Year, Season, City, Sport, Event, Medal]\n",
              "Index: []"
            ]
          },
          "metadata": {
            "tags": []
          },
          "execution_count": 98
        }
      ]
    },
    {
      "metadata": {
        "id": "-fV-oqykcuw7",
        "colab_type": "code",
        "colab": {
          "base_uri": "https://localhost:8080/",
          "height": 50
        },
        "outputId": "9d33b824-225e-40df-8cea-671082b1c893"
      },
      "cell_type": "code",
      "source": [
        "print(len(data_1995_sports_count))\n",
        "print(len(data_2016_sports_count))"
      ],
      "execution_count": 102,
      "outputs": [
        {
          "output_type": "stream",
          "text": [
            "0\n",
            "34\n"
          ],
          "name": "stdout"
        }
      ]
    },
    {
      "metadata": {
        "id": "ETUf6xCmdFlM",
        "colab_type": "code",
        "colab": {}
      },
      "cell_type": "code",
      "source": [
        ""
      ],
      "execution_count": 0,
      "outputs": []
    }
  ]
}