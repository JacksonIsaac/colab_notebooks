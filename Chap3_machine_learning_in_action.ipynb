{
  "nbformat": 4,
  "nbformat_minor": 0,
  "metadata": {
    "colab": {
      "name": "Chap3_machine_learning_in_action.ipynb",
      "version": "0.3.2",
      "provenance": [],
      "include_colab_link": true
    },
    "kernelspec": {
      "name": "python3",
      "display_name": "Python 3"
    }
  },
  "cells": [
    {
      "cell_type": "markdown",
      "metadata": {
        "id": "view-in-github",
        "colab_type": "text"
      },
      "source": [
        "[View in Colaboratory](https://colab.research.google.com/github/JacksonIsaac/colab_notebooks/blob/master/Chap3_machine_learning_in_action.ipynb)"
      ]
    },
    {
      "metadata": {
        "id": "Agqtn45F1B-g",
        "colab_type": "text"
      },
      "cell_type": "markdown",
      "source": [
        "# Machine Learning in Action\n",
        "## Chapter 3"
      ]
    },
    {
      "metadata": {
        "id": "5UBdXbXd1SD0",
        "colab_type": "text"
      },
      "cell_type": "markdown",
      "source": [
        "## Decision Trees"
      ]
    },
    {
      "metadata": {
        "id": "9kfWUE151azK",
        "colab_type": "code",
        "colab": {}
      },
      "cell_type": "code",
      "source": [
        ""
      ],
      "execution_count": 0,
      "outputs": []
    }
  ]
}