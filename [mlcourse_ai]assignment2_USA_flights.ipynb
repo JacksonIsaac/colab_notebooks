{
  "nbformat": 4,
  "nbformat_minor": 0,
  "metadata": {
    "colab": {
      "name": "[mlcourse_ai]assignment2_USA_flights.ipynb",
      "version": "0.3.2",
      "provenance": [],
      "collapsed_sections": [],
      "include_colab_link": true
    },
    "kernelspec": {
      "display_name": "Python 3",
      "language": "python",
      "name": "python3"
    }
  },
  "cells": [
    {
      "cell_type": "markdown",
      "metadata": {
        "id": "view-in-github",
        "colab_type": "text"
      },
      "source": [
        "[View in Colaboratory](https://colab.research.google.com/github/JacksonIsaac/colab_notebooks/blob/master/[mlcourse_ai]assignment2_USA_flights.ipynb)"
      ]
    },
    {
      "metadata": {
        "id": "j0T-csGYyMAp",
        "colab_type": "text"
      },
      "cell_type": "markdown",
      "source": [
        "<center>\n",
        "<img src=\"https://github.com/Yorko/mlcourse.ai/blob/master/img/ods_stickers.jpg?raw=1\" />\n",
        "    \n",
        "## [mlcourse.ai](mlcourse.ai) – Open Machine Learning Course \n",
        "\n",
        "Author: [Yury Kashnitskiy](https://yorko.github.io). \n",
        "Translated and edited by [Maxim Keremet](https://www.linkedin.com/in/maximkeremet/), [Artem Trunov](https://www.linkedin.com/in/datamove/), and [Aditya Soni](https://www.linkedin.com/in/aditya-soni-0505a9124/). This material is subject to the terms and conditions of the [Creative Commons CC BY-NC-SA 4.0](https://creativecommons.org/licenses/by-nc-sa/4.0/) license. Free use is permitted for any non-commercial purpose."
      ]
    },
    {
      "metadata": {
        "id": "UA6vjcoZyMBG",
        "colab_type": "text"
      },
      "cell_type": "markdown",
      "source": [
        "# <center>Assignment #2. Fall 2018 <br> Exploratory Data Analysis (EDA) of US flights <br> (using Pandas, Matplotlib & Seaborn)\n",
        "\n",
        "<img src='https://github.com/Yorko/mlcourse.ai/blob/master/img/plane_sunset.png?raw=1' width=50%>\n",
        "\n",
        "Prior to working on the assignment, you'd better check out the corresponding course material:\n",
        " - [Visualization: from Simple Distributions to Dimensionality Reduction](https://mlcourse.ai/notebooks/blob/master/jupyter_english/topic02_visual_data_analysis/topic2_visual_data_analysis.ipynb?flush_cache=true)\n",
        " - [Overview of Seaborn, Matplotlib and Plotly libraries](https://mlcourse.ai/notebooks/blob/master/jupyter_english/topic02_visual_data_analysis/topic2_additional_seaborn_matplotlib_plotly.ipynb?flush_cache=true)\n",
        " - first lectures in [this](https://www.youtube.com/watch?v=QKTuw4PNOsU&list=PLVlY_7IJCMJeRfZ68eVfEcu-UcN9BbwiX) YouTube playlist \n",
        "\n",
        "### Your task is to:\n",
        " - write code and perform computations in the cells below\n",
        " - choose answers in the [webform](https://docs.google.com/forms/d/1qSTjLAGqsmpFRhacv0vM-CMQSTT_mtOalNXdRTcdtM0/edit)\n",
        " - submit answers with **the very same email and name** as in assignment 1. This is a part of the assignment, if you don't manage to do so, you won't get credits. If in doubt, you can re-submit A1 form till the deadline for A1, no problem\n",
        " \n",
        "### <center> Deadline for A2: 2018 October 21, 20:59 CET\n",
        "\n"
      ]
    },
    {
      "metadata": {
        "id": "iA94O-2YyMBR",
        "colab_type": "code",
        "colab": {}
      },
      "cell_type": "code",
      "source": [
        "import numpy as np\n",
        "import pandas as pd\n",
        "# pip install seaborn \n",
        "import seaborn as sns\n",
        "import matplotlib.pyplot as plt"
      ],
      "execution_count": 0,
      "outputs": []
    },
    {
      "metadata": {
        "id": "_JD70Xj1yMBr",
        "colab_type": "text"
      },
      "cell_type": "markdown",
      "source": [
        "* Download the data [archive](http://stat-computing.org/dataexpo/2009/2008.csv.bz2) (Archived ~ 114 Mb, unzipped - ~ 690 Mb). No need to unzip - pandas can unbzip on the fly.\n",
        "* Place it in the \"../../data\" folder, or change the path below according to your location.\n",
        "* The dataset has information about carriers and flights between US airports during the year 2008. \n",
        "* Column description is available [here](http://www.transtats.bts.gov/Fields.asp?Table_ID=236). Visit this site to find ex. meaning of flight cancellation codes."
      ]
    },
    {
      "metadata": {
        "id": "HK3xQT-myMBy",
        "colab_type": "text"
      },
      "cell_type": "markdown",
      "source": [
        "**Reading data into memory and creating a Pandas _DataFrame_ object**\n",
        "\n",
        "(This may take a while, be patient)\n",
        "\n",
        "We are not going to read in the whole dataset. In order to reduce memory footprint, we instead load only needed columns and cast them suitable data types."
      ]
    },
    {
      "metadata": {
        "id": "KljTeFxhyMB3",
        "colab_type": "code",
        "colab": {}
      },
      "cell_type": "code",
      "source": [
        "dtype = {'DayOfWeek': np.uint8, 'DayofMonth': np.uint8, 'Month': np.uint8 , 'Cancelled': np.uint8, \n",
        "         'Year': np.uint16, 'FlightNum': np.uint16 , 'Distance': np.uint16, \n",
        "         'UniqueCarrier': str, 'CancellationCode': str, 'Origin': str, 'Dest': str,\n",
        "         'ArrDelay': np.float16, 'DepDelay': np.float16, 'CarrierDelay': np.float16,\n",
        "         'WeatherDelay': np.float16, 'NASDelay': np.float16, 'SecurityDelay': np.float16,\n",
        "         'LateAircraftDelay': np.float16, 'DepTime': np.float16}"
      ],
      "execution_count": 0,
      "outputs": []
    },
    {
      "metadata": {
        "id": "t0VucZ8vh1LZ",
        "colab_type": "code",
        "colab": {
          "base_uri": "https://localhost:8080/",
          "height": 204
        },
        "outputId": "42ff2898-d25c-461a-e1f4-d17b2137ca3c"
      },
      "cell_type": "code",
      "source": [
        "!wget http://stat-computing.org/dataexpo/2009/2008.csv.bz2"
      ],
      "execution_count": 3,
      "outputs": [
        {
          "output_type": "stream",
          "text": [
            "--2018-10-15 17:23:43--  http://stat-computing.org/dataexpo/2009/2008.csv.bz2\n",
            "Resolving stat-computing.org (stat-computing.org)... 52.218.196.163\n",
            "Connecting to stat-computing.org (stat-computing.org)|52.218.196.163|:80... connected.\n",
            "HTTP request sent, awaiting response... 200 OK\n",
            "Length: 113753229 (108M) [application/x-bzip2]\n",
            "Saving to: ‘2008.csv.bz2’\n",
            "\n",
            "2008.csv.bz2        100%[===================>] 108.48M  29.3MB/s    in 3.9s    \n",
            "\n",
            "2018-10-15 17:23:48 (27.9 MB/s) - ‘2008.csv.bz2’ saved [113753229/113753229]\n",
            "\n"
          ],
          "name": "stdout"
        }
      ]
    },
    {
      "metadata": {
        "id": "GdsH4Y-nyMCE",
        "colab_type": "code",
        "colab": {
          "base_uri": "https://localhost:8080/",
          "height": 51
        },
        "outputId": "775b6a88-b9fb-4a68-f64a-147e64185f06"
      },
      "cell_type": "code",
      "source": [
        "%%time\n",
        "# change the path if needed\n",
        "path = './2008.csv.bz2'\n",
        "flights_df = pd.read_csv(path, usecols=dtype.keys(), dtype=dtype)"
      ],
      "execution_count": 4,
      "outputs": [
        {
          "output_type": "stream",
          "text": [
            "CPU times: user 1min 6s, sys: 1.49 s, total: 1min 7s\n",
            "Wall time: 1min 7s\n"
          ],
          "name": "stdout"
        }
      ]
    },
    {
      "metadata": {
        "id": "ojMKU_gQyMCt",
        "colab_type": "text"
      },
      "cell_type": "markdown",
      "source": [
        "**Check the number of rows and columns and print column names.**"
      ]
    },
    {
      "metadata": {
        "id": "mfej9UVzyMCx",
        "colab_type": "code",
        "colab": {
          "base_uri": "https://localhost:8080/",
          "height": 119
        },
        "outputId": "f2e3a9b0-8015-45d8-ef6c-8179e7792109"
      },
      "cell_type": "code",
      "source": [
        "print(flights_df.shape)\n",
        "print(flights_df.columns)"
      ],
      "execution_count": 5,
      "outputs": [
        {
          "output_type": "stream",
          "text": [
            "(7009728, 19)\n",
            "Index(['Year', 'Month', 'DayofMonth', 'DayOfWeek', 'DepTime', 'UniqueCarrier',\n",
            "       'FlightNum', 'ArrDelay', 'DepDelay', 'Origin', 'Dest', 'Distance',\n",
            "       'Cancelled', 'CancellationCode', 'CarrierDelay', 'WeatherDelay',\n",
            "       'NASDelay', 'SecurityDelay', 'LateAircraftDelay'],\n",
            "      dtype='object')\n"
          ],
          "name": "stdout"
        }
      ]
    },
    {
      "metadata": {
        "id": "ZcSV2Uw_yMDH",
        "colab_type": "text"
      },
      "cell_type": "markdown",
      "source": [
        "**Print first 5 rows of the dataset.**"
      ]
    },
    {
      "metadata": {
        "id": "BlgmDB3FyMDR",
        "colab_type": "code",
        "colab": {
          "base_uri": "https://localhost:8080/",
          "height": 224
        },
        "outputId": "33d41f26-1f60-4594-f864-b3d96557d1a4"
      },
      "cell_type": "code",
      "source": [
        "flights_df.head()"
      ],
      "execution_count": 6,
      "outputs": [
        {
          "output_type": "execute_result",
          "data": {
            "text/html": [
              "<div>\n",
              "<style scoped>\n",
              "    .dataframe tbody tr th:only-of-type {\n",
              "        vertical-align: middle;\n",
              "    }\n",
              "\n",
              "    .dataframe tbody tr th {\n",
              "        vertical-align: top;\n",
              "    }\n",
              "\n",
              "    .dataframe thead th {\n",
              "        text-align: right;\n",
              "    }\n",
              "</style>\n",
              "<table border=\"1\" class=\"dataframe\">\n",
              "  <thead>\n",
              "    <tr style=\"text-align: right;\">\n",
              "      <th></th>\n",
              "      <th>Year</th>\n",
              "      <th>Month</th>\n",
              "      <th>DayofMonth</th>\n",
              "      <th>DayOfWeek</th>\n",
              "      <th>DepTime</th>\n",
              "      <th>UniqueCarrier</th>\n",
              "      <th>FlightNum</th>\n",
              "      <th>ArrDelay</th>\n",
              "      <th>DepDelay</th>\n",
              "      <th>Origin</th>\n",
              "      <th>Dest</th>\n",
              "      <th>Distance</th>\n",
              "      <th>Cancelled</th>\n",
              "      <th>CancellationCode</th>\n",
              "      <th>CarrierDelay</th>\n",
              "      <th>WeatherDelay</th>\n",
              "      <th>NASDelay</th>\n",
              "      <th>SecurityDelay</th>\n",
              "      <th>LateAircraftDelay</th>\n",
              "    </tr>\n",
              "  </thead>\n",
              "  <tbody>\n",
              "    <tr>\n",
              "      <th>0</th>\n",
              "      <td>2008</td>\n",
              "      <td>1</td>\n",
              "      <td>3</td>\n",
              "      <td>4</td>\n",
              "      <td>2003.0</td>\n",
              "      <td>WN</td>\n",
              "      <td>335</td>\n",
              "      <td>-14.0</td>\n",
              "      <td>8.0</td>\n",
              "      <td>IAD</td>\n",
              "      <td>TPA</td>\n",
              "      <td>810</td>\n",
              "      <td>0</td>\n",
              "      <td>NaN</td>\n",
              "      <td>NaN</td>\n",
              "      <td>NaN</td>\n",
              "      <td>NaN</td>\n",
              "      <td>NaN</td>\n",
              "      <td>NaN</td>\n",
              "    </tr>\n",
              "    <tr>\n",
              "      <th>1</th>\n",
              "      <td>2008</td>\n",
              "      <td>1</td>\n",
              "      <td>3</td>\n",
              "      <td>4</td>\n",
              "      <td>754.0</td>\n",
              "      <td>WN</td>\n",
              "      <td>3231</td>\n",
              "      <td>2.0</td>\n",
              "      <td>19.0</td>\n",
              "      <td>IAD</td>\n",
              "      <td>TPA</td>\n",
              "      <td>810</td>\n",
              "      <td>0</td>\n",
              "      <td>NaN</td>\n",
              "      <td>NaN</td>\n",
              "      <td>NaN</td>\n",
              "      <td>NaN</td>\n",
              "      <td>NaN</td>\n",
              "      <td>NaN</td>\n",
              "    </tr>\n",
              "    <tr>\n",
              "      <th>2</th>\n",
              "      <td>2008</td>\n",
              "      <td>1</td>\n",
              "      <td>3</td>\n",
              "      <td>4</td>\n",
              "      <td>628.0</td>\n",
              "      <td>WN</td>\n",
              "      <td>448</td>\n",
              "      <td>14.0</td>\n",
              "      <td>8.0</td>\n",
              "      <td>IND</td>\n",
              "      <td>BWI</td>\n",
              "      <td>515</td>\n",
              "      <td>0</td>\n",
              "      <td>NaN</td>\n",
              "      <td>NaN</td>\n",
              "      <td>NaN</td>\n",
              "      <td>NaN</td>\n",
              "      <td>NaN</td>\n",
              "      <td>NaN</td>\n",
              "    </tr>\n",
              "    <tr>\n",
              "      <th>3</th>\n",
              "      <td>2008</td>\n",
              "      <td>1</td>\n",
              "      <td>3</td>\n",
              "      <td>4</td>\n",
              "      <td>926.0</td>\n",
              "      <td>WN</td>\n",
              "      <td>1746</td>\n",
              "      <td>-6.0</td>\n",
              "      <td>-4.0</td>\n",
              "      <td>IND</td>\n",
              "      <td>BWI</td>\n",
              "      <td>515</td>\n",
              "      <td>0</td>\n",
              "      <td>NaN</td>\n",
              "      <td>NaN</td>\n",
              "      <td>NaN</td>\n",
              "      <td>NaN</td>\n",
              "      <td>NaN</td>\n",
              "      <td>NaN</td>\n",
              "    </tr>\n",
              "    <tr>\n",
              "      <th>4</th>\n",
              "      <td>2008</td>\n",
              "      <td>1</td>\n",
              "      <td>3</td>\n",
              "      <td>4</td>\n",
              "      <td>1829.0</td>\n",
              "      <td>WN</td>\n",
              "      <td>3920</td>\n",
              "      <td>34.0</td>\n",
              "      <td>34.0</td>\n",
              "      <td>IND</td>\n",
              "      <td>BWI</td>\n",
              "      <td>515</td>\n",
              "      <td>0</td>\n",
              "      <td>NaN</td>\n",
              "      <td>2.0</td>\n",
              "      <td>0.0</td>\n",
              "      <td>0.0</td>\n",
              "      <td>0.0</td>\n",
              "      <td>32.0</td>\n",
              "    </tr>\n",
              "  </tbody>\n",
              "</table>\n",
              "</div>"
            ],
            "text/plain": [
              "   Year  Month  DayofMonth  DayOfWeek  DepTime UniqueCarrier  FlightNum  \\\n",
              "0  2008      1           3          4   2003.0            WN        335   \n",
              "1  2008      1           3          4    754.0            WN       3231   \n",
              "2  2008      1           3          4    628.0            WN        448   \n",
              "3  2008      1           3          4    926.0            WN       1746   \n",
              "4  2008      1           3          4   1829.0            WN       3920   \n",
              "\n",
              "   ArrDelay  DepDelay Origin Dest  Distance  Cancelled CancellationCode  \\\n",
              "0     -14.0       8.0    IAD  TPA       810          0              NaN   \n",
              "1       2.0      19.0    IAD  TPA       810          0              NaN   \n",
              "2      14.0       8.0    IND  BWI       515          0              NaN   \n",
              "3      -6.0      -4.0    IND  BWI       515          0              NaN   \n",
              "4      34.0      34.0    IND  BWI       515          0              NaN   \n",
              "\n",
              "   CarrierDelay  WeatherDelay  NASDelay  SecurityDelay  LateAircraftDelay  \n",
              "0           NaN           NaN       NaN            NaN                NaN  \n",
              "1           NaN           NaN       NaN            NaN                NaN  \n",
              "2           NaN           NaN       NaN            NaN                NaN  \n",
              "3           NaN           NaN       NaN            NaN                NaN  \n",
              "4           2.0           0.0       0.0            0.0               32.0  "
            ]
          },
          "metadata": {
            "tags": []
          },
          "execution_count": 6
        }
      ]
    },
    {
      "metadata": {
        "id": "lDHH26GTyMEB",
        "colab_type": "text"
      },
      "cell_type": "markdown",
      "source": [
        "**Transpose the frame to see all features at once.**"
      ]
    },
    {
      "metadata": {
        "id": "j5M5gLN0yMEQ",
        "colab_type": "code",
        "colab": {
          "base_uri": "https://localhost:8080/",
          "height": 638
        },
        "outputId": "fea23465-6b75-41c3-b0ae-bd25b2bcbbc9"
      },
      "cell_type": "code",
      "source": [
        "flights_df.head().T"
      ],
      "execution_count": 7,
      "outputs": [
        {
          "output_type": "execute_result",
          "data": {
            "text/html": [
              "<div>\n",
              "<style scoped>\n",
              "    .dataframe tbody tr th:only-of-type {\n",
              "        vertical-align: middle;\n",
              "    }\n",
              "\n",
              "    .dataframe tbody tr th {\n",
              "        vertical-align: top;\n",
              "    }\n",
              "\n",
              "    .dataframe thead th {\n",
              "        text-align: right;\n",
              "    }\n",
              "</style>\n",
              "<table border=\"1\" class=\"dataframe\">\n",
              "  <thead>\n",
              "    <tr style=\"text-align: right;\">\n",
              "      <th></th>\n",
              "      <th>0</th>\n",
              "      <th>1</th>\n",
              "      <th>2</th>\n",
              "      <th>3</th>\n",
              "      <th>4</th>\n",
              "    </tr>\n",
              "  </thead>\n",
              "  <tbody>\n",
              "    <tr>\n",
              "      <th>Year</th>\n",
              "      <td>2008</td>\n",
              "      <td>2008</td>\n",
              "      <td>2008</td>\n",
              "      <td>2008</td>\n",
              "      <td>2008</td>\n",
              "    </tr>\n",
              "    <tr>\n",
              "      <th>Month</th>\n",
              "      <td>1</td>\n",
              "      <td>1</td>\n",
              "      <td>1</td>\n",
              "      <td>1</td>\n",
              "      <td>1</td>\n",
              "    </tr>\n",
              "    <tr>\n",
              "      <th>DayofMonth</th>\n",
              "      <td>3</td>\n",
              "      <td>3</td>\n",
              "      <td>3</td>\n",
              "      <td>3</td>\n",
              "      <td>3</td>\n",
              "    </tr>\n",
              "    <tr>\n",
              "      <th>DayOfWeek</th>\n",
              "      <td>4</td>\n",
              "      <td>4</td>\n",
              "      <td>4</td>\n",
              "      <td>4</td>\n",
              "      <td>4</td>\n",
              "    </tr>\n",
              "    <tr>\n",
              "      <th>DepTime</th>\n",
              "      <td>2003</td>\n",
              "      <td>754</td>\n",
              "      <td>628</td>\n",
              "      <td>926</td>\n",
              "      <td>1829</td>\n",
              "    </tr>\n",
              "    <tr>\n",
              "      <th>UniqueCarrier</th>\n",
              "      <td>WN</td>\n",
              "      <td>WN</td>\n",
              "      <td>WN</td>\n",
              "      <td>WN</td>\n",
              "      <td>WN</td>\n",
              "    </tr>\n",
              "    <tr>\n",
              "      <th>FlightNum</th>\n",
              "      <td>335</td>\n",
              "      <td>3231</td>\n",
              "      <td>448</td>\n",
              "      <td>1746</td>\n",
              "      <td>3920</td>\n",
              "    </tr>\n",
              "    <tr>\n",
              "      <th>ArrDelay</th>\n",
              "      <td>-14</td>\n",
              "      <td>2</td>\n",
              "      <td>14</td>\n",
              "      <td>-6</td>\n",
              "      <td>34</td>\n",
              "    </tr>\n",
              "    <tr>\n",
              "      <th>DepDelay</th>\n",
              "      <td>8</td>\n",
              "      <td>19</td>\n",
              "      <td>8</td>\n",
              "      <td>-4</td>\n",
              "      <td>34</td>\n",
              "    </tr>\n",
              "    <tr>\n",
              "      <th>Origin</th>\n",
              "      <td>IAD</td>\n",
              "      <td>IAD</td>\n",
              "      <td>IND</td>\n",
              "      <td>IND</td>\n",
              "      <td>IND</td>\n",
              "    </tr>\n",
              "    <tr>\n",
              "      <th>Dest</th>\n",
              "      <td>TPA</td>\n",
              "      <td>TPA</td>\n",
              "      <td>BWI</td>\n",
              "      <td>BWI</td>\n",
              "      <td>BWI</td>\n",
              "    </tr>\n",
              "    <tr>\n",
              "      <th>Distance</th>\n",
              "      <td>810</td>\n",
              "      <td>810</td>\n",
              "      <td>515</td>\n",
              "      <td>515</td>\n",
              "      <td>515</td>\n",
              "    </tr>\n",
              "    <tr>\n",
              "      <th>Cancelled</th>\n",
              "      <td>0</td>\n",
              "      <td>0</td>\n",
              "      <td>0</td>\n",
              "      <td>0</td>\n",
              "      <td>0</td>\n",
              "    </tr>\n",
              "    <tr>\n",
              "      <th>CancellationCode</th>\n",
              "      <td>NaN</td>\n",
              "      <td>NaN</td>\n",
              "      <td>NaN</td>\n",
              "      <td>NaN</td>\n",
              "      <td>NaN</td>\n",
              "    </tr>\n",
              "    <tr>\n",
              "      <th>CarrierDelay</th>\n",
              "      <td>NaN</td>\n",
              "      <td>NaN</td>\n",
              "      <td>NaN</td>\n",
              "      <td>NaN</td>\n",
              "      <td>2</td>\n",
              "    </tr>\n",
              "    <tr>\n",
              "      <th>WeatherDelay</th>\n",
              "      <td>NaN</td>\n",
              "      <td>NaN</td>\n",
              "      <td>NaN</td>\n",
              "      <td>NaN</td>\n",
              "      <td>0</td>\n",
              "    </tr>\n",
              "    <tr>\n",
              "      <th>NASDelay</th>\n",
              "      <td>NaN</td>\n",
              "      <td>NaN</td>\n",
              "      <td>NaN</td>\n",
              "      <td>NaN</td>\n",
              "      <td>0</td>\n",
              "    </tr>\n",
              "    <tr>\n",
              "      <th>SecurityDelay</th>\n",
              "      <td>NaN</td>\n",
              "      <td>NaN</td>\n",
              "      <td>NaN</td>\n",
              "      <td>NaN</td>\n",
              "      <td>0</td>\n",
              "    </tr>\n",
              "    <tr>\n",
              "      <th>LateAircraftDelay</th>\n",
              "      <td>NaN</td>\n",
              "      <td>NaN</td>\n",
              "      <td>NaN</td>\n",
              "      <td>NaN</td>\n",
              "      <td>32</td>\n",
              "    </tr>\n",
              "  </tbody>\n",
              "</table>\n",
              "</div>"
            ],
            "text/plain": [
              "                      0     1     2     3     4\n",
              "Year               2008  2008  2008  2008  2008\n",
              "Month                 1     1     1     1     1\n",
              "DayofMonth            3     3     3     3     3\n",
              "DayOfWeek             4     4     4     4     4\n",
              "DepTime            2003   754   628   926  1829\n",
              "UniqueCarrier        WN    WN    WN    WN    WN\n",
              "FlightNum           335  3231   448  1746  3920\n",
              "ArrDelay            -14     2    14    -6    34\n",
              "DepDelay              8    19     8    -4    34\n",
              "Origin              IAD   IAD   IND   IND   IND\n",
              "Dest                TPA   TPA   BWI   BWI   BWI\n",
              "Distance            810   810   515   515   515\n",
              "Cancelled             0     0     0     0     0\n",
              "CancellationCode    NaN   NaN   NaN   NaN   NaN\n",
              "CarrierDelay        NaN   NaN   NaN   NaN     2\n",
              "WeatherDelay        NaN   NaN   NaN   NaN     0\n",
              "NASDelay            NaN   NaN   NaN   NaN     0\n",
              "SecurityDelay       NaN   NaN   NaN   NaN     0\n",
              "LateAircraftDelay   NaN   NaN   NaN   NaN    32"
            ]
          },
          "metadata": {
            "tags": []
          },
          "execution_count": 7
        }
      ]
    },
    {
      "metadata": {
        "id": "xqCo3BnSyMEw",
        "colab_type": "text"
      },
      "cell_type": "markdown",
      "source": [
        "**Examine data types of all features and total dataframe size in memory.**"
      ]
    },
    {
      "metadata": {
        "id": "0gtW69LxyME2",
        "colab_type": "code",
        "colab": {
          "base_uri": "https://localhost:8080/",
          "height": 425
        },
        "outputId": "0ab4c23c-7d15-463b-b723-d1d72c4ea5cd"
      },
      "cell_type": "code",
      "source": [
        "flights_df.info()"
      ],
      "execution_count": 8,
      "outputs": [
        {
          "output_type": "stream",
          "text": [
            "<class 'pandas.core.frame.DataFrame'>\n",
            "RangeIndex: 7009728 entries, 0 to 7009727\n",
            "Data columns (total 19 columns):\n",
            "Year                 uint16\n",
            "Month                uint8\n",
            "DayofMonth           uint8\n",
            "DayOfWeek            uint8\n",
            "DepTime              float16\n",
            "UniqueCarrier        object\n",
            "FlightNum            uint16\n",
            "ArrDelay             float16\n",
            "DepDelay             float16\n",
            "Origin               object\n",
            "Dest                 object\n",
            "Distance             uint16\n",
            "Cancelled            uint8\n",
            "CancellationCode     object\n",
            "CarrierDelay         float16\n",
            "WeatherDelay         float16\n",
            "NASDelay             float16\n",
            "SecurityDelay        float16\n",
            "LateAircraftDelay    float16\n",
            "dtypes: float16(8), object(4), uint16(3), uint8(4)\n",
            "memory usage: 387.7+ MB\n"
          ],
          "name": "stdout"
        }
      ]
    },
    {
      "metadata": {
        "id": "-Yzj6FK6yMFH",
        "colab_type": "text"
      },
      "cell_type": "markdown",
      "source": [
        "**Get basic statistics of each feature.**"
      ]
    },
    {
      "metadata": {
        "id": "iq4FTRj9yMFJ",
        "colab_type": "code",
        "colab": {
          "base_uri": "https://localhost:8080/",
          "height": 514
        },
        "outputId": "c4341039-8bf7-4c5a-a3ea-fb30215278fd"
      },
      "cell_type": "code",
      "source": [
        "flights_df.describe().T"
      ],
      "execution_count": 9,
      "outputs": [
        {
          "output_type": "execute_result",
          "data": {
            "text/html": [
              "<div>\n",
              "<style scoped>\n",
              "    .dataframe tbody tr th:only-of-type {\n",
              "        vertical-align: middle;\n",
              "    }\n",
              "\n",
              "    .dataframe tbody tr th {\n",
              "        vertical-align: top;\n",
              "    }\n",
              "\n",
              "    .dataframe thead th {\n",
              "        text-align: right;\n",
              "    }\n",
              "</style>\n",
              "<table border=\"1\" class=\"dataframe\">\n",
              "  <thead>\n",
              "    <tr style=\"text-align: right;\">\n",
              "      <th></th>\n",
              "      <th>count</th>\n",
              "      <th>mean</th>\n",
              "      <th>std</th>\n",
              "      <th>min</th>\n",
              "      <th>25%</th>\n",
              "      <th>50%</th>\n",
              "      <th>75%</th>\n",
              "      <th>max</th>\n",
              "    </tr>\n",
              "  </thead>\n",
              "  <tbody>\n",
              "    <tr>\n",
              "      <th>Year</th>\n",
              "      <td>7009728.0</td>\n",
              "      <td>2008.000000</td>\n",
              "      <td>0.000000</td>\n",
              "      <td>2008.0</td>\n",
              "      <td>2008.0</td>\n",
              "      <td>2008.0</td>\n",
              "      <td>2008.0</td>\n",
              "      <td>2008.0</td>\n",
              "    </tr>\n",
              "    <tr>\n",
              "      <th>Month</th>\n",
              "      <td>7009728.0</td>\n",
              "      <td>6.375130</td>\n",
              "      <td>3.406737</td>\n",
              "      <td>1.0</td>\n",
              "      <td>3.0</td>\n",
              "      <td>6.0</td>\n",
              "      <td>9.0</td>\n",
              "      <td>12.0</td>\n",
              "    </tr>\n",
              "    <tr>\n",
              "      <th>DayofMonth</th>\n",
              "      <td>7009728.0</td>\n",
              "      <td>15.728015</td>\n",
              "      <td>8.797068</td>\n",
              "      <td>1.0</td>\n",
              "      <td>8.0</td>\n",
              "      <td>16.0</td>\n",
              "      <td>23.0</td>\n",
              "      <td>31.0</td>\n",
              "    </tr>\n",
              "    <tr>\n",
              "      <th>DayOfWeek</th>\n",
              "      <td>7009728.0</td>\n",
              "      <td>3.924182</td>\n",
              "      <td>1.988259</td>\n",
              "      <td>1.0</td>\n",
              "      <td>2.0</td>\n",
              "      <td>4.0</td>\n",
              "      <td>6.0</td>\n",
              "      <td>7.0</td>\n",
              "    </tr>\n",
              "    <tr>\n",
              "      <th>DepTime</th>\n",
              "      <td>6873482.0</td>\n",
              "      <td>NaN</td>\n",
              "      <td>NaN</td>\n",
              "      <td>1.0</td>\n",
              "      <td>928.0</td>\n",
              "      <td>1325.0</td>\n",
              "      <td>1728.0</td>\n",
              "      <td>2400.0</td>\n",
              "    </tr>\n",
              "    <tr>\n",
              "      <th>FlightNum</th>\n",
              "      <td>7009728.0</td>\n",
              "      <td>2224.200105</td>\n",
              "      <td>1961.715999</td>\n",
              "      <td>1.0</td>\n",
              "      <td>622.0</td>\n",
              "      <td>1571.0</td>\n",
              "      <td>3518.0</td>\n",
              "      <td>9743.0</td>\n",
              "    </tr>\n",
              "    <tr>\n",
              "      <th>ArrDelay</th>\n",
              "      <td>6855029.0</td>\n",
              "      <td>NaN</td>\n",
              "      <td>NaN</td>\n",
              "      <td>-519.0</td>\n",
              "      <td>-10.0</td>\n",
              "      <td>-2.0</td>\n",
              "      <td>12.0</td>\n",
              "      <td>2460.0</td>\n",
              "    </tr>\n",
              "    <tr>\n",
              "      <th>DepDelay</th>\n",
              "      <td>6873482.0</td>\n",
              "      <td>NaN</td>\n",
              "      <td>NaN</td>\n",
              "      <td>-534.0</td>\n",
              "      <td>-4.0</td>\n",
              "      <td>-1.0</td>\n",
              "      <td>8.0</td>\n",
              "      <td>2468.0</td>\n",
              "    </tr>\n",
              "    <tr>\n",
              "      <th>Distance</th>\n",
              "      <td>7009728.0</td>\n",
              "      <td>726.387029</td>\n",
              "      <td>562.101803</td>\n",
              "      <td>11.0</td>\n",
              "      <td>325.0</td>\n",
              "      <td>581.0</td>\n",
              "      <td>954.0</td>\n",
              "      <td>4962.0</td>\n",
              "    </tr>\n",
              "    <tr>\n",
              "      <th>Cancelled</th>\n",
              "      <td>7009728.0</td>\n",
              "      <td>0.019606</td>\n",
              "      <td>0.138643</td>\n",
              "      <td>0.0</td>\n",
              "      <td>0.0</td>\n",
              "      <td>0.0</td>\n",
              "      <td>0.0</td>\n",
              "      <td>1.0</td>\n",
              "    </tr>\n",
              "    <tr>\n",
              "      <th>CarrierDelay</th>\n",
              "      <td>1524735.0</td>\n",
              "      <td>NaN</td>\n",
              "      <td>NaN</td>\n",
              "      <td>0.0</td>\n",
              "      <td>0.0</td>\n",
              "      <td>0.0</td>\n",
              "      <td>16.0</td>\n",
              "      <td>2436.0</td>\n",
              "    </tr>\n",
              "    <tr>\n",
              "      <th>WeatherDelay</th>\n",
              "      <td>1524735.0</td>\n",
              "      <td>NaN</td>\n",
              "      <td>NaN</td>\n",
              "      <td>0.0</td>\n",
              "      <td>0.0</td>\n",
              "      <td>0.0</td>\n",
              "      <td>0.0</td>\n",
              "      <td>1352.0</td>\n",
              "    </tr>\n",
              "    <tr>\n",
              "      <th>NASDelay</th>\n",
              "      <td>1524735.0</td>\n",
              "      <td>NaN</td>\n",
              "      <td>NaN</td>\n",
              "      <td>0.0</td>\n",
              "      <td>0.0</td>\n",
              "      <td>6.0</td>\n",
              "      <td>21.0</td>\n",
              "      <td>1357.0</td>\n",
              "    </tr>\n",
              "    <tr>\n",
              "      <th>SecurityDelay</th>\n",
              "      <td>1524735.0</td>\n",
              "      <td>NaN</td>\n",
              "      <td>NaN</td>\n",
              "      <td>0.0</td>\n",
              "      <td>0.0</td>\n",
              "      <td>0.0</td>\n",
              "      <td>0.0</td>\n",
              "      <td>392.0</td>\n",
              "    </tr>\n",
              "    <tr>\n",
              "      <th>LateAircraftDelay</th>\n",
              "      <td>1524735.0</td>\n",
              "      <td>NaN</td>\n",
              "      <td>NaN</td>\n",
              "      <td>0.0</td>\n",
              "      <td>0.0</td>\n",
              "      <td>0.0</td>\n",
              "      <td>26.0</td>\n",
              "      <td>1316.0</td>\n",
              "    </tr>\n",
              "  </tbody>\n",
              "</table>\n",
              "</div>"
            ],
            "text/plain": [
              "                       count         mean          std     min     25%  \\\n",
              "Year               7009728.0  2008.000000     0.000000  2008.0  2008.0   \n",
              "Month              7009728.0     6.375130     3.406737     1.0     3.0   \n",
              "DayofMonth         7009728.0    15.728015     8.797068     1.0     8.0   \n",
              "DayOfWeek          7009728.0     3.924182     1.988259     1.0     2.0   \n",
              "DepTime            6873482.0          NaN          NaN     1.0   928.0   \n",
              "FlightNum          7009728.0  2224.200105  1961.715999     1.0   622.0   \n",
              "ArrDelay           6855029.0          NaN          NaN  -519.0   -10.0   \n",
              "DepDelay           6873482.0          NaN          NaN  -534.0    -4.0   \n",
              "Distance           7009728.0   726.387029   562.101803    11.0   325.0   \n",
              "Cancelled          7009728.0     0.019606     0.138643     0.0     0.0   \n",
              "CarrierDelay       1524735.0          NaN          NaN     0.0     0.0   \n",
              "WeatherDelay       1524735.0          NaN          NaN     0.0     0.0   \n",
              "NASDelay           1524735.0          NaN          NaN     0.0     0.0   \n",
              "SecurityDelay      1524735.0          NaN          NaN     0.0     0.0   \n",
              "LateAircraftDelay  1524735.0          NaN          NaN     0.0     0.0   \n",
              "\n",
              "                      50%     75%     max  \n",
              "Year               2008.0  2008.0  2008.0  \n",
              "Month                 6.0     9.0    12.0  \n",
              "DayofMonth           16.0    23.0    31.0  \n",
              "DayOfWeek             4.0     6.0     7.0  \n",
              "DepTime            1325.0  1728.0  2400.0  \n",
              "FlightNum          1571.0  3518.0  9743.0  \n",
              "ArrDelay             -2.0    12.0  2460.0  \n",
              "DepDelay             -1.0     8.0  2468.0  \n",
              "Distance            581.0   954.0  4962.0  \n",
              "Cancelled             0.0     0.0     1.0  \n",
              "CarrierDelay          0.0    16.0  2436.0  \n",
              "WeatherDelay          0.0     0.0  1352.0  \n",
              "NASDelay              6.0    21.0  1357.0  \n",
              "SecurityDelay         0.0     0.0   392.0  \n",
              "LateAircraftDelay     0.0    26.0  1316.0  "
            ]
          },
          "metadata": {
            "tags": []
          },
          "execution_count": 9
        }
      ]
    },
    {
      "metadata": {
        "id": "ok7mxCMByMFZ",
        "colab_type": "text"
      },
      "cell_type": "markdown",
      "source": [
        "**Count unique Carriers and plot their relative share of flights:**"
      ]
    },
    {
      "metadata": {
        "id": "-gvJ8D_byMFf",
        "colab_type": "code",
        "colab": {}
      },
      "cell_type": "code",
      "source": [
        "flights_df['UniqueCarrier'].nunique()"
      ],
      "execution_count": 0,
      "outputs": []
    },
    {
      "metadata": {
        "id": "Xod_6ldwyMF3",
        "colab_type": "code",
        "colab": {}
      },
      "cell_type": "code",
      "source": [
        "flights_df.groupby('UniqueCarrier').size().plot(kind='bar');"
      ],
      "execution_count": 0,
      "outputs": []
    },
    {
      "metadata": {
        "id": "E4K6gtchyMGT",
        "colab_type": "text"
      },
      "cell_type": "markdown",
      "source": [
        "**We can also _group by_ category/categories in order to calculate different aggregated statistics.**\n",
        "\n",
        "**For example, finding top-3 flight codes, that have the largest total distance travelled in year 2008.**"
      ]
    },
    {
      "metadata": {
        "id": "-uSOJlkyyMGd",
        "colab_type": "code",
        "colab": {}
      },
      "cell_type": "code",
      "source": [
        "flights_df.groupby(['UniqueCarrier','FlightNum'])['Distance'].sum().sort_values(ascending=False).iloc[:3]"
      ],
      "execution_count": 0,
      "outputs": []
    },
    {
      "metadata": {
        "id": "N-PZ1tDXyMGt",
        "colab_type": "text"
      },
      "cell_type": "markdown",
      "source": [
        "**Another way:**"
      ]
    },
    {
      "metadata": {
        "id": "HQly-mDLyMG4",
        "colab_type": "code",
        "colab": {}
      },
      "cell_type": "code",
      "source": [
        "flights_df.groupby(['UniqueCarrier','FlightNum'])\\\n",
        "  .agg({'Distance': [np.mean, np.sum, 'count'],\n",
        "        'Cancelled': np.sum})\\\n",
        "  .sort_values(('Distance', 'sum'), ascending=False)\\\n",
        "  .iloc[0:3]"
      ],
      "execution_count": 0,
      "outputs": []
    },
    {
      "metadata": {
        "id": "AecFaQbLyMHc",
        "colab_type": "text"
      },
      "cell_type": "markdown",
      "source": [
        "**Number of flights by days of week and months:**"
      ]
    },
    {
      "metadata": {
        "id": "fTQRrIRMyMHh",
        "colab_type": "code",
        "colab": {}
      },
      "cell_type": "code",
      "source": [
        "pd.crosstab(flights_df.Month, flights_df.DayOfWeek)"
      ],
      "execution_count": 0,
      "outputs": []
    },
    {
      "metadata": {
        "id": "DDezvbJDyMIk",
        "colab_type": "text"
      },
      "cell_type": "markdown",
      "source": [
        "**It can also be handy to color such tables in order to easily notice outliers:**"
      ]
    },
    {
      "metadata": {
        "id": "uEJrB8RwyMIz",
        "colab_type": "code",
        "colab": {}
      },
      "cell_type": "code",
      "source": [
        "plt.imshow(pd.crosstab(flights_df.Month, flights_df.DayOfWeek),\n",
        "           cmap='seismic', interpolation='none');"
      ],
      "execution_count": 0,
      "outputs": []
    },
    {
      "metadata": {
        "id": "07bWYJu6yMJR",
        "colab_type": "text"
      },
      "cell_type": "markdown",
      "source": [
        "**Flight distance histogram:**"
      ]
    },
    {
      "metadata": {
        "scrolled": true,
        "id": "e1g1ZKjvyMJT",
        "colab_type": "code",
        "colab": {}
      },
      "cell_type": "code",
      "source": [
        "flights_df.hist('Distance', bins=20);"
      ],
      "execution_count": 0,
      "outputs": []
    },
    {
      "metadata": {
        "id": "3d3sjLI2yMJm",
        "colab_type": "text"
      },
      "cell_type": "markdown",
      "source": [
        "**Making a histogram of flight frequency by date.**"
      ]
    },
    {
      "metadata": {
        "id": "QiKuMdIXyMJp",
        "colab_type": "code",
        "colab": {}
      },
      "cell_type": "code",
      "source": [
        "flights_df['Date'] = pd.to_datetime(flights_df.rename(columns={'DayofMonth': 'Day'})[['Year', 'Month', 'Day']])"
      ],
      "execution_count": 0,
      "outputs": []
    },
    {
      "metadata": {
        "id": "-NNUNfhCyMJ3",
        "colab_type": "code",
        "colab": {}
      },
      "cell_type": "code",
      "source": [
        "num_flights_by_date = flights_df.groupby('Date').size()"
      ],
      "execution_count": 0,
      "outputs": []
    },
    {
      "metadata": {
        "scrolled": true,
        "id": "CsjG44YKyMKB",
        "colab_type": "code",
        "colab": {}
      },
      "cell_type": "code",
      "source": [
        "num_flights_by_date.plot();"
      ],
      "execution_count": 0,
      "outputs": []
    },
    {
      "metadata": {
        "id": "u4morK2LyMKb",
        "colab_type": "text"
      },
      "cell_type": "markdown",
      "source": [
        "**Do you see a weekly pattern above? And below?**"
      ]
    },
    {
      "metadata": {
        "id": "DCk3lNLYyMKf",
        "colab_type": "code",
        "colab": {}
      },
      "cell_type": "code",
      "source": [
        "num_flights_by_date.rolling(window=7).mean().plot();"
      ],
      "execution_count": 0,
      "outputs": []
    },
    {
      "metadata": {
        "id": "8AI0aYEtyMKu",
        "colab_type": "text"
      },
      "cell_type": "markdown",
      "source": [
        "**1. Find top-10 carriers in terms of the number of completed flights (_UniqueCarrier_ column)?**\n",
        "\n",
        "**Which of the listed below is _not_ in your top-10 list?**\n",
        "- DL\n",
        "- AA\n",
        "- OO\n",
        "- EV "
      ]
    },
    {
      "metadata": {
        "id": "tcWvCFnSyMKw",
        "colab_type": "code",
        "colab": {}
      },
      "cell_type": "code",
      "source": [
        "# You code here"
      ],
      "execution_count": 0,
      "outputs": []
    },
    {
      "metadata": {
        "id": "WRNcH_ZjyMK7",
        "colab_type": "text"
      },
      "cell_type": "markdown",
      "source": [
        "**2. Plot distributions of flight cancellation reasons (_CancellationCode_).**\n",
        "\n",
        "**What is the most frequent reason for flight cancellation? (Use this [link](https://www.transtats.bts.gov/Fields.asp?Table_ID=236) to translate codes into reasons)**\n",
        "- carrier\n",
        "- weather conditions \n",
        "- National Air System\n",
        "- security reasons"
      ]
    },
    {
      "metadata": {
        "id": "dLPBW2HmyMK-",
        "colab_type": "code",
        "colab": {}
      },
      "cell_type": "code",
      "source": [
        "# You code here"
      ],
      "execution_count": 0,
      "outputs": []
    },
    {
      "metadata": {
        "id": "ZTv49zbZyMLO",
        "colab_type": "text"
      },
      "cell_type": "markdown",
      "source": [
        "**3. Which route is the most frequent, in terms of the number of flights?**\n",
        "\n",
        "(Take a look at _'Origin'_ and _'Dest'_ features. Consider _A->B_ and _B->A_ directions as _different_ routes) \n",
        "\n",
        " - New-York – Washington\n",
        " - San-Francisco – Los-Angeles \n",
        " - San-Jose – Dallas\n",
        " - New-York – San-Francisco"
      ]
    },
    {
      "metadata": {
        "id": "E5a-yxfRyMLR",
        "colab_type": "code",
        "colab": {}
      },
      "cell_type": "code",
      "source": [
        "# You code here"
      ],
      "execution_count": 0,
      "outputs": []
    },
    {
      "metadata": {
        "id": "tBb18QxgyMLZ",
        "colab_type": "text"
      },
      "cell_type": "markdown",
      "source": [
        "**4. Find top-5 delayed routes (count how many times they were delayed on departure). From all flights on these 5 routes, count all flights with weather conditions contributing to a delay.**\n",
        "\n",
        "- 449 \n",
        "- 539 \n",
        "- 549 \n",
        "- 668 "
      ]
    },
    {
      "metadata": {
        "id": "1iyzs4eNyMLd",
        "colab_type": "code",
        "colab": {}
      },
      "cell_type": "code",
      "source": [
        "# You code here"
      ],
      "execution_count": 0,
      "outputs": []
    },
    {
      "metadata": {
        "id": "9cK4jv_AyMLl",
        "colab_type": "text"
      },
      "cell_type": "markdown",
      "source": [
        "**5. Examine the hourly distribution of departure times. For that, create a new series from DepTime, removing missing values.**\n",
        "\n",
        "**Choose all correct statements:**\n",
        " - Flights are normally distributed within time interval [0-23] (Search for: Normal distribution, bell curve).\n",
        " - Flights are uniformly distributed within time interval [0-23].\n",
        " - In the period from 0 am to 4 am there are considerably less flights than from 7 pm to 8 pm."
      ]
    },
    {
      "metadata": {
        "id": "rsWRMJI3yMLq",
        "colab_type": "code",
        "colab": {}
      },
      "cell_type": "code",
      "source": [
        "# You code here"
      ],
      "execution_count": 0,
      "outputs": []
    },
    {
      "metadata": {
        "id": "3meDZk97yML0",
        "colab_type": "text"
      },
      "cell_type": "markdown",
      "source": [
        "**6. Show how the number of flights changes through time (on the daily/weekly/monthly basis) and interpret the findings.**\n",
        "\n",
        "**Choose all correct statements:**\n",
        "- The number of flights during weekends is less than during weekdays (working days).\n",
        "- The lowest number of flights is on Sunday.\n",
        "- There are less flights during winter than during summer.  "
      ]
    },
    {
      "metadata": {
        "id": "5J8OhBrQyML4",
        "colab_type": "code",
        "colab": {}
      },
      "cell_type": "code",
      "source": [
        "# You code here"
      ],
      "execution_count": 0,
      "outputs": []
    },
    {
      "metadata": {
        "id": "q4LPaJSnyMMA",
        "colab_type": "text"
      },
      "cell_type": "markdown",
      "source": [
        "**7. Examine the distribution of cancellation reasons with time. Make a bar plot of cancellation reasons aggregated by months.**\n",
        "\n",
        "**Choose all correct statements:**\n",
        "- December has the highest rate of cancellations due to weather. \n",
        "- The highest rate of cancellations in September is due to Security reasons.\n",
        "- April's top cancellation reason is carriers.\n",
        "- Flights cancellations due to National Air System are more frequent than those due to carriers."
      ]
    },
    {
      "metadata": {
        "id": "pgyHrkStyMMD",
        "colab_type": "code",
        "colab": {}
      },
      "cell_type": "code",
      "source": [
        "# You code here"
      ],
      "execution_count": 0,
      "outputs": []
    },
    {
      "metadata": {
        "id": "Yjq_VTlnyMML",
        "colab_type": "text"
      },
      "cell_type": "markdown",
      "source": [
        "**8. Which month has the greatest number of cancellations due to Carrier?** \n",
        "- May\n",
        "- January\n",
        "- September\n",
        "- April "
      ]
    },
    {
      "metadata": {
        "id": "7hIxl-uByMMR",
        "colab_type": "code",
        "colab": {}
      },
      "cell_type": "code",
      "source": [
        "# You code here"
      ],
      "execution_count": 0,
      "outputs": []
    },
    {
      "metadata": {
        "id": "GuVppDlIyMMl",
        "colab_type": "text"
      },
      "cell_type": "markdown",
      "source": [
        "**9. Identify the carrier with the greatest number of cancellations due to carrier in the corresponding month from the previous question.**\n",
        "\n",
        "- 9E\n",
        "- EV\n",
        "- HA\n",
        "- AA"
      ]
    },
    {
      "metadata": {
        "id": "qrvh69i-yMM2",
        "colab_type": "code",
        "colab": {}
      },
      "cell_type": "code",
      "source": [
        "# You code here"
      ],
      "execution_count": 0,
      "outputs": []
    },
    {
      "metadata": {
        "id": "UdmJ1dkOyMNR",
        "colab_type": "text"
      },
      "cell_type": "markdown",
      "source": [
        "**10. Examine median arrival and departure delays (in time) by carrier. Which carrier has the lowest median delay time for both arrivals and departures? Leave only non-negative values of delay times ('ArrDelay', 'DepDelay').\n",
        "[Boxplots](https://seaborn.pydata.org/generated/seaborn.boxplot.html) can be helpful in this exercise, as well as it might be a good idea to remove outliers in order to build nice graphs. You can exclude delay time values higher than a corresponding .95 percentile.**\n",
        "\n",
        "- EV\n",
        "- OO\n",
        "- AA\n",
        "- AQ "
      ]
    },
    {
      "metadata": {
        "id": "Tpii0ZS7yMNV",
        "colab_type": "code",
        "colab": {}
      },
      "cell_type": "code",
      "source": [
        "# You code here"
      ],
      "execution_count": 0,
      "outputs": []
    }
  ]
}