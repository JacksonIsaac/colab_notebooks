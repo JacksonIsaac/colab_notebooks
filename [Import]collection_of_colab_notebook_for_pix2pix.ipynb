{
  "nbformat": 4,
  "nbformat_minor": 0,
  "metadata": {
    "colab": {
      "name": "[Imported] Colaboratory Notebooks for pix2pix",
      "version": "0.3.2",
      "provenance": [],
      "collapsed_sections": [],
      "include_colab_link": true
    },
    "kernelspec": {
      "name": "python3",
      "display_name": "Python 3"
    }
  },
  "cells": [
    {
      "cell_type": "markdown",
      "metadata": {
        "id": "view-in-github",
        "colab_type": "text"
      },
      "source": [
        "[View in Colaboratory](https://colab.research.google.com/github/JacksonIsaac/colab_notebooks/blob/master/[Import]collection_of_colab_notebook_for_pix2pix.ipynb)"
      ]
    },
    {
      "metadata": {
        "id": "8GTHAehRST06",
        "colab_type": "text"
      },
      "cell_type": "markdown",
      "source": [
        "# Colaboratory Notebooks for pix2pix\n",
        "\n",
        "![Teaser](https://i.imgur.com/D3GpTZul.jpg)\n",
        "\n",
        "This is a collection of Colaboratory notebooks for training [pix2pix](https://phillipi.github.io/pix2pix/) (image-to-image translation) model.\n",
        "\n",
        "- [Image segmentation and preprocessing](https://colab.research.google.com/drive/1hk1TaF8DmTcJ6S6Cg8q6wRqoWkP4_9K-)\n",
        "- [Edge detection with HED (holistically-nested edge detection)](https://colab.research.google.com/drive/1SI57hLgHCX6mbZ2jNveNvq1Pqx07Jag7)\n",
        "- [Combining input/target image pair](https://colab.research.google.com/drive/161Eohk6bhij02KjrakgnDy_vTuSNeheo)\n",
        "- [Training pix2pix network](https://colab.research.google.com/drive/182CGDnFxt08NmjCCTu5jDweUjn3jhB2y)\n",
        "- [Weight data exporter](https://colab.research.google.com/drive/1Dc3E6GJ4jjlBIJLaJd--FgKFQGpa_O5N)\n",
        "\n",
        "## Acknowledgements\n",
        "\n",
        "pix2pix was originally developed by [Isola et al.](https://phillipi.github.io/pix2pix/) using Torch, then ported to TensorFlow by [affinelayer](https://github.com/affinelayer/pix2pix-tensorflow). The Colaboratory Notebook was written by [Zaid Alyafeai](https://github.com/zaidalyafeai/zaidalyafeai.github.io). I (keijiro) added some preprocessing scripts."
      ]
    }
  ]
}