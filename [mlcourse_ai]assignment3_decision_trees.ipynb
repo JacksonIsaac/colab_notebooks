{
  "nbformat": 4,
  "nbformat_minor": 0,
  "metadata": {
    "colab": {
      "name": "[mlcourse.ai]assignment3_decision_trees.ipynb",
      "version": "0.3.2",
      "provenance": [],
      "include_colab_link": true
    },
    "kernelspec": {
      "display_name": "Python 3",
      "language": "python",
      "name": "python3"
    }
  },
  "cells": [
    {
      "cell_type": "markdown",
      "metadata": {
        "id": "view-in-github",
        "colab_type": "text"
      },
      "source": [
        "[View in Colaboratory](https://colab.research.google.com/github/JacksonIsaac/colab_notebooks/blob/master/[mlcourse_ai]assignment3_decision_trees.ipynb)"
      ]
    },
    {
      "metadata": {
        "id": "QfyjizrCoIg9",
        "colab_type": "text"
      },
      "cell_type": "markdown",
      "source": [
        "<center>\n",
        "<img src=\"https://github.com/Yorko/mlcourse.ai/blob/master/img/ods_stickers.jpg?raw=1\" />\n",
        "    \n",
        "## [mlcourse.ai](mlcourse.ai) – Open Machine Learning Course \n",
        "Author: [Yury Kashnitskiy](https://yorko.github.io) (@yorko). Edited by Anna Tarelina (@feuerengel). This material is subject to the terms and conditions of the [Creative Commons CC BY-NC-SA 4.0](https://creativecommons.org/licenses/by-nc-sa/4.0/) license. Free use is permitted for any non-commercial purpose."
      ]
    },
    {
      "metadata": {
        "id": "V_T-dDr4oIhG",
        "colab_type": "text"
      },
      "cell_type": "markdown",
      "source": [
        "# <center>Assignment #3. Fall 2018\n",
        "## <center> Decision trees for classification and regression"
      ]
    },
    {
      "metadata": {
        "id": "dgDT44gvoIhK",
        "colab_type": "text"
      },
      "cell_type": "markdown",
      "source": [
        "**In this assignment, we will find out how a decision tree works in a regression task, then will build and tune classification decision trees for identifying heart diseases.\n",
        "Fill in the missing code in the cells marked \"You code here\" and answer the questions in the [web form](https://docs.google.com/forms/d/1hsrNFSiRsvgB27gMbXfQWpq8yzNhLZxuh_VSzRz7XhI).**"
      ]
    },
    {
      "metadata": {
        "id": "zHtWrctMoIhO",
        "colab_type": "code",
        "colab": {}
      },
      "cell_type": "code",
      "source": [
        "import numpy as np\n",
        "import pandas as pd\n",
        "from matplotlib import pyplot as plt\n",
        "from sklearn.model_selection import train_test_split, GridSearchCV\n",
        "from sklearn.metrics import accuracy_score\n",
        "from sklearn.tree import DecisionTreeClassifier, export_graphviz"
      ],
      "execution_count": 0,
      "outputs": []
    },
    {
      "metadata": {
        "id": "VUsUtGxSoIhb",
        "colab_type": "text"
      },
      "cell_type": "markdown",
      "source": [
        "## 1. A simple example of regression using decision trees"
      ]
    },
    {
      "metadata": {
        "id": "SFqD-W8DoIhe",
        "colab_type": "text"
      },
      "cell_type": "markdown",
      "source": [
        "Let's consider the following one-dimensional regression problem. It is needed to build the function $a(x)$ to approximate original dependency $y = f(x)$ using mean-squared error $min \\sum_i {(a(x_i) - f(x_i))}^2$."
      ]
    },
    {
      "metadata": {
        "id": "Ca9Oq_rLoIhh",
        "colab_type": "code",
        "colab": {}
      },
      "cell_type": "code",
      "source": [
        "X = np.linspace(-2, 2, 7)\n",
        "y = X ** 3\n",
        "\n",
        "plt.scatter(X, y)\n",
        "plt.xlabel(r'$x$')\n",
        "plt.ylabel(r'$y$');"
      ],
      "execution_count": 0,
      "outputs": []
    },
    {
      "metadata": {
        "id": "otAMtaMYoIhz",
        "colab_type": "text"
      },
      "cell_type": "markdown",
      "source": [
        "Let's make several steps to build the decision tree. Let's choose the symmetric thresholds equal to 0, 1.5 and -1.5 for partitioning. In the case of a regression task, the leaf outputs mean answer for all observations in this leaf."
      ]
    },
    {
      "metadata": {
        "id": "YAuxTixloIh3",
        "colab_type": "text"
      },
      "cell_type": "markdown",
      "source": [
        "Let's start from tree of depth 0 that contains all train observations. How will predictions of this tree look like for $x \\in [-2, 2]$? Create the appropriate plot using a pen, paper and Python if it is needed (without using `sklearn`)."
      ]
    },
    {
      "metadata": {
        "id": "N2ZSF3kxoIh6",
        "colab_type": "code",
        "colab": {}
      },
      "cell_type": "code",
      "source": [
        "# You code here"
      ],
      "execution_count": 0,
      "outputs": []
    },
    {
      "metadata": {
        "id": "Dr0LPyUaoIiE",
        "colab_type": "text"
      },
      "cell_type": "markdown",
      "source": [
        "Let's split the data according to the following condition $[x < 0]$. It gives us the tree of depth 1 with two leaves. Let's create a similar plot for predictions of this tree."
      ]
    },
    {
      "metadata": {
        "id": "WQgg0zVVoIiI",
        "colab_type": "code",
        "colab": {}
      },
      "cell_type": "code",
      "source": [
        "# You code here"
      ],
      "execution_count": 0,
      "outputs": []
    },
    {
      "metadata": {
        "id": "uZ9X0p54oIiR",
        "colab_type": "text"
      },
      "cell_type": "markdown",
      "source": [
        "In the decision tree algorithm, the feature and the threshold for splitting are chosen according to some criterion. The commonly used criterion for regression is based on variance: $$\\large Q(X, y, j, t) = D(X, y) - \\dfrac{|X_l|}{|X|} D(X_l, y_l) - \\dfrac{|X_r|}{|X|} D(X_r, y_r),$$\n",
        "where $\\large X$ and $\\large y$ are a feature matrix and a target vector (correspondingly) for training instances in a current node, $\\large X_l, y_l$ and $\\large X_r, y_r$ are splits of samples $\\large X, y$ into two parts w.r.t. $\\large [x_j < t]$ (by $\\large j$-th feature and threshold $\\large t$), $\\large |X|$, $\\large |X_l|$, $\\large |X_r|$ (or, the same, $\\large |y|$, $\\large |y_l|$, $\\large |y_r|$) are sizes of appropriate samples, and $\\large D(X, y)$ is variance of answers $\\large y$ for all instances in $\\large X$:\n",
        "$$\\large D(X) = \\dfrac{1}{|X|} \\sum_{j=1}^{|X|}(y_j – \\dfrac{1}{|X|}\\sum_{i = 1}^{|X|}y_i)^2$$\n",
        "Here $\\large y_i = y(x_i)$ is the answer for the $\\large x_i$ instance. Feature index $\\large j$ and threshold $\\large t$ are chosen to maximize the value of criterion  $\\large Q(X, y, j, t)$ for each split.\n",
        "\n",
        "In our 1D case,  there's only one feature so $\\large Q$ depends only on threshold $\\large t$ and training data $\\large X$ and $\\large y$. Let's designate it $\\large Q_{1d}(X, y, t)$ meaning that the criterion no longer depends on feature index $\\large j$, i.e. in 1D case $\\large j = 0$.\n",
        "\n",
        "Create the plot of criterion $\\large Q_{1d}(X, y, t)$  as a function of threshold value $t$ on the interval $[-1.9, 1.9]$."
      ]
    },
    {
      "metadata": {
        "id": "UM7lYvqvoIiU",
        "colab_type": "code",
        "colab": {}
      },
      "cell_type": "code",
      "source": [
        "def regression_var_criterion(X, y, t):\n",
        "    pass\n",
        "    # You code here"
      ],
      "execution_count": 0,
      "outputs": []
    },
    {
      "metadata": {
        "id": "OQokVuxNoIie",
        "colab_type": "code",
        "colab": {}
      },
      "cell_type": "code",
      "source": [
        "# You code here"
      ],
      "execution_count": 0,
      "outputs": []
    },
    {
      "metadata": {
        "id": "PCSvApRMoIir",
        "colab_type": "text"
      },
      "cell_type": "markdown",
      "source": [
        "**<font color='red'>Question 1.</font> Is the threshold value $t = 0$ optimal according to the variance criterion?**\n",
        "- Yes\n",
        "- No "
      ]
    },
    {
      "metadata": {
        "id": "m2-FKiq4oIiv",
        "colab_type": "text"
      },
      "cell_type": "markdown",
      "source": [
        "Then let's make splitting in each of the leaves' nodes. In the left branch (where previous split was $x < 0$) using the criterion $[x < -1.5]$, in the right branch (where previous split was $x \\geqslant 0$) with the following criterion $[x < 1.5]$. It gives us the tree of depth 2 with 7 nodes and 4 leaves. Create the plot of these tree predictions for $x \\in [-2, 2]$."
      ]
    },
    {
      "metadata": {
        "id": "iUNaxEzwoIiy",
        "colab_type": "code",
        "colab": {}
      },
      "cell_type": "code",
      "source": [
        "# You code here"
      ],
      "execution_count": 0,
      "outputs": []
    },
    {
      "metadata": {
        "id": "yD6CUzxioIi7",
        "colab_type": "text"
      },
      "cell_type": "markdown",
      "source": [
        "**<font color='red'>Question 2.</font> How many segments are there on the plot of tree predictions in the interval [-2, 2] (it is necessary to count only horizontal lines)?**\n",
        "- 2\n",
        "- 3\n",
        "- 4\n",
        "- 5"
      ]
    },
    {
      "metadata": {
        "id": "a6BhPix5oIi_",
        "colab_type": "text"
      },
      "cell_type": "markdown",
      "source": [
        "## 2. Building a decision tree for predicting heart diseases\n",
        "Let's read the data on heart diseases. The dataset can be downloaded from the course repo from [here](https://github.com/Yorko/mlcourse.ai/blob/master/data/mlbootcamp5_train.csv) by clicking on `Download` and then selecting `Save As` option.\n",
        "\n",
        "**Problem**\n",
        "\n",
        "Predict presence or absence of cardiovascular disease (CVD) using the patient examination results.\n",
        "\n",
        "**Data description**\n",
        "\n",
        "There are 3 types of input features:\n",
        "\n",
        "- *Objective*: factual information;\n",
        "- *Examination*: results of medical examination;\n",
        "- *Subjective*: information given by the patient.\n",
        "\n",
        "| Feature | Variable Type | Variable      | Value Type |\n",
        "|---------|--------------|---------------|------------|\n",
        "| Age | Objective Feature | age | int (days) |\n",
        "| Height | Objective Feature | height | int (cm) |\n",
        "| Weight | Objective Feature | weight | float (kg) |\n",
        "| Gender | Objective Feature | gender | categorical code |\n",
        "| Systolic blood pressure | Examination Feature | ap_hi | int |\n",
        "| Diastolic blood pressure | Examination Feature | ap_lo | int |\n",
        "| Cholesterol | Examination Feature | cholesterol | 1: normal, 2: above normal, 3: well above normal |\n",
        "| Glucose | Examination Feature | gluc | 1: normal, 2: above normal, 3: well above normal |\n",
        "| Smoking | Subjective Feature | smoke | binary |\n",
        "| Alcohol intake | Subjective Feature | alco | binary |\n",
        "| Physical activity | Subjective Feature | active | binary |\n",
        "| Presence or absence of cardiovascular disease | Target Variable | cardio | binary |\n",
        "\n",
        "All of the dataset values were collected at the moment of medical examination."
      ]
    },
    {
      "metadata": {
        "id": "tOXmorwMoIjC",
        "colab_type": "code",
        "colab": {}
      },
      "cell_type": "code",
      "source": [
        "df = pd.read_csv('../../data/mlbootcamp5_train.csv', \n",
        "                 index_col='id', sep=';')"
      ],
      "execution_count": 0,
      "outputs": []
    },
    {
      "metadata": {
        "id": "0J9hytmuoIjL",
        "colab_type": "code",
        "colab": {}
      },
      "cell_type": "code",
      "source": [
        "df.head()"
      ],
      "execution_count": 0,
      "outputs": []
    },
    {
      "metadata": {
        "id": "tubMQKGGoIjY",
        "colab_type": "text"
      },
      "cell_type": "markdown",
      "source": [
        "Transform the features: create \"age in years\" (full age) and also create 3 binary features based on `cholesterol` and 3 more on `gluc`, where they are equal to 1, 2 or 3. This method is called dummy-encoding or One Hot Encoding (OHE). It is more convenient to use `pandas.get_dummmies.`. There is no need to use the original features `cholesterol` and `gluc` after encoding."
      ]
    },
    {
      "metadata": {
        "id": "VVj_YQGUoIjc",
        "colab_type": "code",
        "colab": {}
      },
      "cell_type": "code",
      "source": [
        "# You code here"
      ],
      "execution_count": 0,
      "outputs": []
    },
    {
      "metadata": {
        "id": "OLijNEIxoIjm",
        "colab_type": "text"
      },
      "cell_type": "markdown",
      "source": [
        "Split data into train and holdout parts in the proportion of 7/3 using `sklearn.model_selection.train_test_split` with `random_state=17`."
      ]
    },
    {
      "metadata": {
        "id": "ZIfXvZv1oIjq",
        "colab_type": "code",
        "colab": {}
      },
      "cell_type": "code",
      "source": [
        "# You code here\n",
        "# X_train, X_valid, y_train, y_valid = ..."
      ],
      "execution_count": 0,
      "outputs": []
    },
    {
      "metadata": {
        "id": "2LvnDj8roIjz",
        "colab_type": "text"
      },
      "cell_type": "markdown",
      "source": [
        "Train the decision tree on the dataset `(X_train, y_train)` with max depth equals to 3 and `random_state=17`. Plot this tree with `sklearn.tree.export_graphviz`, `dot` and `pydot`. You don't need to use quotes in the file names in order to make it work in a jupyter notebook. The commands starting from the exclamation mark are terminal commands that are usually run in terminal/command line."
      ]
    },
    {
      "metadata": {
        "id": "DrZrvOpHoIj6",
        "colab_type": "code",
        "colab": {}
      },
      "cell_type": "code",
      "source": [
        "# You code here"
      ],
      "execution_count": 0,
      "outputs": []
    },
    {
      "metadata": {
        "id": "2W6w5-JvoIkL",
        "colab_type": "text"
      },
      "cell_type": "markdown",
      "source": [
        "**<font color='red'>Question 3.</font> What 3 features are used to make predictions in the created decision tree?**\n",
        "- weight, height, gluc=3\n",
        "- smoke, age, gluc=3\n",
        "- age, weight, chol=3\n",
        "- age, ap_hi, chol=3"
      ]
    },
    {
      "metadata": {
        "id": "b6f9tVfpoIkO",
        "colab_type": "text"
      },
      "cell_type": "markdown",
      "source": [
        "Make predictions for holdout data `(X_valid, y_valid)` with the trained decision tree. Calculate accuracy."
      ]
    },
    {
      "metadata": {
        "id": "cVUTOwyqoIkS",
        "colab_type": "code",
        "colab": {}
      },
      "cell_type": "code",
      "source": [
        "# You code here"
      ],
      "execution_count": 0,
      "outputs": []
    },
    {
      "metadata": {
        "id": "Z1rMD7myoIkb",
        "colab_type": "text"
      },
      "cell_type": "markdown",
      "source": [
        "Set up the depth of the tree using cross-validation on the dataset `(X_train, y_train)` in order to increase quality of the model. Use `GridSearchCV` with 5 folds. Fix `random_state=17` and change  `max_depth` from 2 to 10."
      ]
    },
    {
      "metadata": {
        "id": "2QawqQwRoIke",
        "colab_type": "code",
        "colab": {}
      },
      "cell_type": "code",
      "source": [
        "tree_params = {'max_depth': list(range(2, 11))}\n",
        "\n",
        "tree_grid = GridSearchCV # You code here"
      ],
      "execution_count": 0,
      "outputs": []
    },
    {
      "metadata": {
        "id": "wuRfTruOoIkn",
        "colab_type": "text"
      },
      "cell_type": "markdown",
      "source": [
        "Draw the plot to show how mean accuracy is changing in regards to `max_depth` value on cross-validation."
      ]
    },
    {
      "metadata": {
        "id": "QEJlWGosoIkr",
        "colab_type": "code",
        "colab": {}
      },
      "cell_type": "code",
      "source": [
        "# You code here"
      ],
      "execution_count": 0,
      "outputs": []
    },
    {
      "metadata": {
        "id": "9x7y79FEoIkz",
        "colab_type": "text"
      },
      "cell_type": "markdown",
      "source": [
        "Print the best value of `max_depth` where the mean value of cross-validation quality metric reaches maximum. Also compute accuracy on holdout data. All these computations are possible to make using the trained instance of the class `GridSearchCV`."
      ]
    },
    {
      "metadata": {
        "id": "f6hveu9JoIk3",
        "colab_type": "code",
        "colab": {}
      },
      "cell_type": "code",
      "source": [
        "# You code here"
      ],
      "execution_count": 0,
      "outputs": []
    },
    {
      "metadata": {
        "id": "aKkMHMXRoIlB",
        "colab_type": "text"
      },
      "cell_type": "markdown",
      "source": [
        "**<font color='red'>Question 4.</font> Is there a local maximum of accuracy on the built validation curve? Did `GridSearchCV` help to tune `max_depth` so that there's been at least 1% change in holdout accuracy?**\n",
        "(check out the expression (acc2 - acc1) / acc1 * 100%, where acc1 and acc2 are accuracies on holdout data before and after tuning `max_depth` with `GridSearchCV` respectively)?\n",
        "- yes, yes\n",
        "- yes, no \n",
        "- no, yes\n",
        "- no, no"
      ]
    },
    {
      "metadata": {
        "id": "vnF3QHOnoIlE",
        "colab_type": "text"
      },
      "cell_type": "markdown",
      "source": [
        "Take a look at the SCORE table to estimate ten-year risk of fatal cardiovascular disease in Europe. [Source paper](https://academic.oup.com/eurheartj/article/24/11/987/427645).\n",
        "\n",
        "<img src='https://github.com/Yorko/mlcourse.ai/blob/master/img/SCORE2007-eng.png?raw=1' width=70%>\n",
        "\n",
        "Create binary features according to this picture:\n",
        "- $age \\in [40,50), \\ldots age \\in [60,65) $ (4 features)\n",
        "- systolic blood pressure: $ap\\_hi \\in [120,140), ap\\_hi \\in [140,160), ap\\_hi \\in [160,180),$ (3 features)\n",
        "\n",
        "If the values of age or blood pressure don't fall into any of the intervals then all binary features will be equal to zero. Then we create decision tree with these features and additional ``smoke``, ``cholesterol``  and ``gender`` features. Transform the ``cholesterol`` to 3 binary features according to it's 3 unique values ( ``cholesterol``=1,  ``cholesterol``=2 and  ``cholesterol``=3). This method is called dummy-encoding or One Hot Encoding (OHE). Transform the ``gender`` from 1 and 2 into 0 and 1. It is better to rename it to ``male`` (0 – woman, 1 – man). In general, this is typically done with ``sklearn.preprocessing.LabelEncoder`` but here in case of only 2 unique values it's not necessary.\n",
        "\n",
        "Finally the decision tree is built using 12 binary features (without original features).\n",
        "\n",
        "Create a decision tree with the limitation `max_depth=3` and train it on the whole train data. Use the `DecisionTreeClassifier` class with fixed `random_state=17`, but all other arguments (except for `max_depth` and `random_state`) should be set by default.\n",
        "\n",
        "**<font color='red'>Question 5.</font> What binary feature is the most important for heart disease detection (it is placed in the root of the tree)?**\n",
        "- Systolic blood pressure from 160 to 180 (mmHg)\n",
        "- Gender male / female\n",
        "- Systolic blood pressure from 140 to 160 (mmHg)\n",
        "- Age from 50 to 55 (years)\n",
        "- Smokes / doesn't smoke\n",
        "- Age from 60 to 65 (years)"
      ]
    },
    {
      "metadata": {
        "id": "27zu-uaioIlH",
        "colab_type": "code",
        "colab": {}
      },
      "cell_type": "code",
      "source": [
        "# You code here"
      ],
      "execution_count": 0,
      "outputs": []
    }
  ]
}