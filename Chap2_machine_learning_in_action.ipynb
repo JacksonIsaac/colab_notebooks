{
  "nbformat": 4,
  "nbformat_minor": 0,
  "metadata": {
    "colab": {
      "name": "Chap2_machine_learning_in_action.ipynb",
      "version": "0.3.2",
      "provenance": [],
      "include_colab_link": true
    },
    "kernelspec": {
      "name": "python3",
      "display_name": "Python 3"
    }
  },
  "cells": [
    {
      "cell_type": "markdown",
      "metadata": {
        "id": "view-in-github",
        "colab_type": "text"
      },
      "source": [
        "[View in Colaboratory](https://colab.research.google.com/github/JacksonIsaac/colab_notebooks/blob/master/Chap2_machine_learning_in_action.ipynb)"
      ]
    },
    {
      "metadata": {
        "id": "D8z_l14VQIHT",
        "colab_type": "text"
      },
      "cell_type": "markdown",
      "source": [
        "# Machine Learning in Action\n",
        "\n",
        "## Chapter 2"
      ]
    },
    {
      "metadata": {
        "id": "akVHXTKzUAaL",
        "colab_type": "text"
      },
      "cell_type": "markdown",
      "source": [
        "### k-Nearest Neighbours\n",
        "\n",
        "We cluster the data based on the closeness of data points to each other using distance measurement. In simple words, grouping data points together which have minimal distance between them.\n",
        "\n",
        "When a new data input is given, we calculate its distance from each cluster points, and select the most similar clusters (nearest neighbours). From this, we look at the top *k* clusters."
      ]
    },
    {
      "metadata": {
        "id": "x4qt9N3BWtxy",
        "colab_type": "text"
      },
      "cell_type": "markdown",
      "source": [
        "**Pros:** High accuracy, insensitive to outliers, no assumptions about data\n",
        "\n",
        "**Cons:** Computationally expensive, requires a lot of memory\n",
        "\n",
        "**Works with:** Numeric values, nominal values"
      ]
    },
    {
      "metadata": {
        "id": "EgvKrZewXH0q",
        "colab_type": "text"
      },
      "cell_type": "markdown",
      "source": [
        "## Import Dependencies"
      ]
    },
    {
      "metadata": {
        "id": "t2vJK6xOWsgS",
        "colab_type": "code",
        "colab": {}
      },
      "cell_type": "code",
      "source": [
        "import numpy as np\n",
        "import operator"
      ],
      "execution_count": 0,
      "outputs": []
    },
    {
      "metadata": {
        "id": "FZzHtghTnSXi",
        "colab_type": "text"
      },
      "cell_type": "markdown",
      "source": [
        "### Let's create a sample dataset"
      ]
    },
    {
      "metadata": {
        "id": "5p8RwHPjXOZ6",
        "colab_type": "code",
        "colab": {}
      },
      "cell_type": "code",
      "source": [
        "def create_dataset():\n",
        "    group = np.array([[1., 1.1], [1., 1.], [0, 0], [0, 0.1]])\n",
        "    labels = ['A', 'A', 'B', 'B']\n",
        "    return group, labels"
      ],
      "execution_count": 0,
      "outputs": []
    },
    {
      "metadata": {
        "id": "163ld08aXgZz",
        "colab_type": "code",
        "colab": {}
      },
      "cell_type": "code",
      "source": [
        "group, labels = create_dataset()"
      ],
      "execution_count": 0,
      "outputs": []
    },
    {
      "metadata": {
        "id": "J3CYoNC_Xpm6",
        "colab_type": "code",
        "colab": {
          "base_uri": "https://localhost:8080/",
          "height": 85
        },
        "outputId": "b4499d68-5457-491f-d330-b990696c5108"
      },
      "cell_type": "code",
      "source": [
        "group"
      ],
      "execution_count": 12,
      "outputs": [
        {
          "output_type": "execute_result",
          "data": {
            "text/plain": [
              "array([[1. , 1.1],\n",
              "       [1. , 1. ],\n",
              "       [0. , 0. ],\n",
              "       [0. , 0.1]])"
            ]
          },
          "metadata": {
            "tags": []
          },
          "execution_count": 12
        }
      ]
    },
    {
      "metadata": {
        "id": "PST1DL_uX57d",
        "colab_type": "code",
        "colab": {
          "base_uri": "https://localhost:8080/",
          "height": 34
        },
        "outputId": "b92db9c6-3e31-4dda-c634-c65668774083"
      },
      "cell_type": "code",
      "source": [
        "labels"
      ],
      "execution_count": 13,
      "outputs": [
        {
          "output_type": "execute_result",
          "data": {
            "text/plain": [
              "['A', 'A', 'B', 'B']"
            ]
          },
          "metadata": {
            "tags": []
          },
          "execution_count": 13
        }
      ]
    },
    {
      "metadata": {
        "id": "WyJHzkksYE04",
        "colab_type": "text"
      },
      "cell_type": "markdown",
      "source": [
        "## Classification using kNN\n",
        "\n",
        "For every datapoint we will:\n",
        "\n",
        "\n",
        "*   Calculate the distance between input data point (inX) and each point in trained dataset matrix with corresponding classification labels\n",
        "*   Sort distances in increasing order\n",
        "*   Select *k* items with lowest distances to inX\n",
        "*   Find majority of items among these *k* items\n",
        "*   Return the majority class as the classification of inX.\n",
        "\n"
      ]
    },
    {
      "metadata": {
        "id": "PObYN0vZcxeB",
        "colab_type": "text"
      },
      "cell_type": "markdown",
      "source": [
        "### Distance calculation logic\n",
        "\n",
        "Distance between data points is calculated by using Euclidian distance.\n",
        "\n",
        "![Euclidian distance formula](https://i.imgur.com/I9sKgfn.png)"
      ]
    },
    {
      "metadata": {
        "id": "bVNJQULQcMQl",
        "colab_type": "code",
        "colab": {}
      },
      "cell_type": "code",
      "source": [
        ""
      ],
      "execution_count": 0,
      "outputs": []
    }
  ]
}