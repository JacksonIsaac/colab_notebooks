{
  "nbformat": 4,
  "nbformat_minor": 0,
  "metadata": {
    "colab": {
      "name": "Chap2_machine_learning_in_action.ipynb",
      "version": "0.3.2",
      "provenance": [],
      "include_colab_link": true
    },
    "kernelspec": {
      "name": "python3",
      "display_name": "Python 3"
    }
  },
  "cells": [
    {
      "cell_type": "markdown",
      "metadata": {
        "id": "view-in-github",
        "colab_type": "text"
      },
      "source": [
        "[View in Colaboratory](https://colab.research.google.com/github/JacksonIsaac/colab_notebooks/blob/master/Chap2_machine_learning_in_action.ipynb)"
      ]
    },
    {
      "metadata": {
        "id": "D8z_l14VQIHT",
        "colab_type": "text"
      },
      "cell_type": "markdown",
      "source": [
        "# Machine Learning in Action\n",
        "\n",
        "## Chapter 2"
      ]
    },
    {
      "metadata": {
        "id": "akVHXTKzUAaL",
        "colab_type": "text"
      },
      "cell_type": "markdown",
      "source": [
        "### k-Nearest Neighbours\n",
        "\n",
        "We cluster the data based on the closeness of data points to each other using distance measurement. In simple words, grouping data points together which have minimal distance between them.\n",
        "\n",
        "When a new data input is given, we calculate its distance from each cluster points, and select the most similar clusters (nearest neighbours). From this, we look at the top *k* clusters."
      ]
    },
    {
      "metadata": {
        "id": "x4qt9N3BWtxy",
        "colab_type": "text"
      },
      "cell_type": "markdown",
      "source": [
        "**Pros:** High accuracy, insensitive to outliers, no assumptions about data\n",
        "\n",
        "**Cons:** Computationally expensive, requires a lot of memory\n",
        "\n",
        "**Works with:** Numeric values, nominal values"
      ]
    },
    {
      "metadata": {
        "id": "EgvKrZewXH0q",
        "colab_type": "text"
      },
      "cell_type": "markdown",
      "source": [
        "## Import Dependencies"
      ]
    },
    {
      "metadata": {
        "id": "t2vJK6xOWsgS",
        "colab_type": "code",
        "colab": {}
      },
      "cell_type": "code",
      "source": [
        "import numpy as np\n",
        "import operator"
      ],
      "execution_count": 0,
      "outputs": []
    },
    {
      "metadata": {
        "id": "FZzHtghTnSXi",
        "colab_type": "text"
      },
      "cell_type": "markdown",
      "source": [
        "### Let's create a sample dataset"
      ]
    },
    {
      "metadata": {
        "id": "5p8RwHPjXOZ6",
        "colab_type": "code",
        "colab": {}
      },
      "cell_type": "code",
      "source": [
        "def create_dataset():\n",
        "    group = np.array([[1., 1.1], [1., 1.], [0, 0], [0, 0.1]])\n",
        "    labels = ['A', 'A', 'B', 'B']\n",
        "    return group, labels"
      ],
      "execution_count": 0,
      "outputs": []
    },
    {
      "metadata": {
        "id": "163ld08aXgZz",
        "colab_type": "code",
        "colab": {}
      },
      "cell_type": "code",
      "source": [
        "group, labels = create_dataset()"
      ],
      "execution_count": 0,
      "outputs": []
    },
    {
      "metadata": {
        "id": "J3CYoNC_Xpm6",
        "colab_type": "code",
        "colab": {
          "base_uri": "https://localhost:8080/",
          "height": 85
        },
        "outputId": "83fafc2b-3040-41ee-d0e6-52482c3209ab"
      },
      "cell_type": "code",
      "source": [
        "group"
      ],
      "execution_count": 4,
      "outputs": [
        {
          "output_type": "execute_result",
          "data": {
            "text/plain": [
              "array([[1. , 1.1],\n",
              "       [1. , 1. ],\n",
              "       [0. , 0. ],\n",
              "       [0. , 0.1]])"
            ]
          },
          "metadata": {
            "tags": []
          },
          "execution_count": 4
        }
      ]
    },
    {
      "metadata": {
        "id": "PST1DL_uX57d",
        "colab_type": "code",
        "colab": {
          "base_uri": "https://localhost:8080/",
          "height": 34
        },
        "outputId": "6f84bbf0-f82a-4b6d-8e62-e12417260396"
      },
      "cell_type": "code",
      "source": [
        "labels"
      ],
      "execution_count": 5,
      "outputs": [
        {
          "output_type": "execute_result",
          "data": {
            "text/plain": [
              "['A', 'A', 'B', 'B']"
            ]
          },
          "metadata": {
            "tags": []
          },
          "execution_count": 5
        }
      ]
    },
    {
      "metadata": {
        "id": "WyJHzkksYE04",
        "colab_type": "text"
      },
      "cell_type": "markdown",
      "source": [
        "## Classification using kNN\n",
        "\n",
        "For every datapoint we will:\n",
        "\n",
        "\n",
        "*   Calculate the distance between input data point (inX) and each point in trained dataset matrix with corresponding classification labels\n",
        "*   Sort distances in increasing order\n",
        "*   Select *k* items with lowest distances to inX\n",
        "*   Find majority of items among these *k* items\n",
        "*   Return the majority class as the classification of inX.\n",
        "\n"
      ]
    },
    {
      "metadata": {
        "id": "PObYN0vZcxeB",
        "colab_type": "text"
      },
      "cell_type": "markdown",
      "source": [
        "### Distance calculation logic\n",
        "\n",
        "Distance between data points is calculated by using Euclidian distance.\n",
        "\n",
        "![Euclidian distance formula](https://i.imgur.com/I9sKgfn.png)"
      ]
    },
    {
      "metadata": {
        "id": "bVNJQULQcMQl",
        "colab_type": "code",
        "colab": {}
      },
      "cell_type": "code",
      "source": [
        "def knn_classify(inX, dataset, labels, k):\n",
        "    \n",
        "    # Step 1: Calculate distance between inX and\n",
        "    # datapoints in dataset\n",
        "    \n",
        "    dataset_size = dataset.shape[0] # No. of rows\n",
        "    diff_mat = np.tile(inX, (dataset_size, 1)) - dataset # Calculate difference between points\n",
        "    \n",
        "    sq_diff_mat = diff_mat**2 # Square the differences\n",
        "    \n",
        "    sq_distance = sq_diff_mat.sum(axis=1) # Sum the squared differences\n",
        "    \n",
        "    ## This is the Euclidian distance\n",
        "    distance = sq_distance**0.5 # Take square root of sum of squared difference\n",
        "    \n",
        "    # Step 2: Sort distances in increasing order\n",
        "    sorted_distance = distance.argsort()\n",
        "    \n",
        "    # Step 3: Select k items with lowest distance\n",
        "    class_count = {}\n",
        "    for i in range(k):\n",
        "        vote_label = labels[sorted_distance[i]] # Get the labels/class of ith index\n",
        "        class_count[vote_label] = class_count.get(vote_label, 0) + 1 # Add count of label\n",
        "    \n",
        "    # Step 4: Find label/class with majority of items (max count)\n",
        "    sorted_class_count = sorted(class_count.items(),\n",
        "                               key=operator.itemgetter(1), reverse=True)\n",
        "    \n",
        "    # Step 5: Return the label with majority/max count\n",
        "    return sorted_class_count[0][0]"
      ],
      "execution_count": 0,
      "outputs": []
    },
    {
      "metadata": {
        "id": "T2gGaSdxGRf-",
        "colab_type": "code",
        "colab": {
          "base_uri": "https://localhost:8080/",
          "height": 34
        },
        "outputId": "9213c01b-2d5b-4fbe-d77c-94f26724f921"
      },
      "cell_type": "code",
      "source": [
        "knn_classify([0, 0], group, labels, 3)"
      ],
      "execution_count": 7,
      "outputs": [
        {
          "output_type": "execute_result",
          "data": {
            "text/plain": [
              "'B'"
            ]
          },
          "metadata": {
            "tags": []
          },
          "execution_count": 7
        }
      ]
    },
    {
      "metadata": {
        "id": "i9JololMORot",
        "colab_type": "text"
      },
      "cell_type": "markdown",
      "source": [
        "## Real world example\n",
        "Let's create a kNN classifier for imrpoving process of finding matches between people."
      ]
    },
    {
      "metadata": {
        "id": "z5D1376MZpNd",
        "colab_type": "text"
      },
      "cell_type": "markdown",
      "source": [
        "## Steps\n",
        "- Collect\n",
        "- Prepare\n",
        "- Analyze\n",
        "- Train\n",
        "- Test\n",
        "- Use"
      ]
    },
    {
      "metadata": {
        "id": "WIVLV4z8dr1L",
        "colab_type": "text"
      },
      "cell_type": "markdown",
      "source": [
        "### Collect"
      ]
    },
    {
      "metadata": {
        "id": "M2Adpn3cXyKL",
        "colab_type": "code",
        "colab": {}
      },
      "cell_type": "code",
      "source": [
        "# Download dataset from Github repo of book author\n",
        "!wget https://raw.githubusercontent.com/pbharrin/machinelearninginaction/master/Ch02/datingTestSet.txt"
      ],
      "execution_count": 0,
      "outputs": []
    },
    {
      "metadata": {
        "id": "agTT1POYXyvm",
        "colab_type": "text"
      },
      "cell_type": "markdown",
      "source": [
        "| No. of Frequent flyer miles | Percentage of time spent playing video games | Liters of ice cream consumed | Likeness |\n",
        "| --- | --- | --- |\n"
      ]
    },
    {
      "metadata": {
        "id": "WXxtN3CbXAsz",
        "colab_type": "code",
        "colab": {
          "base_uri": "https://localhost:8080/",
          "height": 187
        },
        "outputId": "512c1635-8ab7-4740-a131-69090408a024"
      },
      "cell_type": "code",
      "source": [
        "!head datingTestSet.txt"
      ],
      "execution_count": 16,
      "outputs": [
        {
          "output_type": "stream",
          "text": [
            "40920\t8.326976\t0.953952\tlargeDoses\n",
            "14488\t7.153469\t1.673904\tsmallDoses\n",
            "26052\t1.441871\t0.805124\tdidntLike\n",
            "75136\t13.147394\t0.428964\tdidntLike\n",
            "38344\t1.669788\t0.134296\tdidntLike\n",
            "72993\t10.141740\t1.032955\tdidntLike\n",
            "35948\t6.830792\t1.213192\tlargeDoses\n",
            "42666\t13.276369\t0.543880\tlargeDoses\n",
            "67497\t8.631577\t0.749278\tdidntLike\n",
            "35483\t12.273169\t1.508053\tlargeDoses\n"
          ],
          "name": "stdout"
        }
      ]
    },
    {
      "metadata": {
        "id": "Klxnxff9du1p",
        "colab_type": "text"
      },
      "cell_type": "markdown",
      "source": [
        "### Prepare"
      ]
    },
    {
      "metadata": {
        "id": "Lx8Js77UXp8K",
        "colab_type": "code",
        "colab": {}
      },
      "cell_type": "code",
      "source": [
        "def file2matrix(filename):\n",
        "    # Dictionary to convert output labels to integer value\n",
        "    love_dictionary={'largeDoses':3, 'smallDoses':2, 'didntLike':1}\n",
        "    \n",
        "    # Read file contents\n",
        "    with open(filename, 'r') as infile:\n",
        "        \n",
        "        num_of_lines = len(infile.readlines())\n",
        "        return_mat = np.zeros((num_of_lines, 3)) # X_train\n",
        "        \n",
        "        label_vector = [] # Y_train\n",
        "        infile.seek(0) # Seek file pointer to beginning of file\n",
        "        idx = 0\n",
        "        \n",
        "        for line in infile.readlines():\n",
        "            line = line.strip() # Remove any trailing whitespaces\n",
        "            \n",
        "            line_list = line.split('\\t') # Split the data separated by tabs\n",
        "            return_mat[idx, :] = line_list[0:3] # Assign X with columns except the label(last) column\n",
        "            if line_list[-1].isdigit():\n",
        "                label_vector.append(int(line_list[-1]))\n",
        "            else:\n",
        "                label_vector.append(love_dictionary.get(line_list[-1]))\n",
        "            idx += 1\n",
        "            \n",
        "        return return_mat, label_vector # Return X_train, Y_train"
      ],
      "execution_count": 0,
      "outputs": []
    },
    {
      "metadata": {
        "id": "GxKo7_4FbqUl",
        "colab_type": "code",
        "colab": {}
      },
      "cell_type": "code",
      "source": [
        "dating_data, dating_labels = file2matrix('datingTestSet.txt')"
      ],
      "execution_count": 0,
      "outputs": []
    },
    {
      "metadata": {
        "id": "Mv3QFhx_bwsV",
        "colab_type": "code",
        "colab": {
          "base_uri": "https://localhost:8080/",
          "height": 136
        },
        "outputId": "3f033769-6b5f-4257-9391-78b96ac3d4dc"
      },
      "cell_type": "code",
      "source": [
        "dating_data"
      ],
      "execution_count": 21,
      "outputs": [
        {
          "output_type": "execute_result",
          "data": {
            "text/plain": [
              "array([[4.0920000e+04, 8.3269760e+00, 9.5395200e-01],\n",
              "       [1.4488000e+04, 7.1534690e+00, 1.6739040e+00],\n",
              "       [2.6052000e+04, 1.4418710e+00, 8.0512400e-01],\n",
              "       ...,\n",
              "       [2.6575000e+04, 1.0650102e+01, 8.6662700e-01],\n",
              "       [4.8111000e+04, 9.1345280e+00, 7.2804500e-01],\n",
              "       [4.3757000e+04, 7.8826010e+00, 1.3324460e+00]])"
            ]
          },
          "metadata": {
            "tags": []
          },
          "execution_count": 21
        }
      ]
    },
    {
      "metadata": {
        "id": "f-4j1JdMcpDy",
        "colab_type": "code",
        "colab": {
          "base_uri": "https://localhost:8080/",
          "height": 34
        },
        "outputId": "66d39e37-c1c8-4a42-e865-50f47799badd"
      },
      "cell_type": "code",
      "source": [
        "dating_labels[0:20]"
      ],
      "execution_count": 23,
      "outputs": [
        {
          "output_type": "execute_result",
          "data": {
            "text/plain": [
              "[3, 2, 1, 1, 1, 1, 3, 3, 1, 3, 1, 1, 2, 1, 1, 1, 1, 1, 2, 3]"
            ]
          },
          "metadata": {
            "tags": []
          },
          "execution_count": 23
        }
      ]
    },
    {
      "metadata": {
        "id": "P3u14bxhcqbz",
        "colab_type": "text"
      },
      "cell_type": "markdown",
      "source": [
        "### Analyze"
      ]
    },
    {
      "metadata": {
        "id": "8_fHE0dmdzWl",
        "colab_type": "code",
        "colab": {}
      },
      "cell_type": "code",
      "source": [
        "import matplotlib\n",
        "import matplotlib.pyplot as plt"
      ],
      "execution_count": 0,
      "outputs": []
    },
    {
      "metadata": {
        "id": "0pXqaod1d5vQ",
        "colab_type": "code",
        "colab": {
          "base_uri": "https://localhost:8080/",
          "height": 361
        },
        "outputId": "f3555369-b3ae-424c-d60d-aa64c9d45fd8"
      },
      "cell_type": "code",
      "source": [
        "fig = plt.figure()\n",
        "ax = fig.add_subplot(111)\n",
        "ax.scatter(dating_data[:, 1], dating_data[:, 2])\n",
        "plt.xlabel('Percentage of Time Spent Playing Video Games')\n",
        "plt.ylabel('Liters of Ice Cream Consumed Per Week')\n",
        "plt.show()"
      ],
      "execution_count": 28,
      "outputs": [
        {
          "output_type": "display_data",
          "data": {
            "image/png": "[encoded data removed]",
            "text/plain": [
              "<matplotlib.figure.Figure at 0x7fb1e0ec3518>"
            ]
          },
          "metadata": {
            "tags": []
          }
        }
      ]
    },
    {
      "metadata": {
        "id": "LuEDviY_eF9d",
        "colab_type": "code",
        "colab": {}
      },
      "cell_type": "code",
      "source": [
        ""
      ],
      "execution_count": 0,
      "outputs": []
    }
  ]
}