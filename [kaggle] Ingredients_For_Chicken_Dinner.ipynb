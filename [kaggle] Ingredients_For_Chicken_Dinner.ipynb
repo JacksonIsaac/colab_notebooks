{
 "cells": [
  {
   "cell_type": "code",
   "execution_count": null,
   "metadata": {
    "_cell_guid": "b1076dfc-b9ad-4769-8c92-a6c4dae69d19",
    "_uuid": "8f2839f25d086af736a60e9eeb907d3b93b6e0e5",
    "collapsed": true
   },
   "outputs": [],
   "source": [
    "# This Python 3 environment comes with many helpful analytics libraries installed\n",
    "# It is defined by the kaggle/python docker image: https://github.com/kaggle/docker-python\n",
    "# For example, here's several helpful packages to load in \n",
    "\n",
    "import numpy as np # linear algebra\n",
    "import pandas as pd # data processing, CSV file I/O (e.g. pd.read_csv)\n",
    "import seaborn as sns\n",
    "import matplotlib.pyplot as plt\n",
    "# Input data files are available in the \"../input/\" directory.\n",
    "# For example, running this (by clicking run or pressing Shift+Enter) will list the files in the input directory\n",
    "\n",
    "import os\n",
    "print(os.listdir(\"../input\"))\n",
    "\n",
    "# Any results you write to the current directory are saved as output."
   ]
  },
  {
   "cell_type": "code",
   "execution_count": null,
   "metadata": {
    "_cell_guid": "79c7e3d0-c299-4dcb-8224-4455121ee9b0",
    "_uuid": "d629ff2d2480ee46fbb7e2d37f6b5fab8052498a",
    "collapsed": true
   },
   "outputs": [],
   "source": [
    "data=pd.read_csv('../input/train_V2.csv')\n",
    "data.head()"
   ]
  },
  {
   "cell_type": "code",
   "execution_count": null,
   "metadata": {
    "_uuid": "8ad6a39817e716bd0d243d5d9f27816966e1f8f1",
    "collapsed": true
   },
   "outputs": [],
   "source": [
    "data.tail()"
   ]
  },
  {
   "cell_type": "markdown",
   "metadata": {
    "_uuid": "8ce15894026c211c1930928c9cc299daffef5674"
   },
   "source": [
    "**Univariate Analysis**"
   ]
  },
  {
   "cell_type": "code",
   "execution_count": null,
   "metadata": {
    "_uuid": "9b132abd314e166d3c9fda3a4febdbea9d8593eb",
    "collapsed": true
   },
   "outputs": [],
   "source": [
    "## Id \n",
    "#search for duplicates\n",
    "any(data['Id'].duplicated())\n"
   ]
  },
  {
   "cell_type": "code",
   "execution_count": null,
   "metadata": {
    "_uuid": "124f2dbe116d123479014c6ec4b3eec5e9cbce7e",
    "collapsed": true
   },
   "outputs": [],
   "source": [
    "## Id \n",
    "#total no of players\n",
    "len(data['Id'])"
   ]
  },
  {
   "cell_type": "code",
   "execution_count": null,
   "metadata": {
    "_uuid": "364f3e479de88864c0579c2a7e6b0f89f3c36a95",
    "collapsed": true
   },
   "outputs": [],
   "source": [
    "## groupId\n",
    "#Check NaN\n",
    "data[data['groupId'].isnull()]\n",
    "#No nan present"
   ]
  },
  {
   "cell_type": "code",
   "execution_count": null,
   "metadata": {
    "_uuid": "599f8ab85dcbf6b7f14805f01a8e2cbc1e2a5858",
    "collapsed": true
   },
   "outputs": [],
   "source": [
    "## groupId\n",
    "#No. of people per group\n",
    "groupIdData=pd.DataFrame(data['groupId'].value_counts())\n",
    "groupIdData.reset_index(level=0, inplace=True)\n",
    "groupIdData.columns = ['groupId', 'Members']\n",
    "groupIdData.head()"
   ]
  },
  {
   "cell_type": "code",
   "execution_count": null,
   "metadata": {
    "_uuid": "efae1702dd0bb6821a8c25ab45f0aa898662ab43",
    "collapsed": true
   },
   "outputs": [],
   "source": [
    "## groupId\n",
    "#Basic Stats on the members in each group\n",
    "groupIdData['Members'].describe()"
   ]
  },
  {
   "cell_type": "code",
   "execution_count": null,
   "metadata": {
    "_uuid": "02481a826870c43640dfd051ee6fa0f101994731",
    "collapsed": true
   },
   "outputs": [],
   "source": [
    "## groupId\n",
    "# removing invalid groups where members more than 4 / could be just \"useless\" bots\n",
    "groupIdDataValid=groupIdData[groupIdData['Members']<=4]\n",
    "groupIdDataValid.head()"
   ]
  },
  {
   "cell_type": "code",
   "execution_count": null,
   "metadata": {
    "_uuid": "366171dd6ce81fd3899c044f3dff00379c2a7778",
    "collapsed": true
   },
   "outputs": [],
   "source": [
    "## groupId\n",
    "#Basic Stats on the members in each VALID group\n",
    "groupIdDataValid['Members'].describe()"
   ]
  },
  {
   "cell_type": "code",
   "execution_count": null,
   "metadata": {
    "_uuid": "0def866dd228846311d5b1de033501cc4c8086de",
    "collapsed": true
   },
   "outputs": [],
   "source": [
    "## matchId \n",
    "# Total no. people in a match\n",
    "matchIdData=pd.DataFrame(data['matchId'].value_counts())\n",
    "matchIdData.reset_index(level=0, inplace=True)\n",
    "matchIdData.columns = ['matchId', 'Players']\n",
    "matchIdData.head()"
   ]
  },
  {
   "cell_type": "code",
   "execution_count": null,
   "metadata": {
    "_uuid": "b8feba11aa0b696b6b783998188200312794df17",
    "collapsed": true
   },
   "outputs": [],
   "source": [
    "## matchId \n",
    "# Total no. of matches\n",
    "len(matchIdData)"
   ]
  },
  {
   "cell_type": "code",
   "execution_count": null,
   "metadata": {
    "_uuid": "42347d95e734cca7bf2e4d8d8ae0399cbc8e890e",
    "collapsed": true
   },
   "outputs": [],
   "source": [
    "## matchId\n",
    "#Basic Stats on the players in each match\n",
    "matchIdData['Players'].describe()"
   ]
  },
  {
   "cell_type": "code",
   "execution_count": null,
   "metadata": {
    "_uuid": "645f9771194138ce0fbd5403f953ebc2b919a55c",
    "collapsed": true
   },
   "outputs": [],
   "source": [
    "## matchId\n",
    "# removing invalid matches where players are equal to 10 or less\n",
    "# we need good comepition to identify most import fratures for a win \n",
    "matchIdDataValid=matchIdData[matchIdData['Players']>10]\n",
    "matchIdDataValid.tail()"
   ]
  },
  {
   "cell_type": "code",
   "execution_count": null,
   "metadata": {
    "_uuid": "4071ad5dd1069f086ea12ce406352e0a1e9fc63d",
    "collapsed": true
   },
   "outputs": [],
   "source": [
    "## matchId\n",
    "#Basic Stats on the members in each VALID group\n",
    "matchIdDataValid['Players'].describe()"
   ]
  },
  {
   "cell_type": "code",
   "execution_count": null,
   "metadata": {
    "_uuid": "97515e744be0108acf841c417c6b410bc2110801",
    "collapsed": true
   },
   "outputs": [],
   "source": [
    "## Main DataSet\n",
    "# remove invalid groups from further analysis\n",
    "groupIdDataValidList=list(groupIdDataValid['groupId'])\n",
    "data=data[data['groupId'].isin(groupIdDataValidList)]\n",
    "matchIdDataValidList=list(matchIdDataValid['matchId'])\n",
    "data=data[data['matchId'].isin(matchIdDataValidList)]\n",
    "len(data['Id'])"
   ]
  },
  {
   "cell_type": "code",
   "execution_count": null,
   "metadata": {
    "_uuid": "5d5db3dfb086d31d65125aa67dad834c78dbc522",
    "collapsed": true
   },
   "outputs": [],
   "source": [
    "## assists\n",
    "#Basic Stats on the player assists in each match\n",
    "data['assists'].describe()"
   ]
  },
  {
   "cell_type": "code",
   "execution_count": null,
   "metadata": {
    "_uuid": "84df242db7f0792748669b0a675f05a9d907a159",
    "collapsed": true
   },
   "outputs": [],
   "source": [
    "## boosts\n",
    "#Basic Stats on the player boosts in each match\n",
    "data['boosts'].describe()"
   ]
  },
  {
   "cell_type": "code",
   "execution_count": null,
   "metadata": {
    "_uuid": "b930857d1438f6395f8f006b32b813d60d645216",
    "collapsed": true
   },
   "outputs": [],
   "source": [
    "## damageDealt \n",
    "#Basic Stats on the player damage dealt in each match\n",
    "data['damageDealt'].describe()"
   ]
  },
  {
   "cell_type": "code",
   "execution_count": null,
   "metadata": {
    "_uuid": "9deb2fd037a7f632c8ec7eabe4e1447fc5cc91f3",
    "collapsed": true
   },
   "outputs": [],
   "source": [
    "## Killing Stats\n",
    "# Basic Stats on player headshotKills, kills, roadKills and friendlyKills \n",
    "killing=data[['kills','headshotKills','roadKills','teamKills']]\n",
    "killing.describe(include='all')"
   ]
  },
  {
   "cell_type": "code",
   "execution_count": null,
   "metadata": {
    "_uuid": "e1bf3b5a132339ad29507204631091793bc9327b",
    "collapsed": true
   },
   "outputs": [],
   "source": [
    "## heals \n",
    "#Basic Stats on the player healing items used in each match\n",
    "data['heals'].describe()"
   ]
  },
  {
   "cell_type": "code",
   "execution_count": null,
   "metadata": {
    "_uuid": "b4f331b842036cfd253e6748ce5a55bb433faa6b",
    "collapsed": true
   },
   "outputs": [],
   "source": [
    "## revives\n",
    "# Basic Stats on the player reviving another player  in a match\n",
    "data['revives'].describe()"
   ]
  },
  {
   "cell_type": "code",
   "execution_count": null,
   "metadata": {
    "_uuid": "1d9b72fc4f88f70e86bceecca911abb1cc7f4c02",
    "collapsed": true
   },
   "outputs": [],
   "source": [
    "## weaponsAcquired\n",
    "# Basic Stats on the no. of weapon picked up a player\n",
    "data['weaponsAcquired'].describe()"
   ]
  },
  {
   "cell_type": "code",
   "execution_count": null,
   "metadata": {
    "_uuid": "b0be8de9f3492bf6fcc65c3f65b914833e91ccfa",
    "collapsed": true
   },
   "outputs": [],
   "source": [
    "## numGroups\n",
    "# Basic Stats on the no. of groups joining a game \n",
    "data['numGroups'].describe()"
   ]
  },
  {
   "cell_type": "code",
   "execution_count": null,
   "metadata": {
    "_uuid": "7df0b1bf9c6412bc9f1e16c40416b3c5f0efdcf0",
    "collapsed": true
   },
   "outputs": [],
   "source": [
    "## killPlace\n",
    "\n",
    "#Basic Stats on the player rank based on her/his kills in the match\n",
    "# Just checking for a  min max limits else it is not useful\n",
    "data['killPlace'].describe()"
   ]
  },
  {
   "cell_type": "code",
   "execution_count": null,
   "metadata": {
    "_uuid": "9f1e741b31034255064d733fb2efbd490dc0a8fb",
    "collapsed": true
   },
   "outputs": [],
   "source": [
    "## Travel \n",
    "# Basic descriptive analysis of player travel distance on foot, vehicle and swim\n",
    "# All values are in 'm' \n",
    "data['totalDistance']=data.walkDistance+data.rideDistance+data.swimDistance\n",
    "travel=data[['walkDistance','rideDistance','swimDistance','totalDistance']]\n",
    "travel.describe(include='all')"
   ]
  },
  {
   "cell_type": "code",
   "execution_count": null,
   "metadata": {
    "_uuid": "950f68e64545ddc4e42185574d7e7afa862151ae",
    "collapsed": true
   },
   "outputs": [],
   "source": [
    "## Elo Rating\n",
    "# basic description of Kill and win Elo rating of each players\n",
    "Elo=data[['winPoints','killPoints']]\n",
    "Elo.describe(include='all')\n",
    "\n",
    "### Does this makes sense as Elo rating evolves with time and same player can increase/decrease so mean and all may not be meaningful \n"
   ]
  },
  {
   "cell_type": "code",
   "execution_count": null,
   "metadata": {
    "_uuid": "ef850024cc4bba05da6c626c7e02f812f8e20113",
    "collapsed": true,
    "scrolled": true
   },
   "outputs": [],
   "source": [
    "# Some rating for group participation\n",
    "groupIdDataList=list(set(data['groupId']))\n",
    "for group in groupIdDataList:\n",
    "    #if (i+1)%100 ==0:\n",
    "      #  print(i+1,'/',len(groupIdDataList))\n",
    "        \n",
    "    data.loc[data['groupId']==group,'totalTeamsKills']=data[data['groupId']==group]['kills'].mean()\n",
    "    data.loc[data['groupId']==group,'totalTeamWinPoints']=data[data['groupId']==group]['winPoints'].mean()\n",
    "    data.loc[data['groupId']==group,'totalTeamKillPoints']=data[data['groupId']==group]['killPoints'].mean()\n"
   ]
  },
  {
   "cell_type": "code",
   "execution_count": null,
   "metadata": {
    "_uuid": "6b8302ee0eee8cfc26cd21b010c6ff63ed8f9f3d",
    "collapsed": true
   },
   "outputs": [],
   "source": [
    "# Some elo based expectation caluation\n",
    "matchIdDataList=list(set(data['matchId']))\n",
    "\n",
    "for match in matchIdDataList:\n",
    "    matchData=data[data['matchId']== match]\n",
    "    \n",
    "    groupsMatchList=list(set(matchData['groupId']))\n",
    "    \n",
    "    for group in groupsMatchList:\n",
    "        data.loc[data['groupId']==group,'ExpectedWinPoints']=1/(1+10**(-abs(matchData[matchData['groupId']==group]['totalTeamWinPoints'].mean()-matchData['totalTeamWinPoints'].mean())/400))\n",
    "        data.loc[data['groupId']==group,'ExpectedKillPoints']=1/(1+10**(-abs(matchData[matchData['groupId']==group]['totalTeamKillPoints'].mean()-matchData['totalTeamKillPoints'].mean())/400))\n",
    "        "
   ]
  },
  {
   "cell_type": "markdown",
   "metadata": {
    "_uuid": "49c54be519228481218b4dd2a85017a9de56bd4e"
   },
   "source": [
    "**Bivariate Analysis**"
   ]
  },
  {
   "cell_type": "code",
   "execution_count": null,
   "metadata": {
    "_uuid": "18cde07ceb41f70a00fd28f0a343fd4955e260d1",
    "collapsed": true
   },
   "outputs": [],
   "source": [
    "dropCols = ['Id', 'groupId', 'matchId']\n",
    "# These have no outcome on the game;\n",
    "#'maxPlace'=='numGroups'\n",
    "#data=data.drop(['maxPlace'], axis=1)\n",
    "keepCols = [col for col in data.columns if col not in dropCols]\n",
    "corr = data[keepCols].corr()\n",
    "plt.figure(figsize=(15,10))\n",
    "plt.title(\"Correlation Heat Map of Data\")\n",
    "sns.heatmap(\n",
    "    corr,\n",
    "    xticklabels=corr.columns.values,\n",
    "    yticklabels=corr.columns.values,\n",
    "    annot=True,\n",
    "    cmap=\"RdYlGn\",\n",
    ")\n",
    "plt.show()"
   ]
  },
  {
   "cell_type": "code",
   "execution_count": null,
   "metadata": {
    "_uuid": "b3120cb863b5dbcf0ed427ae97ae3a2f31b3fe37",
    "collapsed": true
   },
   "outputs": [],
   "source": [
    "data.to_csv('../working/cleanedTrain.csv')\n",
    "print(os.listdir(\"../working\"))"
   ]
  },
  {
   "cell_type": "code",
   "execution_count": null,
   "metadata": {
    "_uuid": "cb814241f54da83684b2fab00408f3ebee8fc21d",
    "collapsed": true
   },
   "outputs": [],
   "source": []
  }
 ],
 "metadata": {
  "kernelspec": {
   "display_name": "Python 3",
   "language": "python",
   "name": "python3"
  },
  "language_info": {
   "codemirror_mode": {
    "name": "ipython",
    "version": 3
   },
   "file_extension": ".py",
   "mimetype": "text/x-python",
   "name": "python",
   "nbconvert_exporter": "python",
   "pygments_lexer": "ipython3",
   "version": "3.6.3"
  }
 },
 "nbformat": 4,
 "nbformat_minor": 1
}
