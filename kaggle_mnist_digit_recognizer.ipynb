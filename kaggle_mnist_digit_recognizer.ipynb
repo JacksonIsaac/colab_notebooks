{
  "nbformat": 4,
  "nbformat_minor": 0,
  "metadata": {
    "colab": {
      "name": "kaggle-mnist-digit-recognizer.ipynb",
      "version": "0.3.2",
      "provenance": [],
      "collapsed_sections": [],
      "include_colab_link": true
    },
    "kernelspec": {
      "name": "python3",
      "display_name": "Python 3"
    },
    "accelerator": "GPU"
  },
  "cells": [
    {
      "cell_type": "markdown",
      "metadata": {
        "id": "view-in-github",
        "colab_type": "text"
      },
      "source": [
        "[View in Colaboratory](https://colab.research.google.com/github/JacksonIsaac/colab_notebooks/blob/master/kaggle_mnist_digit_recognizer.ipynb)"
      ]
    },
    {
      "metadata": {
        "id": "bwMnKOtFk0Kn",
        "colab_type": "text"
      },
      "cell_type": "markdown",
      "source": [
        "**Kaggle Notebook**\n",
        "\n",
        "For *Digit Recognizer* competition: \n",
        "\n",
        "https://www.kaggle.com/c/digit-recognizer"
      ]
    },
    {
      "metadata": {
        "id": "mJ_m9u5pl47J",
        "colab_type": "code",
        "colab": {
          "base_uri": "https://localhost:8080/",
          "height": 445
        },
        "outputId": "3613e8c0-b518-4797-ce90-426278fc7696"
      },
      "cell_type": "code",
      "source": [
        "!pip install kaggle"
      ],
      "execution_count": 1,
      "outputs": [
        {
          "output_type": "stream",
          "text": [
            "Collecting kaggle\n",
            "\u001b[?25l  Downloading https://files.pythonhosted.org/packages/c6/78/832b9a9ec6b3baf8ec566e1f0a695f2fd08d2c94a6797257a106304bfc3c/kaggle-1.4.7.1.tar.gz (52kB)\n",
            "\u001b[K    100% |████████████████████████████████| 61kB 4.0MB/s \n",
            "\u001b[?25hRequirement already satisfied: urllib3<1.23.0,>=1.15 in /usr/local/lib/python3.6/dist-packages (from kaggle) (1.22)\n",
            "Requirement already satisfied: six>=1.10 in /usr/local/lib/python3.6/dist-packages (from kaggle) (1.11.0)\n",
            "Requirement already satisfied: certifi in /usr/local/lib/python3.6/dist-packages (from kaggle) (2018.8.24)\n",
            "Requirement already satisfied: python-dateutil in /usr/local/lib/python3.6/dist-packages (from kaggle) (2.5.3)\n",
            "Requirement already satisfied: requests in /usr/local/lib/python3.6/dist-packages (from kaggle) (2.18.4)\n",
            "Requirement already satisfied: tqdm in /usr/local/lib/python3.6/dist-packages (from kaggle) (4.25.0)\n",
            "Collecting python-slugify (from kaggle)\n",
            "  Downloading https://files.pythonhosted.org/packages/00/ad/c778a6df614b6217c30fe80045b365bfa08b5dd3cb02e8b37a6d25126781/python-slugify-1.2.6.tar.gz\n",
            "Requirement already satisfied: chardet<3.1.0,>=3.0.2 in /usr/local/lib/python3.6/dist-packages (from requests->kaggle) (3.0.4)\n",
            "Requirement already satisfied: idna<2.7,>=2.5 in /usr/local/lib/python3.6/dist-packages (from requests->kaggle) (2.6)\n",
            "Collecting Unidecode>=0.04.16 (from python-slugify->kaggle)\n",
            "\u001b[?25l  Downloading https://files.pythonhosted.org/packages/59/ef/67085e30e8bbcdd76e2f0a4ad8151c13a2c5bce77c85f8cad6e1f16fb141/Unidecode-1.0.22-py2.py3-none-any.whl (235kB)\n",
            "\u001b[K    100% |████████████████████████████████| 235kB 7.2MB/s \n",
            "\u001b[?25hBuilding wheels for collected packages: kaggle, python-slugify\n",
            "  Running setup.py bdist_wheel for kaggle ... \u001b[?25l-\b \b\\\b \bdone\n",
            "\u001b[?25h  Stored in directory: /root/.cache/pip/wheels/44/2c/df/22a6eeb780c36c28190faef6252b739fdc47145fd87a6642d4\n",
            "  Running setup.py bdist_wheel for python-slugify ... \u001b[?25l-\b \bdone\n",
            "\u001b[?25h  Stored in directory: /root/.cache/pip/wheels/e3/65/da/2045deea3098ed7471eca0e2460cfbd3fdfe8c1d6fa6fcac92\n",
            "Successfully built kaggle python-slugify\n",
            "Installing collected packages: Unidecode, python-slugify, kaggle\n",
            "Successfully installed Unidecode-1.0.22 kaggle-1.4.7.1 python-slugify-1.2.6\n"
          ],
          "name": "stdout"
        }
      ]
    },
    {
      "metadata": {
        "id": "6nET1_0imdMN",
        "colab_type": "code",
        "colab": {
          "base_uri": "https://localhost:8080/",
          "height": 34
        },
        "outputId": "c8157196-90b1-4105-da41-4a995460321d"
      },
      "cell_type": "code",
      "source": [
        "## Load Kaggle config JSON\n",
        "from googleapiclient.discovery import build\n",
        "import io, os\n",
        "from googleapiclient.http import MediaIoBaseDownload\n",
        "from google.colab import auth\n",
        "\n",
        "auth.authenticate_user()\n",
        "\n",
        "drive_service = build('drive', 'v3')\n",
        "results = drive_service.files().list(\n",
        "        q=\"name = 'kaggle.json'\", fields=\"files(id)\").execute()\n",
        "kaggle_api_key = results.get('files', [])\n",
        "\n",
        "filename = \"/content/.kaggle/kaggle.json\"\n",
        "os.makedirs(os.path.dirname(filename), exist_ok=True)\n",
        "\n",
        "request = drive_service.files().get_media(fileId=kaggle_api_key[0]['id'])\n",
        "fh = io.FileIO(filename, 'wb')\n",
        "downloader = MediaIoBaseDownload(fh, request)\n",
        "done = False\n",
        "while done is False:\n",
        "    status, done = downloader.next_chunk()\n",
        "    print(\"Download %d%%.\" % int(status.progress() * 100))\n",
        "os.chmod(filename, 600)"
      ],
      "execution_count": 2,
      "outputs": [
        {
          "output_type": "stream",
          "text": [
            "Download 100%.\n"
          ],
          "name": "stdout"
        }
      ]
    },
    {
      "metadata": {
        "id": "glB40LzevXQn",
        "colab_type": "code",
        "colab": {}
      },
      "cell_type": "code",
      "source": [
        "!mkdir ~/.kaggle\n",
        "!cp /content/.kaggle/kaggle.json ~/.kaggle/kaggle.json"
      ],
      "execution_count": 0,
      "outputs": []
    },
    {
      "metadata": {
        "id": "eWpo0ipKtXRB",
        "colab_type": "code",
        "colab": {
          "base_uri": "https://localhost:8080/",
          "height": 170
        },
        "outputId": "939ad50f-f382-491d-a437-bfe1ee5181f4"
      },
      "cell_type": "code",
      "source": [
        "!kaggle competitions download -c digit-recognizer -p data/"
      ],
      "execution_count": 4,
      "outputs": [
        {
          "output_type": "stream",
          "text": [
            "Downloading train.csv to data\n",
            " 97%|█████████████████████████████████████▊ | 71.0M/73.2M [00:00<00:00, 137MB/s]\n",
            "100%|███████████████████████████████████████| 73.2M/73.2M [00:00<00:00, 162MB/s]\n",
            "Downloading test.csv to data\n",
            " 96%|████████████████████████████████████▋ | 47.0M/48.8M [00:00<00:00, 69.3MB/s]\n",
            "100%|███████████████████████████████████████| 48.8M/48.8M [00:00<00:00, 115MB/s]\n",
            "Downloading sample_submission.csv to data\n",
            "  0%|                                                | 0.00/235k [00:00<?, ?B/s]\n",
            "100%|█████████████████████████████████████████| 235k/235k [00:00<00:00, 138MB/s]\n"
          ],
          "name": "stdout"
        }
      ]
    },
    {
      "metadata": {
        "id": "FLbYFjVluPpl",
        "colab_type": "code",
        "colab": {
          "base_uri": "https://localhost:8080/",
          "height": 34
        },
        "outputId": "13e7e6e2-1c48-4f7c-a34c-46283b59e487"
      },
      "cell_type": "code",
      "source": [
        "!ls data"
      ],
      "execution_count": 7,
      "outputs": [
        {
          "output_type": "stream",
          "text": [
            "sample_submission.csv  test.csv  train.csv\r\n"
          ],
          "name": "stdout"
        }
      ]
    },
    {
      "metadata": {
        "id": "RsSa_NYAtxzX",
        "colab_type": "code",
        "colab": {}
      },
      "cell_type": "code",
      "source": [
        "!kaggle competitions list"
      ],
      "execution_count": 0,
      "outputs": []
    },
    {
      "metadata": {
        "id": "eI32liZx9uZF",
        "colab_type": "text"
      },
      "cell_type": "markdown",
      "source": [
        "# Import packages and utilities"
      ]
    },
    {
      "metadata": {
        "id": "CJWKQhYI7PH8",
        "colab_type": "code",
        "colab": {}
      },
      "cell_type": "code",
      "source": [
        "%matplotlib inline\n",
        "\n",
        "import pandas as pd\n",
        "import numpy as np\n",
        "\n",
        "import tensorflow as tf\n",
        "\n",
        "import matplotlib.pyplot as plt\n",
        "\n",
        "from sklearn.model_selection import train_test_split"
      ],
      "execution_count": 0,
      "outputs": []
    },
    {
      "metadata": {
        "id": "gy-i2OZQ9ygW",
        "colab_type": "text"
      },
      "cell_type": "markdown",
      "source": [
        "# Loading training and test dataset"
      ]
    },
    {
      "metadata": {
        "id": "XI07Z9y28Jre",
        "colab_type": "code",
        "colab": {}
      },
      "cell_type": "code",
      "source": [
        "input = pd.read_csv('./data/train.csv')"
      ],
      "execution_count": 0,
      "outputs": []
    },
    {
      "metadata": {
        "id": "hSXXWwmq8NuN",
        "colab_type": "code",
        "colab": {
          "base_uri": "https://localhost:8080/",
          "height": 253
        },
        "outputId": "52fd91aa-33ea-470a-96e7-007fedcf7609"
      },
      "cell_type": "code",
      "source": [
        "input.head()"
      ],
      "execution_count": 11,
      "outputs": [
        {
          "output_type": "execute_result",
          "data": {
            "text/html": [
              "<div>\n",
              "<style scoped>\n",
              "    .dataframe tbody tr th:only-of-type {\n",
              "        vertical-align: middle;\n",
              "    }\n",
              "\n",
              "    .dataframe tbody tr th {\n",
              "        vertical-align: top;\n",
              "    }\n",
              "\n",
              "    .dataframe thead th {\n",
              "        text-align: right;\n",
              "    }\n",
              "</style>\n",
              "<table border=\"1\" class=\"dataframe\">\n",
              "  <thead>\n",
              "    <tr style=\"text-align: right;\">\n",
              "      <th></th>\n",
              "      <th>label</th>\n",
              "      <th>pixel0</th>\n",
              "      <th>pixel1</th>\n",
              "      <th>pixel2</th>\n",
              "      <th>pixel3</th>\n",
              "      <th>pixel4</th>\n",
              "      <th>pixel5</th>\n",
              "      <th>pixel6</th>\n",
              "      <th>pixel7</th>\n",
              "      <th>pixel8</th>\n",
              "      <th>...</th>\n",
              "      <th>pixel774</th>\n",
              "      <th>pixel775</th>\n",
              "      <th>pixel776</th>\n",
              "      <th>pixel777</th>\n",
              "      <th>pixel778</th>\n",
              "      <th>pixel779</th>\n",
              "      <th>pixel780</th>\n",
              "      <th>pixel781</th>\n",
              "      <th>pixel782</th>\n",
              "      <th>pixel783</th>\n",
              "    </tr>\n",
              "  </thead>\n",
              "  <tbody>\n",
              "    <tr>\n",
              "      <th>0</th>\n",
              "      <td>1</td>\n",
              "      <td>0</td>\n",
              "      <td>0</td>\n",
              "      <td>0</td>\n",
              "      <td>0</td>\n",
              "      <td>0</td>\n",
              "      <td>0</td>\n",
              "      <td>0</td>\n",
              "      <td>0</td>\n",
              "      <td>0</td>\n",
              "      <td>...</td>\n",
              "      <td>0</td>\n",
              "      <td>0</td>\n",
              "      <td>0</td>\n",
              "      <td>0</td>\n",
              "      <td>0</td>\n",
              "      <td>0</td>\n",
              "      <td>0</td>\n",
              "      <td>0</td>\n",
              "      <td>0</td>\n",
              "      <td>0</td>\n",
              "    </tr>\n",
              "    <tr>\n",
              "      <th>1</th>\n",
              "      <td>0</td>\n",
              "      <td>0</td>\n",
              "      <td>0</td>\n",
              "      <td>0</td>\n",
              "      <td>0</td>\n",
              "      <td>0</td>\n",
              "      <td>0</td>\n",
              "      <td>0</td>\n",
              "      <td>0</td>\n",
              "      <td>0</td>\n",
              "      <td>...</td>\n",
              "      <td>0</td>\n",
              "      <td>0</td>\n",
              "      <td>0</td>\n",
              "      <td>0</td>\n",
              "      <td>0</td>\n",
              "      <td>0</td>\n",
              "      <td>0</td>\n",
              "      <td>0</td>\n",
              "      <td>0</td>\n",
              "      <td>0</td>\n",
              "    </tr>\n",
              "    <tr>\n",
              "      <th>2</th>\n",
              "      <td>1</td>\n",
              "      <td>0</td>\n",
              "      <td>0</td>\n",
              "      <td>0</td>\n",
              "      <td>0</td>\n",
              "      <td>0</td>\n",
              "      <td>0</td>\n",
              "      <td>0</td>\n",
              "      <td>0</td>\n",
              "      <td>0</td>\n",
              "      <td>...</td>\n",
              "      <td>0</td>\n",
              "      <td>0</td>\n",
              "      <td>0</td>\n",
              "      <td>0</td>\n",
              "      <td>0</td>\n",
              "      <td>0</td>\n",
              "      <td>0</td>\n",
              "      <td>0</td>\n",
              "      <td>0</td>\n",
              "      <td>0</td>\n",
              "    </tr>\n",
              "    <tr>\n",
              "      <th>3</th>\n",
              "      <td>4</td>\n",
              "      <td>0</td>\n",
              "      <td>0</td>\n",
              "      <td>0</td>\n",
              "      <td>0</td>\n",
              "      <td>0</td>\n",
              "      <td>0</td>\n",
              "      <td>0</td>\n",
              "      <td>0</td>\n",
              "      <td>0</td>\n",
              "      <td>...</td>\n",
              "      <td>0</td>\n",
              "      <td>0</td>\n",
              "      <td>0</td>\n",
              "      <td>0</td>\n",
              "      <td>0</td>\n",
              "      <td>0</td>\n",
              "      <td>0</td>\n",
              "      <td>0</td>\n",
              "      <td>0</td>\n",
              "      <td>0</td>\n",
              "    </tr>\n",
              "    <tr>\n",
              "      <th>4</th>\n",
              "      <td>0</td>\n",
              "      <td>0</td>\n",
              "      <td>0</td>\n",
              "      <td>0</td>\n",
              "      <td>0</td>\n",
              "      <td>0</td>\n",
              "      <td>0</td>\n",
              "      <td>0</td>\n",
              "      <td>0</td>\n",
              "      <td>0</td>\n",
              "      <td>...</td>\n",
              "      <td>0</td>\n",
              "      <td>0</td>\n",
              "      <td>0</td>\n",
              "      <td>0</td>\n",
              "      <td>0</td>\n",
              "      <td>0</td>\n",
              "      <td>0</td>\n",
              "      <td>0</td>\n",
              "      <td>0</td>\n",
              "      <td>0</td>\n",
              "    </tr>\n",
              "  </tbody>\n",
              "</table>\n",
              "<p>5 rows × 785 columns</p>\n",
              "</div>"
            ],
            "text/plain": [
              "   label  pixel0  pixel1  pixel2  pixel3  pixel4  pixel5  pixel6  pixel7  \\\n",
              "0      1       0       0       0       0       0       0       0       0   \n",
              "1      0       0       0       0       0       0       0       0       0   \n",
              "2      1       0       0       0       0       0       0       0       0   \n",
              "3      4       0       0       0       0       0       0       0       0   \n",
              "4      0       0       0       0       0       0       0       0       0   \n",
              "\n",
              "   pixel8    ...     pixel774  pixel775  pixel776  pixel777  pixel778  \\\n",
              "0       0    ...            0         0         0         0         0   \n",
              "1       0    ...            0         0         0         0         0   \n",
              "2       0    ...            0         0         0         0         0   \n",
              "3       0    ...            0         0         0         0         0   \n",
              "4       0    ...            0         0         0         0         0   \n",
              "\n",
              "   pixel779  pixel780  pixel781  pixel782  pixel783  \n",
              "0         0         0         0         0         0  \n",
              "1         0         0         0         0         0  \n",
              "2         0         0         0         0         0  \n",
              "3         0         0         0         0         0  \n",
              "4         0         0         0         0         0  \n",
              "\n",
              "[5 rows x 785 columns]"
            ]
          },
          "metadata": {
            "tags": []
          },
          "execution_count": 11
        }
      ]
    },
    {
      "metadata": {
        "id": "vxvrA2ID8QvN",
        "colab_type": "code",
        "colab": {
          "base_uri": "https://localhost:8080/",
          "height": 51
        },
        "outputId": "03100590-7252-4f24-8db5-8baa298fb71b"
      },
      "cell_type": "code",
      "source": [
        "y = input.iloc[:, 0].values ## First column is the label\n",
        "x = input.iloc[:, 1:].values\n",
        "\n",
        "print(x.shape)\n",
        "print(y.shape)"
      ],
      "execution_count": 7,
      "outputs": [
        {
          "output_type": "stream",
          "text": [
            "(42000, 784)\n",
            "(42000,)\n"
          ],
          "name": "stdout"
        }
      ]
    },
    {
      "metadata": {
        "id": "XHv-GB5o8zu6",
        "colab_type": "code",
        "colab": {
          "base_uri": "https://localhost:8080/",
          "height": 34
        },
        "outputId": "38210e27-7e19-461f-801f-fc7dfaaed78d"
      },
      "cell_type": "code",
      "source": [
        "X_test = pd.read_csv('./data/test.csv')\n",
        "\n",
        "print(X_test.shape)"
      ],
      "execution_count": 8,
      "outputs": [
        {
          "output_type": "stream",
          "text": [
            "(28000, 784)\n"
          ],
          "name": "stdout"
        }
      ]
    },
    {
      "metadata": {
        "id": "EA1msFug93xN",
        "colab_type": "text"
      },
      "cell_type": "markdown",
      "source": [
        "# Exploring y label and categorization"
      ]
    },
    {
      "metadata": {
        "id": "GcI-sLN29g1Q",
        "colab_type": "code",
        "colab": {
          "base_uri": "https://localhost:8080/",
          "height": 34
        },
        "outputId": "14ac02b9-11a5-4000-e962-f7b5918c72d1"
      },
      "cell_type": "code",
      "source": [
        "print(np.unique(y))"
      ],
      "execution_count": 18,
      "outputs": [
        {
          "output_type": "stream",
          "text": [
            "[0 1 2 3 4 5 6 7 8 9]\n"
          ],
          "name": "stdout"
        }
      ]
    },
    {
      "metadata": {
        "id": "xuQpEUF39o4P",
        "colab_type": "code",
        "colab": {}
      },
      "cell_type": "code",
      "source": [
        "#from sklearn.preprocessing import OneHotEncoder"
      ],
      "execution_count": 0,
      "outputs": []
    },
    {
      "metadata": {
        "id": "-RFDTFwHCNXu",
        "colab_type": "code",
        "colab": {}
      },
      "cell_type": "code",
      "source": [
        "#enc = OneHotEncoder()\n",
        "#enc.fit(x.split() for x in y)\n",
        "#y_encoded = enc.transform(x.split() for x in y).toarray()"
      ],
      "execution_count": 0,
      "outputs": []
    },
    {
      "metadata": {
        "id": "um64PYzyDMVy",
        "colab_type": "code",
        "colab": {
          "base_uri": "https://localhost:8080/",
          "height": 34
        },
        "outputId": "4ce974e6-93de-435c-b042-70f9ab0526fc"
      },
      "cell_type": "code",
      "source": [
        "from keras.utils import np_utils"
      ],
      "execution_count": 9,
      "outputs": [
        {
          "output_type": "stream",
          "text": [
            "Using TensorFlow backend.\n"
          ],
          "name": "stderr"
        }
      ]
    },
    {
      "metadata": {
        "id": "q7m6DJYBDfqh",
        "colab_type": "code",
        "colab": {
          "base_uri": "https://localhost:8080/",
          "height": 34
        },
        "outputId": "40b353db-b13c-474a-b7a5-79a592796a5c"
      },
      "cell_type": "code",
      "source": [
        "y_encoded = np_utils.to_categorical(y)\n",
        "print(y_encoded.shape)"
      ],
      "execution_count": 10,
      "outputs": [
        {
          "output_type": "stream",
          "text": [
            "(42000, 10)\n"
          ],
          "name": "stdout"
        }
      ]
    },
    {
      "metadata": {
        "id": "oO1YkSBye78M",
        "colab_type": "code",
        "colab": {}
      },
      "cell_type": "code",
      "source": [
        "x_4d = x.reshape(x.shape[0], 28, 28, 1)"
      ],
      "execution_count": 0,
      "outputs": []
    },
    {
      "metadata": {
        "id": "Cm-H3Uj9e6jm",
        "colab_type": "code",
        "colab": {
          "base_uri": "https://localhost:8080/",
          "height": 34
        },
        "outputId": "f65cb9ab-9173-4396-bc27-46b71951fd8b"
      },
      "cell_type": "code",
      "source": [
        "x_4d.shape"
      ],
      "execution_count": 25,
      "outputs": [
        {
          "output_type": "execute_result",
          "data": {
            "text/plain": [
              "(42000, 28, 28, 1)"
            ]
          },
          "metadata": {
            "tags": []
          },
          "execution_count": 25
        }
      ]
    },
    {
      "metadata": {
        "id": "pLvr1FtDDyzn",
        "colab_type": "code",
        "colab": {}
      },
      "cell_type": "code",
      "source": [
        "mean_px = x_4d.mean().astype(np.float32)\n",
        "std_px = x_4d.std().astype(np.float32)\n",
        "\n",
        "def normalize_data(X):\n",
        "    return (X - mean_px) / std_px"
      ],
      "execution_count": 0,
      "outputs": []
    },
    {
      "metadata": {
        "id": "Zpdyqw_sezwG",
        "colab_type": "code",
        "colab": {}
      },
      "cell_type": "code",
      "source": [
        "#x_norm = normalize_data(x)"
      ],
      "execution_count": 0,
      "outputs": []
    },
    {
      "metadata": {
        "id": "SGuOIb3ne3lv",
        "colab_type": "code",
        "colab": {
          "base_uri": "https://localhost:8080/",
          "height": 244
        },
        "outputId": "5fab42c0-1268-4b2c-8569-8b3a759adc80"
      },
      "cell_type": "code",
      "source": [
        "#x_norm.head()"
      ],
      "execution_count": 42,
      "outputs": [
        {
          "output_type": "execute_result",
          "data": {
            "text/html": [
              "<div>\n",
              "<style scoped>\n",
              "    .dataframe tbody tr th:only-of-type {\n",
              "        vertical-align: middle;\n",
              "    }\n",
              "\n",
              "    .dataframe tbody tr th {\n",
              "        vertical-align: top;\n",
              "    }\n",
              "\n",
              "    .dataframe thead th {\n",
              "        text-align: right;\n",
              "    }\n",
              "</style>\n",
              "<table border=\"1\" class=\"dataframe\">\n",
              "  <thead>\n",
              "    <tr style=\"text-align: right;\">\n",
              "      <th></th>\n",
              "      <th>pixel0</th>\n",
              "      <th>pixel1</th>\n",
              "      <th>pixel2</th>\n",
              "      <th>pixel3</th>\n",
              "      <th>pixel4</th>\n",
              "      <th>pixel5</th>\n",
              "      <th>pixel6</th>\n",
              "      <th>pixel7</th>\n",
              "      <th>pixel8</th>\n",
              "      <th>pixel9</th>\n",
              "      <th>...</th>\n",
              "      <th>pixel774</th>\n",
              "      <th>pixel775</th>\n",
              "      <th>pixel776</th>\n",
              "      <th>pixel777</th>\n",
              "      <th>pixel778</th>\n",
              "      <th>pixel779</th>\n",
              "      <th>pixel780</th>\n",
              "      <th>pixel781</th>\n",
              "      <th>pixel782</th>\n",
              "      <th>pixel783</th>\n",
              "    </tr>\n",
              "  </thead>\n",
              "  <tbody>\n",
              "    <tr>\n",
              "      <th>0</th>\n",
              "      <td>NaN</td>\n",
              "      <td>NaN</td>\n",
              "      <td>NaN</td>\n",
              "      <td>NaN</td>\n",
              "      <td>NaN</td>\n",
              "      <td>NaN</td>\n",
              "      <td>NaN</td>\n",
              "      <td>NaN</td>\n",
              "      <td>NaN</td>\n",
              "      <td>NaN</td>\n",
              "      <td>...</td>\n",
              "      <td>-0.034736</td>\n",
              "      <td>-0.02527</td>\n",
              "      <td>-0.018025</td>\n",
              "      <td>-0.011473</td>\n",
              "      <td>-0.009099</td>\n",
              "      <td>-0.006897</td>\n",
              "      <td>NaN</td>\n",
              "      <td>NaN</td>\n",
              "      <td>NaN</td>\n",
              "      <td>NaN</td>\n",
              "    </tr>\n",
              "    <tr>\n",
              "      <th>1</th>\n",
              "      <td>NaN</td>\n",
              "      <td>NaN</td>\n",
              "      <td>NaN</td>\n",
              "      <td>NaN</td>\n",
              "      <td>NaN</td>\n",
              "      <td>NaN</td>\n",
              "      <td>NaN</td>\n",
              "      <td>NaN</td>\n",
              "      <td>NaN</td>\n",
              "      <td>NaN</td>\n",
              "      <td>...</td>\n",
              "      <td>-0.034736</td>\n",
              "      <td>-0.02527</td>\n",
              "      <td>-0.018025</td>\n",
              "      <td>-0.011473</td>\n",
              "      <td>-0.009099</td>\n",
              "      <td>-0.006897</td>\n",
              "      <td>NaN</td>\n",
              "      <td>NaN</td>\n",
              "      <td>NaN</td>\n",
              "      <td>NaN</td>\n",
              "    </tr>\n",
              "    <tr>\n",
              "      <th>2</th>\n",
              "      <td>NaN</td>\n",
              "      <td>NaN</td>\n",
              "      <td>NaN</td>\n",
              "      <td>NaN</td>\n",
              "      <td>NaN</td>\n",
              "      <td>NaN</td>\n",
              "      <td>NaN</td>\n",
              "      <td>NaN</td>\n",
              "      <td>NaN</td>\n",
              "      <td>NaN</td>\n",
              "      <td>...</td>\n",
              "      <td>-0.034736</td>\n",
              "      <td>-0.02527</td>\n",
              "      <td>-0.018025</td>\n",
              "      <td>-0.011473</td>\n",
              "      <td>-0.009099</td>\n",
              "      <td>-0.006897</td>\n",
              "      <td>NaN</td>\n",
              "      <td>NaN</td>\n",
              "      <td>NaN</td>\n",
              "      <td>NaN</td>\n",
              "    </tr>\n",
              "    <tr>\n",
              "      <th>3</th>\n",
              "      <td>NaN</td>\n",
              "      <td>NaN</td>\n",
              "      <td>NaN</td>\n",
              "      <td>NaN</td>\n",
              "      <td>NaN</td>\n",
              "      <td>NaN</td>\n",
              "      <td>NaN</td>\n",
              "      <td>NaN</td>\n",
              "      <td>NaN</td>\n",
              "      <td>NaN</td>\n",
              "      <td>...</td>\n",
              "      <td>-0.034736</td>\n",
              "      <td>-0.02527</td>\n",
              "      <td>-0.018025</td>\n",
              "      <td>-0.011473</td>\n",
              "      <td>-0.009099</td>\n",
              "      <td>-0.006897</td>\n",
              "      <td>NaN</td>\n",
              "      <td>NaN</td>\n",
              "      <td>NaN</td>\n",
              "      <td>NaN</td>\n",
              "    </tr>\n",
              "    <tr>\n",
              "      <th>4</th>\n",
              "      <td>NaN</td>\n",
              "      <td>NaN</td>\n",
              "      <td>NaN</td>\n",
              "      <td>NaN</td>\n",
              "      <td>NaN</td>\n",
              "      <td>NaN</td>\n",
              "      <td>NaN</td>\n",
              "      <td>NaN</td>\n",
              "      <td>NaN</td>\n",
              "      <td>NaN</td>\n",
              "      <td>...</td>\n",
              "      <td>-0.034736</td>\n",
              "      <td>-0.02527</td>\n",
              "      <td>-0.018025</td>\n",
              "      <td>-0.011473</td>\n",
              "      <td>-0.009099</td>\n",
              "      <td>-0.006897</td>\n",
              "      <td>NaN</td>\n",
              "      <td>NaN</td>\n",
              "      <td>NaN</td>\n",
              "      <td>NaN</td>\n",
              "    </tr>\n",
              "  </tbody>\n",
              "</table>\n",
              "<p>5 rows × 784 columns</p>\n",
              "</div>"
            ],
            "text/plain": [
              "   pixel0  pixel1  pixel2  pixel3  pixel4  pixel5  pixel6  pixel7  pixel8  \\\n",
              "0     NaN     NaN     NaN     NaN     NaN     NaN     NaN     NaN     NaN   \n",
              "1     NaN     NaN     NaN     NaN     NaN     NaN     NaN     NaN     NaN   \n",
              "2     NaN     NaN     NaN     NaN     NaN     NaN     NaN     NaN     NaN   \n",
              "3     NaN     NaN     NaN     NaN     NaN     NaN     NaN     NaN     NaN   \n",
              "4     NaN     NaN     NaN     NaN     NaN     NaN     NaN     NaN     NaN   \n",
              "\n",
              "   pixel9    ...     pixel774  pixel775  pixel776  pixel777  pixel778  \\\n",
              "0     NaN    ...    -0.034736  -0.02527 -0.018025 -0.011473 -0.009099   \n",
              "1     NaN    ...    -0.034736  -0.02527 -0.018025 -0.011473 -0.009099   \n",
              "2     NaN    ...    -0.034736  -0.02527 -0.018025 -0.011473 -0.009099   \n",
              "3     NaN    ...    -0.034736  -0.02527 -0.018025 -0.011473 -0.009099   \n",
              "4     NaN    ...    -0.034736  -0.02527 -0.018025 -0.011473 -0.009099   \n",
              "\n",
              "   pixel779  pixel780  pixel781  pixel782  pixel783  \n",
              "0 -0.006897       NaN       NaN       NaN       NaN  \n",
              "1 -0.006897       NaN       NaN       NaN       NaN  \n",
              "2 -0.006897       NaN       NaN       NaN       NaN  \n",
              "3 -0.006897       NaN       NaN       NaN       NaN  \n",
              "4 -0.006897       NaN       NaN       NaN       NaN  \n",
              "\n",
              "[5 rows x 784 columns]"
            ]
          },
          "metadata": {
            "tags": []
          },
          "execution_count": 42
        }
      ]
    },
    {
      "metadata": {
        "id": "V4R2NmwpmhiY",
        "colab_type": "code",
        "colab": {
          "base_uri": "https://localhost:8080/",
          "height": 4318
        },
        "outputId": "45222fc3-301f-4bbf-b5b9-1e9e53e655b0"
      },
      "cell_type": "code",
      "source": [
        "x_norm = normalize_data(x_4d)\n",
        "\n",
        "x_norm[:5,:]"
      ],
      "execution_count": 15,
      "outputs": [
        {
          "output_type": "execute_result",
          "data": {
            "text/plain": [
              "array([[[[-0.42462978],\n",
              "         [-0.42462978],\n",
              "         [-0.42462978],\n",
              "         ...,\n",
              "         [-0.42462978],\n",
              "         [-0.42462978],\n",
              "         [-0.42462978]],\n",
              "\n",
              "        [[-0.42462978],\n",
              "         [-0.42462978],\n",
              "         [-0.42462978],\n",
              "         ...,\n",
              "         [-0.42462978],\n",
              "         [-0.42462978],\n",
              "         [-0.42462978]],\n",
              "\n",
              "        [[-0.42462978],\n",
              "         [-0.42462978],\n",
              "         [-0.42462978],\n",
              "         ...,\n",
              "         [-0.42462978],\n",
              "         [-0.42462978],\n",
              "         [-0.42462978]],\n",
              "\n",
              "        ...,\n",
              "\n",
              "        [[-0.42462978],\n",
              "         [-0.42462978],\n",
              "         [-0.42462978],\n",
              "         ...,\n",
              "         [-0.42462978],\n",
              "         [-0.42462978],\n",
              "         [-0.42462978]],\n",
              "\n",
              "        [[-0.42462978],\n",
              "         [-0.42462978],\n",
              "         [-0.42462978],\n",
              "         ...,\n",
              "         [-0.42462978],\n",
              "         [-0.42462978],\n",
              "         [-0.42462978]],\n",
              "\n",
              "        [[-0.42462978],\n",
              "         [-0.42462978],\n",
              "         [-0.42462978],\n",
              "         ...,\n",
              "         [-0.42462978],\n",
              "         [-0.42462978],\n",
              "         [-0.42462978]]],\n",
              "\n",
              "\n",
              "       [[[-0.42462978],\n",
              "         [-0.42462978],\n",
              "         [-0.42462978],\n",
              "         ...,\n",
              "         [-0.42462978],\n",
              "         [-0.42462978],\n",
              "         [-0.42462978]],\n",
              "\n",
              "        [[-0.42462978],\n",
              "         [-0.42462978],\n",
              "         [-0.42462978],\n",
              "         ...,\n",
              "         [-0.42462978],\n",
              "         [-0.42462978],\n",
              "         [-0.42462978]],\n",
              "\n",
              "        [[-0.42462978],\n",
              "         [-0.42462978],\n",
              "         [-0.42462978],\n",
              "         ...,\n",
              "         [-0.42462978],\n",
              "         [-0.42462978],\n",
              "         [-0.42462978]],\n",
              "\n",
              "        ...,\n",
              "\n",
              "        [[-0.42462978],\n",
              "         [-0.42462978],\n",
              "         [-0.42462978],\n",
              "         ...,\n",
              "         [-0.42462978],\n",
              "         [-0.42462978],\n",
              "         [-0.42462978]],\n",
              "\n",
              "        [[-0.42462978],\n",
              "         [-0.42462978],\n",
              "         [-0.42462978],\n",
              "         ...,\n",
              "         [-0.42462978],\n",
              "         [-0.42462978],\n",
              "         [-0.42462978]],\n",
              "\n",
              "        [[-0.42462978],\n",
              "         [-0.42462978],\n",
              "         [-0.42462978],\n",
              "         ...,\n",
              "         [-0.42462978],\n",
              "         [-0.42462978],\n",
              "         [-0.42462978]]],\n",
              "\n",
              "\n",
              "       [[[-0.42462978],\n",
              "         [-0.42462978],\n",
              "         [-0.42462978],\n",
              "         ...,\n",
              "         [-0.42462978],\n",
              "         [-0.42462978],\n",
              "         [-0.42462978]],\n",
              "\n",
              "        [[-0.42462978],\n",
              "         [-0.42462978],\n",
              "         [-0.42462978],\n",
              "         ...,\n",
              "         [-0.42462978],\n",
              "         [-0.42462978],\n",
              "         [-0.42462978]],\n",
              "\n",
              "        [[-0.42462978],\n",
              "         [-0.42462978],\n",
              "         [-0.42462978],\n",
              "         ...,\n",
              "         [-0.42462978],\n",
              "         [-0.42462978],\n",
              "         [-0.42462978]],\n",
              "\n",
              "        ...,\n",
              "\n",
              "        [[-0.42462978],\n",
              "         [-0.42462978],\n",
              "         [-0.42462978],\n",
              "         ...,\n",
              "         [-0.42462978],\n",
              "         [-0.42462978],\n",
              "         [-0.42462978]],\n",
              "\n",
              "        [[-0.42462978],\n",
              "         [-0.42462978],\n",
              "         [-0.42462978],\n",
              "         ...,\n",
              "         [-0.42462978],\n",
              "         [-0.42462978],\n",
              "         [-0.42462978]],\n",
              "\n",
              "        [[-0.42462978],\n",
              "         [-0.42462978],\n",
              "         [-0.42462978],\n",
              "         ...,\n",
              "         [-0.42462978],\n",
              "         [-0.42462978],\n",
              "         [-0.42462978]]],\n",
              "\n",
              "\n",
              "       [[[-0.42462978],\n",
              "         [-0.42462978],\n",
              "         [-0.42462978],\n",
              "         ...,\n",
              "         [-0.42462978],\n",
              "         [-0.42462978],\n",
              "         [-0.42462978]],\n",
              "\n",
              "        [[-0.42462978],\n",
              "         [-0.42462978],\n",
              "         [-0.42462978],\n",
              "         ...,\n",
              "         [-0.42462978],\n",
              "         [-0.42462978],\n",
              "         [-0.42462978]],\n",
              "\n",
              "        [[-0.42462978],\n",
              "         [-0.42462978],\n",
              "         [-0.42462978],\n",
              "         ...,\n",
              "         [-0.42462978],\n",
              "         [-0.42462978],\n",
              "         [-0.42462978]],\n",
              "\n",
              "        ...,\n",
              "\n",
              "        [[-0.42462978],\n",
              "         [-0.42462978],\n",
              "         [-0.42462978],\n",
              "         ...,\n",
              "         [-0.42462978],\n",
              "         [-0.42462978],\n",
              "         [-0.42462978]],\n",
              "\n",
              "        [[-0.42462978],\n",
              "         [-0.42462978],\n",
              "         [-0.42462978],\n",
              "         ...,\n",
              "         [-0.42462978],\n",
              "         [-0.42462978],\n",
              "         [-0.42462978]],\n",
              "\n",
              "        [[-0.42462978],\n",
              "         [-0.42462978],\n",
              "         [-0.42462978],\n",
              "         ...,\n",
              "         [-0.42462978],\n",
              "         [-0.42462978],\n",
              "         [-0.42462978]]],\n",
              "\n",
              "\n",
              "       [[[-0.42462978],\n",
              "         [-0.42462978],\n",
              "         [-0.42462978],\n",
              "         ...,\n",
              "         [-0.42462978],\n",
              "         [-0.42462978],\n",
              "         [-0.42462978]],\n",
              "\n",
              "        [[-0.42462978],\n",
              "         [-0.42462978],\n",
              "         [-0.42462978],\n",
              "         ...,\n",
              "         [-0.42462978],\n",
              "         [-0.42462978],\n",
              "         [-0.42462978]],\n",
              "\n",
              "        [[-0.42462978],\n",
              "         [-0.42462978],\n",
              "         [-0.42462978],\n",
              "         ...,\n",
              "         [-0.42462978],\n",
              "         [-0.42462978],\n",
              "         [-0.42462978]],\n",
              "\n",
              "        ...,\n",
              "\n",
              "        [[-0.42462978],\n",
              "         [-0.42462978],\n",
              "         [-0.42462978],\n",
              "         ...,\n",
              "         [-0.42462978],\n",
              "         [-0.42462978],\n",
              "         [-0.42462978]],\n",
              "\n",
              "        [[-0.42462978],\n",
              "         [-0.42462978],\n",
              "         [-0.42462978],\n",
              "         ...,\n",
              "         [-0.42462978],\n",
              "         [-0.42462978],\n",
              "         [-0.42462978]],\n",
              "\n",
              "        [[-0.42462978],\n",
              "         [-0.42462978],\n",
              "         [-0.42462978],\n",
              "         ...,\n",
              "         [-0.42462978],\n",
              "         [-0.42462978],\n",
              "         [-0.42462978]]]])"
            ]
          },
          "metadata": {
            "tags": []
          },
          "execution_count": 15
        }
      ]
    },
    {
      "metadata": {
        "id": "RjKjQt8gm4Ml",
        "colab_type": "code",
        "colab": {
          "base_uri": "https://localhost:8080/",
          "height": 204
        },
        "outputId": "b231a472-98a1-4d7b-9f0b-a7ea7e8edd40"
      },
      "cell_type": "code",
      "source": [
        "x_temp = x_norm.reshape(x_norm.shape[0], 28, 28)\n",
        "for i in range(1, 5):\n",
        "    plt.subplot(330 + (i+1))\n",
        "    plt.imshow(x_temp[i], cmap=plt.get_cmap('gray'))\n",
        "    plt.title(y[i]);"
      ],
      "execution_count": 16,
      "outputs": [
        {
          "output_type": "display_data",
          "data": {
            "image/png": "[encoded data removed]",
            "text/plain": [
              "<matplotlib.figure.Figure at 0x7f875505be80>"
            ]
          },
          "metadata": {
            "tags": []
          }
        }
      ]
    },
    {
      "metadata": {
        "id": "6dVsDVivkLeQ",
        "colab_type": "text"
      },
      "cell_type": "markdown",
      "source": [
        "# Preparing Training Dataset"
      ]
    },
    {
      "metadata": {
        "id": "hLpQg3d3kOZN",
        "colab_type": "code",
        "colab": {}
      },
      "cell_type": "code",
      "source": [
        "random_seed = 23\n",
        "\n",
        "X_train, X_val, Y_train, Y_val = train_test_split(\n",
        "    x_norm, y_encoded, test_size = 0.1, random_state = random_seed)"
      ],
      "execution_count": 0,
      "outputs": []
    },
    {
      "metadata": {
        "id": "StCgKgDinL1c",
        "colab_type": "text"
      },
      "cell_type": "markdown",
      "source": [
        "# Training input Dataset"
      ]
    },
    {
      "metadata": {
        "id": "x8dX15a0j0as",
        "colab_type": "code",
        "colab": {}
      },
      "cell_type": "code",
      "source": [
        "from keras import layers\n",
        "from keras import optimizers\n",
        "from keras import activations\n",
        "from keras import models"
      ],
      "execution_count": 0,
      "outputs": []
    },
    {
      "metadata": {
        "id": "6WwzNCd7lWZ_",
        "colab_type": "code",
        "colab": {}
      },
      "cell_type": "code",
      "source": [
        "def create_CNN():\n",
        "    model = models.Sequential([\n",
        "        layers.core.Lambda(normalize_data, input_shape=(28, 28, 1)),\n",
        "        layers.Conv2D(32, (3, 3), activation='relu'),\n",
        "        layers.Conv2D(32, (3, 3), activation='relu'),\n",
        "        layers.MaxPooling2D(),\n",
        "        layers.Conv2D(64, (3, 3), activation='relu'),\n",
        "        layers.Conv2D(64, (3, 3), activation='relu'),\n",
        "        layers.MaxPooling2D(),\n",
        "        layers.core.Flatten(),\n",
        "        layers.core.Dense(512, activation='relu'),\n",
        "        layers.core.Dense(10, activation='softmax')\n",
        "    ])\n",
        "    \n",
        "    model.compile(optimizers.Adam(lr=0.01),\n",
        "                 loss='categorical_crossentropy',\n",
        "                 metrics=['accuracy'])\n",
        "    \n",
        "    return model"
      ],
      "execution_count": 0,
      "outputs": []
    },
    {
      "metadata": {
        "id": "-qfJoz__oiPA",
        "colab_type": "code",
        "colab": {}
      },
      "cell_type": "code",
      "source": [
        "from keras.preprocessing import image\n",
        "gen = image.ImageDataGenerator()\n",
        "\n",
        "batches = gen.flow(X_train, Y_train, batch_size=64)\n",
        "val_batches = gen.flow(X_val, Y_val, batch_size=64)"
      ],
      "execution_count": 0,
      "outputs": []
    },
    {
      "metadata": {
        "id": "IDrijhP4qE-I",
        "colab_type": "code",
        "colab": {
          "base_uri": "https://localhost:8080/",
          "height": 34
        },
        "outputId": "96d1a680-b6b0-46e1-9438-ec84d6479798"
      },
      "cell_type": "code",
      "source": [
        "print(batches.n)"
      ],
      "execution_count": 38,
      "outputs": [
        {
          "output_type": "stream",
          "text": [
            "37800\n"
          ],
          "name": "stdout"
        }
      ]
    },
    {
      "metadata": {
        "id": "t5_ao1q7oRG_",
        "colab_type": "code",
        "colab": {}
      },
      "cell_type": "code",
      "source": [
        "model = create_CNN()\n",
        "\n",
        "epochs = 3"
      ],
      "execution_count": 0,
      "outputs": []
    },
    {
      "metadata": {
        "id": "-gVHMw4eqN4T",
        "colab_type": "code",
        "colab": {
          "base_uri": "https://localhost:8080/",
          "height": 51
        },
        "outputId": "c100802b-e337-486b-d70e-7c9527b06571"
      },
      "cell_type": "code",
      "source": [
        "res = model.fit_generator(generator=batches,\n",
        "                         steps_per_epoch=batches.n,\n",
        "                         epochs=epochs,\n",
        "                         validation_data=val_batches,\n",
        "                         validation_steps=val_batches.n)\n"
      ],
      "execution_count": 0,
      "outputs": [
        {
          "output_type": "stream",
          "text": [
            "Epoch 1/3\n",
            " 2234/37800 [>.............................] - ETA: 10:38 - loss: 2.3025 - acc: 0.1093"
          ],
          "name": "stdout"
        }
      ]
    },
    {
      "metadata": {
        "id": "3cx3LSXirYf_",
        "colab_type": "code",
        "colab": {}
      },
      "cell_type": "code",
      "source": [
        ""
      ],
      "execution_count": 0,
      "outputs": []
    }
  ]
}